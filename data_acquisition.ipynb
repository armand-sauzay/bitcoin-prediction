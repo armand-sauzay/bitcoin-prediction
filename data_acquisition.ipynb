{
 "metadata": {
  "language_info": {
   "codemirror_mode": {
    "name": "ipython",
    "version": 3
   },
   "file_extension": ".py",
   "mimetype": "text/x-python",
   "name": "python",
   "nbconvert_exporter": "python",
   "pygments_lexer": "ipython3",
   "version": "3.8.3-final"
  },
  "orig_nbformat": 2,
  "kernelspec": {
   "name": "python3",
   "display_name": "Python 3.8.3 64-bit ('base': conda)",
   "metadata": {
    "interpreter": {
     "hash": "dca0ade3e726a953b501b15e8e990130d2b7799f14cfd9f4271676035ebe5511"
    }
   }
  }
 },
 "nbformat": 4,
 "nbformat_minor": 2,
 "cells": [
  {
   "cell_type": "code",
   "execution_count": 1,
   "metadata": {},
   "outputs": [
    {
     "output_type": "stream",
     "name": "stdout",
     "text": [
      "Collecting git+https://github.com/ozgur/python-firebase\n",
      "  Cloning https://github.com/ozgur/python-firebase to /private/var/folders/f5/3gmh6p997t3_r41bh3fnwx0h0000gn/T/pip-req-build-smypsecn\n",
      "Requirement already satisfied: requests>=1.1.0 in /opt/anaconda3/lib/python3.8/site-packages (from python-firebase==1.2.1) (2.25.1)\n",
      "Requirement already satisfied: idna<3,>=2.5 in /opt/anaconda3/lib/python3.8/site-packages (from requests>=1.1.0->python-firebase==1.2.1) (2.10)\n",
      "Requirement already satisfied: chardet<5,>=3.0.2 in /opt/anaconda3/lib/python3.8/site-packages (from requests>=1.1.0->python-firebase==1.2.1) (4.0.0)\n",
      "Requirement already satisfied: certifi>=2017.4.17 in /opt/anaconda3/lib/python3.8/site-packages (from requests>=1.1.0->python-firebase==1.2.1) (2020.12.5)\n",
      "Requirement already satisfied: urllib3<1.27,>=1.21.1 in /opt/anaconda3/lib/python3.8/site-packages (from requests>=1.1.0->python-firebase==1.2.1) (1.26.3)\n",
      "Building wheels for collected packages: python-firebase\n",
      "  Building wheel for python-firebase (setup.py) ... \u001b[?25ldone\n",
      "\u001b[?25h  Created wheel for python-firebase: filename=python_firebase-1.2.1-py3-none-any.whl size=12533 sha256=c9509740c3d68920c9ebcc2a12ed54f8d658fdff31e7bebf4770f1e30ce78f35\n",
      "  Stored in directory: /private/var/folders/f5/3gmh6p997t3_r41bh3fnwx0h0000gn/T/pip-ephem-wheel-cache-aizeh5lm/wheels/17/81/d0/4fdceaba8d3525f117fa5d3662b2c5a41ebe62411529ffa76b\n",
      "Successfully built python-firebase\n",
      "Installing collected packages: python-firebase\n",
      "Successfully installed python-firebase-1.2.1\n"
     ]
    }
   ],
   "source": [
    "!pip install git+https://github.com/ozgur/python-firebase #the latest version of python-firebase didn't make it to PiPI\n"
   ]
  },
  {
   "cell_type": "code",
   "execution_count": 5,
   "metadata": {},
   "outputs": [],
   "source": [
    "import pandas as pd\n",
    "from firebase import firebase\n",
    "my_firebase = firebase.FirebaseApplication('https://test-random-305921-default-rtdb.firebaseio.com/', None)"
   ]
  },
  {
   "source": [
    "# Get trades"
   ],
   "cell_type": "markdown",
   "metadata": {}
  },
  {
   "cell_type": "code",
   "execution_count": 24,
   "metadata": {},
   "outputs": [
    {
     "output_type": "execute_result",
     "data": {
      "text/plain": [
       "                          time       bid       ask     price        size\n",
       "0  2021-03-02T18:55:38.193304Z  47672.34  47672.35  47672.34  0.00337311\n",
       "1   2021-03-02T18:55:41.11686Z  47672.34  47672.35  47672.34  0.00107518\n",
       "2  2021-03-02T18:55:43.994527Z  47672.34  47672.35  47672.34  0.01470698\n",
       "3  2021-03-02T18:55:46.999105Z  47688.67  47688.68  47688.68  0.00038639\n",
       "4  2021-03-02T18:55:48.583173Z  47699.61  47701.99  47698.63  0.00058462"
      ],
      "text/html": "<div>\n<style scoped>\n    .dataframe tbody tr th:only-of-type {\n        vertical-align: middle;\n    }\n\n    .dataframe tbody tr th {\n        vertical-align: top;\n    }\n\n    .dataframe thead th {\n        text-align: right;\n    }\n</style>\n<table border=\"1\" class=\"dataframe\">\n  <thead>\n    <tr style=\"text-align: right;\">\n      <th></th>\n      <th>time</th>\n      <th>bid</th>\n      <th>ask</th>\n      <th>price</th>\n      <th>size</th>\n    </tr>\n  </thead>\n  <tbody>\n    <tr>\n      <th>0</th>\n      <td>2021-03-02T18:55:38.193304Z</td>\n      <td>47672.34</td>\n      <td>47672.35</td>\n      <td>47672.34</td>\n      <td>0.00337311</td>\n    </tr>\n    <tr>\n      <th>1</th>\n      <td>2021-03-02T18:55:41.11686Z</td>\n      <td>47672.34</td>\n      <td>47672.35</td>\n      <td>47672.34</td>\n      <td>0.00107518</td>\n    </tr>\n    <tr>\n      <th>2</th>\n      <td>2021-03-02T18:55:43.994527Z</td>\n      <td>47672.34</td>\n      <td>47672.35</td>\n      <td>47672.34</td>\n      <td>0.01470698</td>\n    </tr>\n    <tr>\n      <th>3</th>\n      <td>2021-03-02T18:55:46.999105Z</td>\n      <td>47688.67</td>\n      <td>47688.68</td>\n      <td>47688.68</td>\n      <td>0.00038639</td>\n    </tr>\n    <tr>\n      <th>4</th>\n      <td>2021-03-02T18:55:48.583173Z</td>\n      <td>47699.61</td>\n      <td>47701.99</td>\n      <td>47698.63</td>\n      <td>0.00058462</td>\n    </tr>\n  </tbody>\n</table>\n</div>"
     },
     "metadata": {},
     "execution_count": 24
    }
   ],
   "source": [
    "test_trades=my_firebase.get('/trades', '') #will get you the data in json format\n",
    "df_trades = pd.DataFrame(test_trades).T.reset_index(drop=True) #will get you the data in dataframe format\n",
    "df_trades = df_trades[['time','bid','ask','price','size']]\n",
    "df_trades.head()\n"
   ]
  },
  {
   "source": [
    "# Get Order Book"
   ],
   "cell_type": "markdown",
   "metadata": {}
  },
  {
   "cell_type": "code",
   "execution_count": 13,
   "metadata": {},
   "outputs": [],
   "source": [
    "test_order_book=my_firebase.get('/order_book', '')\n",
    "#pd.DataFrame(test_order_book).T.reset_index(drop=True) "
   ]
  },
  {
   "cell_type": "code",
   "execution_count": 19,
   "metadata": {},
   "outputs": [],
   "source": [
    "def dataframe_order_book(all):\n",
    "  #data postprocessing\n",
    "  df=pd.DataFrame(all).T.reset_index(drop=True)\n",
    "  df['bids']=pd.DataFrame(df['bids'].to_list())\n",
    "  df[['bid_price','bid_volume', 'bid_n_order']]=pd.DataFrame(df['bids'].to_list())\n",
    "  df['asks']=pd.DataFrame(df['asks'].to_list())\n",
    "  df[['ask_price','ask_volume', 'ask_n_order']]=pd.DataFrame(df['asks'].to_list())\n",
    "  df.drop('bids', inplace=True, axis=1)\n",
    "  df.drop('asks', inplace=True, axis=1)\n",
    "  df.drop('sequence',inplace=True, axis=1)\n",
    "  df.drop_duplicates()\n",
    "  return df"
   ]
  },
  {
   "cell_type": "code",
   "execution_count": 20,
   "metadata": {},
   "outputs": [
    {
     "output_type": "execute_result",
     "data": {
      "text/plain": [
       "                         time bid_price  bid_volume  bid_n_order ask_price  \\\n",
       "0  2021-03-02T18:55:39.965773  47672.34  0.95242759           20  47672.35   \n",
       "1  2021-03-02T18:55:42.653463  47672.34   1.0414105           23  47672.35   \n",
       "2  2021-03-02T18:55:45.011274  47672.34  1.03025255           24  47672.35   \n",
       "3  2021-03-02T18:55:47.441547  47688.67  1.70408471           11  47688.68   \n",
       "4  2021-03-02T18:55:49.818212  47709.38  0.02179303            1  47709.39   \n",
       "\n",
       "   ask_volume  ask_n_order  \n",
       "0  0.19771833            6  \n",
       "1  0.16779153            5  \n",
       "2  0.16779153            5  \n",
       "3   0.0016865            2  \n",
       "4  0.02607892            1  "
      ],
      "text/html": "<div>\n<style scoped>\n    .dataframe tbody tr th:only-of-type {\n        vertical-align: middle;\n    }\n\n    .dataframe tbody tr th {\n        vertical-align: top;\n    }\n\n    .dataframe thead th {\n        text-align: right;\n    }\n</style>\n<table border=\"1\" class=\"dataframe\">\n  <thead>\n    <tr style=\"text-align: right;\">\n      <th></th>\n      <th>time</th>\n      <th>bid_price</th>\n      <th>bid_volume</th>\n      <th>bid_n_order</th>\n      <th>ask_price</th>\n      <th>ask_volume</th>\n      <th>ask_n_order</th>\n    </tr>\n  </thead>\n  <tbody>\n    <tr>\n      <th>0</th>\n      <td>2021-03-02T18:55:39.965773</td>\n      <td>47672.34</td>\n      <td>0.95242759</td>\n      <td>20</td>\n      <td>47672.35</td>\n      <td>0.19771833</td>\n      <td>6</td>\n    </tr>\n    <tr>\n      <th>1</th>\n      <td>2021-03-02T18:55:42.653463</td>\n      <td>47672.34</td>\n      <td>1.0414105</td>\n      <td>23</td>\n      <td>47672.35</td>\n      <td>0.16779153</td>\n      <td>5</td>\n    </tr>\n    <tr>\n      <th>2</th>\n      <td>2021-03-02T18:55:45.011274</td>\n      <td>47672.34</td>\n      <td>1.03025255</td>\n      <td>24</td>\n      <td>47672.35</td>\n      <td>0.16779153</td>\n      <td>5</td>\n    </tr>\n    <tr>\n      <th>3</th>\n      <td>2021-03-02T18:55:47.441547</td>\n      <td>47688.67</td>\n      <td>1.70408471</td>\n      <td>11</td>\n      <td>47688.68</td>\n      <td>0.0016865</td>\n      <td>2</td>\n    </tr>\n    <tr>\n      <th>4</th>\n      <td>2021-03-02T18:55:49.818212</td>\n      <td>47709.38</td>\n      <td>0.02179303</td>\n      <td>1</td>\n      <td>47709.39</td>\n      <td>0.02607892</td>\n      <td>1</td>\n    </tr>\n  </tbody>\n</table>\n</div>"
     },
     "metadata": {},
     "execution_count": 20
    }
   ],
   "source": [
    "dataframe_order_book(test_order_book).head()"
   ]
  },
  {
   "cell_type": "code",
   "execution_count": null,
   "metadata": {},
   "outputs": [],
   "source": []
  }
 ]
}