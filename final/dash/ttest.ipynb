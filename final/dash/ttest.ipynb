{
 "metadata": {
  "language_info": {
   "codemirror_mode": {
    "name": "ipython",
    "version": 3
   },
   "file_extension": ".py",
   "mimetype": "text/x-python",
   "name": "python",
   "nbconvert_exporter": "python",
   "pygments_lexer": "ipython3",
   "version": "3.9.1"
  },
  "orig_nbformat": 2,
  "kernelspec": {
   "name": "python3",
   "display_name": "Python 3.9.1 64-bit ('capstone': conda)",
   "metadata": {
    "interpreter": {
     "hash": "21525995eece1b6be480293ed0dde850115fb1e3bed19df65545cb59ebceebcc"
    }
   }
  }
 },
 "nbformat": 4,
 "nbformat_minor": 2,
 "cells": [
  {
   "cell_type": "code",
   "execution_count": 134,
   "metadata": {},
   "outputs": [],
   "source": [
    "#import dash_data\n",
    "import pandas as pd\n",
    "import cbpro\n",
    "from datetime import datetime\n",
    "import pickle\n"
   ]
  },
  {
   "cell_type": "code",
   "execution_count": null,
   "metadata": {},
   "outputs": [],
   "source": [
    "# We vectorize the text using a bag of words model\n",
    "def get_vectorizer(ngram, max_features):\n",
    "    return CountVectorizer(ngram_range=(1, ngram),\n",
    "                             analyzer = \"word\",\n",
    "                             tokenizer = None,\n",
    "                             preprocessor = review_cleaner,\n",
    "                             stop_words = None, \n",
    "                             max_features = max_features)\n",
    "\n",
    "# Model training\n",
    "def train_predict_sentiment(reviews, vectorizer, y=train[\"sentiment\"], ngram=1, max_features=1000, model_random_state=0):\n",
    "    '''\n",
    "        This function will:\n",
    "            1. split data into train and test set.\n",
    "            2. get n-gram counts from cleaned reviews \n",
    "            3. train a random forest model using train n-gram counts and y (labels)\n",
    "            4. test the model on your test split\n",
    "            5. print accuracy of sentiment prediction on test and training data\n",
    "            6. print confusion matrix on test data results\n",
    "\n",
    "            To change n-gram type, set value of ngram argument\n",
    "            To change the number of features you want the countvectorizer to generate, set the value of max_features argument\n",
    "            \n",
    "            @cleaned_review (type:str) is preprocessed string from review_cleaner()\n",
    "            @return none\n",
    "    '''\n",
    "\n",
    "    print(\"Creating the model!\\n\")\n",
    "    \n",
    "    # train / test split\n",
    "    X_train, X_test, y_train, y_test = train_test_split(reviews, y, random_state=0, test_size=.2)\n",
    "\n",
    "    # Then we use fit_transform() to fit the model / learn the vocabulary,\n",
    "    # then transform the data into feature vectors.\n",
    "    # The input should be a list of strings. .toarray() converts to a numpy array\n",
    "    \n",
    "    train_bag = vectorizer.fit_transform(X_train)\n",
    "    if not isinstance(train_bag, np.ndarray):\n",
    "        train_bag = train_bag.toarray()\n",
    "    test_bag = vectorizer.transform(X_test)\n",
    "    if not isinstance(test_bag, np.ndarray):\n",
    "        test_bag = test_bag.toarray()\n",
    "\n",
    "    print(\"Training the random forest classifier!\\n\")\n",
    "    # Initialize a Random Forest classifier with 50 trees\n",
    "    forest = RandomForestClassifier(n_estimators = 50, random_state = model_random_state) \n",
    "\n",
    "    # Fit the forest to the training set, using the bag of words as \n",
    "    # features and the sentiment labels as the target variable\n",
    "    forest = forest.fit(train_bag, y_train)\n",
    "\n",
    "    # predict\n",
    "    train_predictions = forest.predict(train_bag)\n",
    "    test_predictions = forest.predict(test_bag)\n",
    "    \n",
    "    # validation\n",
    "    train_acc = metrics.accuracy_score(y_train, train_predictions)\n",
    "    valid_acc = metrics.accuracy_score(y_test, test_predictions)\n",
    "    \n",
    "    print(\" The training accuracy is: \", train_acc, \"\\n\", \"The validation accuracy is: \", valid_acc)\n",
    "    print()\n",
    "    print('CONFUSION MATRIX:')\n",
    "    print('         Predicted')\n",
    "    print('          neg pos')\n",
    "    print(' Actual')\n",
    "    c=confusion_matrix(y_test, test_predictions)\n",
    "    print('     neg  ',c[0])\n",
    "    print('     pos  ',c[1])\n",
    "\n",
    "    return forest\n",
    "\n",
    "# Print out the top features\n",
    "def top_features(forest, vectorizer, n):\n",
    "    #Extract feature importance\n",
    "    print('\\nTOP TEN IMPORTANT FEATURES:')\n",
    "    feature_text = vectorizer.get_feature_names().copy()\n",
    "    feature_importance = forest.feature_importances_.copy()\n",
    "    \n",
    "    indices = np.argsort(feature_importance)[::-1]\n",
    "    \n",
    "    top_n_ind = indices[:n]\n",
    "    top_n = list([vectorizer.get_feature_names()[ind] for ind in top_n_ind])\n",
    "    \n",
    "    return top_n\n",
    "\n",
    "# Print out whether the prediction is accurate\n",
    "def check_prediction(model, vectorizer, review, expected):\n",
    "    prediction = model.predict(vectorizer.transform([review]))[0]\n",
    "    sentiment = \"👍\" if prediction else \"👎\"\n",
    "    correct = \"\\x1b[92mcorrect\\x1b[0m\" if prediction == expected else \"\\x1b[31mincorrect\\x1b[0m\"\n",
    "    print(\"{} ⟶ {} {}\".format(review, sentiment, correct))"
   ]
  },
  {
   "cell_type": "code",
   "execution_count": 131,
   "metadata": {},
   "outputs": [
    {
     "output_type": "error",
     "ename": "NameError",
     "evalue": "name 'key' is not defined",
     "traceback": [
      "\u001b[0;31m---------------------------------------------------------------------------\u001b[0m",
      "\u001b[0;31mNameError\u001b[0m                                 Traceback (most recent call last)",
      "\u001b[0;32m<ipython-input-131-e7ab838625c9>\u001b[0m in \u001b[0;36m<module>\u001b[0;34m\u001b[0m\n\u001b[0;32m----> 1\u001b[0;31m auth_client = cbpro.AuthenticatedClient(key, b64secret, passphrase,\n\u001b[0m\u001b[1;32m      2\u001b[0m                                   api_url=\"https://api-public.sandbox.pro.coinbase.com\")\n",
      "\u001b[0;31mNameError\u001b[0m: name 'key' is not defined"
     ]
    }
   ],
   "source": [
    "auth_client = cbpro.AuthenticatedClient(key, b64secret, passphrase,\n",
    "                                  api_url=\"https://api-public.sandbox.pro.coinbase.com\")"
   ]
  },
  {
   "cell_type": "code",
   "execution_count": 132,
   "metadata": {},
   "outputs": [],
   "source": [
    "from collections import deque\n",
    "i = deque(maxlen=20)\n",
    "i.append(1)"
   ]
  },
  {
   "cell_type": "code",
   "execution_count": 166,
   "metadata": {},
   "outputs": [],
   "source": [
    "data_times_prices = pickle.load(open(\"data_times_prices.p\", \"rb\"))\n"
   ]
  },
  {
   "cell_type": "code",
   "execution_count": 179,
   "metadata": {},
   "outputs": [
    {
     "output_type": "execute_result",
     "data": {
      "text/plain": [
       "742"
      ]
     },
     "metadata": {},
     "execution_count": 179
    }
   ],
   "source": [
    "all = pickle.load(open(\"data_all.p\", \"rb\"))\n",
    "len(all)"
   ]
  },
  {
   "cell_type": "code",
   "execution_count": 181,
   "metadata": {},
   "outputs": [],
   "source": [
    "for i in range(740): \n",
    "    all.pop()"
   ]
  },
  {
   "cell_type": "code",
   "execution_count": 183,
   "metadata": {},
   "outputs": [
    {
     "output_type": "execute_result",
     "data": {
      "text/plain": [
       "deque([{'type': 'ticker',\n",
       "        'sequence': 24116767881,\n",
       "        'product_id': 'BTC-USD',\n",
       "        'price': '50797.6',\n",
       "        'open_24h': '52903',\n",
       "        'volume_24h': '44451.60924808',\n",
       "        'low_24h': '47464.65',\n",
       "        'high_24h': '52915.66',\n",
       "        'volume_30d': '476191.37204228',\n",
       "        'best_bid': '50797.60',\n",
       "        'best_ask': '50797.61',\n",
       "        'side': 'sell',\n",
       "        'time': '2021-04-23T19:52:25.996611Z',\n",
       "        'trade_id': 160454588,\n",
       "        'last_size': '0.01883569'},\n",
       "       {'type': 'ticker',\n",
       "        'sequence': 24116767964,\n",
       "        'product_id': 'BTC-USD',\n",
       "        'price': '50797.61',\n",
       "        'open_24h': '52903',\n",
       "        'volume_24h': '44451.62855228',\n",
       "        'low_24h': '47464.65',\n",
       "        'high_24h': '52915.66',\n",
       "        'volume_30d': '476191.39134648',\n",
       "        'best_bid': '50797.60',\n",
       "        'best_ask': '50797.61',\n",
       "        'side': 'buy',\n",
       "        'time': '2021-04-23T19:52:26.600817Z',\n",
       "        'trade_id': 160454589,\n",
       "        'last_size': '0.0193042'}])"
      ]
     },
     "metadata": {},
     "execution_count": 183
    }
   ],
   "source": [
    "all"
   ]
  },
  {
   "cell_type": "code",
   "execution_count": 193,
   "metadata": {},
   "outputs": [],
   "source": [
    "def tfi(dall):\n",
    "    tfi=0\n",
    "    for el in dall:\n",
    "        if el['side']=='buy':\n",
    "            tfi+=float(el['last_size'])\n",
    "        else:\n",
    "            tfi-=float(el['last_size'])\n",
    "    #res=sum(elem == item for elem in dq)\n",
    "    return(tfi)"
   ]
  },
  {
   "cell_type": "code",
   "execution_count": 194,
   "metadata": {},
   "outputs": [
    {
     "output_type": "execute_result",
     "data": {
      "text/plain": [
       "0.00046851000000000184"
      ]
     },
     "metadata": {},
     "execution_count": 194
    }
   ],
   "source": [
    "tfi(all)"
   ]
  },
  {
   "cell_type": "code",
   "execution_count": 195,
   "metadata": {},
   "outputs": [
    {
     "output_type": "execute_result",
     "data": {
      "text/plain": [
       "0.00046851000000000184"
      ]
     },
     "metadata": {},
     "execution_count": 195
    }
   ],
   "source": [
    "-0.01883569+0.0193042"
   ]
  },
  {
   "cell_type": "code",
   "execution_count": null,
   "metadata": {},
   "outputs": [],
   "source": [
    "np.where(pre_sample_df['side'] == 'buy', pre_sample_df['last_size'], -pre_sample_df['last_size'])"
   ]
  },
  {
   "cell_type": "code",
   "execution_count": 169,
   "metadata": {},
   "outputs": [
    {
     "output_type": "execute_result",
     "data": {
      "text/plain": [
       "{'type': 'ticker',\n",
       " 'sequence': 24116208859,\n",
       " 'product_id': 'BTC-USD',\n",
       " 'price': '50713.11',\n",
       " 'open_24h': '52903',\n",
       " 'volume_24h': '43978.48711591',\n",
       " 'low_24h': '47464.65',\n",
       " 'high_24h': '52915.66',\n",
       " 'volume_30d': '475718.24991011',\n",
       " 'best_bid': '50708.30',\n",
       " 'best_ask': '50713.11',\n",
       " 'side': 'buy',\n",
       " 'time': '2021-04-23T19:29:40.762711Z',\n",
       " 'trade_id': 160444492,\n",
       " 'last_size': '0.00188742'}"
      ]
     },
     "metadata": {},
     "execution_count": 169
    }
   ],
   "source": [
    "all[0]"
   ]
  },
  {
   "cell_type": "code",
   "execution_count": 160,
   "metadata": {},
   "outputs": [],
   "source": [
    "sides = pickle.load(open(\"data_sides.p\", \"rb\"))\n"
   ]
  },
  {
   "cell_type": "code",
   "execution_count": 161,
   "metadata": {},
   "outputs": [
    {
     "output_type": "error",
     "ename": "AttributeError",
     "evalue": "'collections.deque' object has no attribute 'count_values'",
     "traceback": [
      "\u001b[0;31m---------------------------------------------------------------------------\u001b[0m",
      "\u001b[0;31mAttributeError\u001b[0m                            Traceback (most recent call last)",
      "\u001b[0;32m<ipython-input-161-c5645d4c7e3b>\u001b[0m in \u001b[0;36m<module>\u001b[0;34m\u001b[0m\n\u001b[0;32m----> 1\u001b[0;31m \u001b[0msides\u001b[0m\u001b[0;34m.\u001b[0m\u001b[0mcount_values\u001b[0m\u001b[0;34m(\u001b[0m\u001b[0;34m)\u001b[0m\u001b[0;34m\u001b[0m\u001b[0;34m\u001b[0m\u001b[0m\n\u001b[0m",
      "\u001b[0;31mAttributeError\u001b[0m: 'collections.deque' object has no attribute 'count_values'"
     ]
    }
   ],
   "source": [
    "sides.count_values()"
   ]
  },
  {
   "cell_type": "code",
   "execution_count": 163,
   "metadata": {},
   "outputs": [
    {
     "output_type": "execute_result",
     "data": {
      "text/plain": [
       "'sell'"
      ]
     },
     "metadata": {},
     "execution_count": 163
    }
   ],
   "source": [
    "sides[-10]"
   ]
  },
  {
   "cell_type": "code",
   "execution_count": 164,
   "metadata": {},
   "outputs": [],
   "source": [
    "def count(dq, item):\n",
    "    return sum(elem == item for elem in dq)"
   ]
  },
  {
   "cell_type": "code",
   "execution_count": 165,
   "metadata": {},
   "outputs": [
    {
     "output_type": "execute_result",
     "data": {
      "text/plain": [
       "4"
      ]
     },
     "metadata": {},
     "execution_count": 165
    }
   ],
   "source": [
    "count(sides, 'buy' )"
   ]
  },
  {
   "cell_type": "code",
   "execution_count": 151,
   "metadata": {},
   "outputs": [
    {
     "output_type": "error",
     "ename": "TypeError",
     "evalue": "object of type 'filter' has no len()",
     "traceback": [
      "\u001b[0;31m---------------------------------------------------------------------------\u001b[0m",
      "\u001b[0;31mTypeError\u001b[0m                                 Traceback (most recent call last)",
      "\u001b[0;32m<ipython-input-151-3f290c8df987>\u001b[0m in \u001b[0;36m<module>\u001b[0;34m\u001b[0m\n\u001b[0;32m----> 1\u001b[0;31m \u001b[0mlen\u001b[0m\u001b[0;34m(\u001b[0m\u001b[0mfilter\u001b[0m\u001b[0;34m(\u001b[0m\u001b[0;32mlambda\u001b[0m \u001b[0;34m:\u001b[0m \u001b[0mx\u001b[0m \u001b[0;34m==\u001b[0m \u001b[0;36m1\u001b[0m\u001b[0;34m,\u001b[0m \u001b[0msides\u001b[0m\u001b[0;34m)\u001b[0m\u001b[0;34m)\u001b[0m\u001b[0;34m\u001b[0m\u001b[0;34m\u001b[0m\u001b[0m\n\u001b[0m",
      "\u001b[0;31mTypeError\u001b[0m: object of type 'filter' has no len()"
     ]
    }
   ],
   "source": [
    "len(filter(lambda : x == 1, sides))"
   ]
  },
  {
   "cell_type": "code",
   "execution_count": 142,
   "metadata": {},
   "outputs": [
    {
     "output_type": "execute_result",
     "data": {
      "text/plain": [
       "45000.0"
      ]
     },
     "metadata": {},
     "execution_count": 142
    }
   ],
   "source": [
    "0.9*float(max(data_times_prices[1]))"
   ]
  },
  {
   "cell_type": "code",
   "execution_count": 13,
   "metadata": {},
   "outputs": [
    {
     "output_type": "execute_result",
     "data": {
      "text/plain": [
       "1    2021-03-13T00:00:00.594420Z\n",
       "1    2021-03-13T00:00:00.594420Z\n",
       "1    2021-03-13T00:00:00.594420Z\n",
       "1    2021-03-13T00:00:00.594420Z\n",
       "1    2021-03-13T00:00:00.594420Z\n",
       "1    2021-03-13T00:00:00.594420Z\n",
       "1    2021-03-13T00:00:00.594420Z\n",
       "1    2021-03-13T00:00:00.594420Z\n",
       "1    2021-03-13T00:00:00.594420Z\n",
       "1    2021-03-13T00:00:00.594420Z\n",
       "1    2021-03-13T00:00:00.594420Z\n",
       "1    2021-03-13T00:00:00.594420Z\n",
       "1    2021-03-13T00:00:00.594420Z\n",
       "1    2021-03-13T00:00:00.594420Z\n",
       "1    2021-03-13T00:00:00.594420Z\n",
       "1    2021-03-13T00:00:00.594420Z\n",
       "1    2021-03-13T00:00:00.594420Z\n",
       "1    2021-03-13T00:00:00.594420Z\n",
       "1    2021-03-13T00:00:00.594420Z\n",
       "1    2021-03-13T00:00:00.594420Z\n",
       "Name: time, dtype: object"
      ]
     },
     "metadata": {},
     "execution_count": 13
    }
   ],
   "source": [
    "df=pd.read_csv('data_03_13_dash.csv')\n",
    "df['time'][i*1000]"
   ]
  },
  {
   "cell_type": "code",
   "execution_count": 124,
   "metadata": {},
   "outputs": [
    {
     "output_type": "stream",
     "name": "stdout",
     "text": [
      "{'type': 'ticker', 'sequence': 24090434704, 'product_id': 'BTC-USD', 'price': '48462.66', 'open_24h': '54158.9', 'volume_24h': '39159.26612537', 'low_24h': '48381.05', 'high_24h': '55469.98', 'volume_30d': '457961.98409019', 'best_bid': '48462.65', 'best_ask': '48462.66', 'side': 'buy', 'time': '2021-04-23T07:33:16.751360Z', 'trade_id': 160057924, 'last_size': '0.00227632'}\n",
      "{'type': 'ticker', 'sequence': 24090434704, 'product_id': 'BTC-USD', 'price': '48462.66', 'open_24h': '54158.9', 'volume_24h': '39159.26612537', 'low_24h': '48381.05', 'high_24h': '55469.98', 'volume_30d': '457961.98409019', 'best_bid': '48462.65', 'best_ask': '48462.66', 'side': 'buy', 'time': '2021-04-23T07:33:16.751360Z', 'trade_id': 160057924, 'last_size': '0.00227632'}\n",
      "{'type': 'ticker', 'sequence': 24090435067, 'product_id': 'BTC-USD', 'price': '48462.66', 'open_24h': '54158.9', 'volume_24h': '39159.26704898', 'low_24h': '48381.05', 'high_24h': '55469.98', 'volume_30d': '457961.98501380', 'best_bid': '48462.65', 'best_ask': '48462.66', 'side': 'buy', 'time': '2021-04-23T07:33:17.258003Z', 'trade_id': 160057925, 'last_size': '0.00092361'}\n",
      "{'type': 'ticker', 'sequence': 24090435067, 'product_id': 'BTC-USD', 'price': '48462.66', 'open_24h': '54158.9', 'volume_24h': '39159.26704898', 'low_24h': '48381.05', 'high_24h': '55469.98', 'volume_30d': '457961.98501380', 'best_bid': '48462.65', 'best_ask': '48462.66', 'side': 'buy', 'time': '2021-04-23T07:33:17.258003Z', 'trade_id': 160057925, 'last_size': '0.00092361'}\n",
      "{'type': 'ticker', 'sequence': 24090435165, 'product_id': 'BTC-USD', 'price': '48462.66', 'open_24h': '54158.9', 'volume_24h': '39159.28360905', 'low_24h': '48381.05', 'high_24h': '55469.98', 'volume_30d': '457962.00157387', 'best_bid': '48462.65', 'best_ask': '48462.66', 'side': 'buy', 'time': '2021-04-23T07:33:17.483449Z', 'trade_id': 160057926, 'last_size': '0.01656007'}\n",
      "{'type': 'ticker', 'sequence': 24090435165, 'product_id': 'BTC-USD', 'price': '48462.66', 'open_24h': '54158.9', 'volume_24h': '39159.28360905', 'low_24h': '48381.05', 'high_24h': '55469.98', 'volume_30d': '457962.00157387', 'best_bid': '48462.65', 'best_ask': '48462.66', 'side': 'buy', 'time': '2021-04-23T07:33:17.483449Z', 'trade_id': 160057926, 'last_size': '0.01656007'}\n",
      "{'type': 'ticker', 'sequence': 24090435167, 'product_id': 'BTC-USD', 'price': '48462.66', 'open_24h': '54158.9', 'volume_24h': '39159.28588537', 'low_24h': '48381.05', 'high_24h': '55469.98', 'volume_30d': '457962.00385019', 'best_bid': '48462.65', 'best_ask': '48462.66', 'side': 'buy', 'time': '2021-04-23T07:33:17.483449Z', 'trade_id': 160057927, 'last_size': '0.00227632'}\n",
      "{'type': 'ticker', 'sequence': 24090435167, 'product_id': 'BTC-USD', 'price': '48462.66', 'open_24h': '54158.9', 'volume_24h': '39159.28588537', 'low_24h': '48381.05', 'high_24h': '55469.98', 'volume_30d': '457962.00385019', 'best_bid': '48462.65', 'best_ask': '48462.66', 'side': 'buy', 'time': '2021-04-23T07:33:17.483449Z', 'trade_id': 160057927, 'last_size': '0.00227632'}\n",
      "{'type': 'ticker', 'sequence': 24090435169, 'product_id': 'BTC-USD', 'price': '48462.66', 'open_24h': '54158.9', 'volume_24h': '39159.30078537', 'low_24h': '48381.05', 'high_24h': '55469.98', 'volume_30d': '457962.01875019', 'best_bid': '48462.65', 'best_ask': '48462.66', 'side': 'buy', 'time': '2021-04-23T07:33:17.483449Z', 'trade_id': 160057928, 'last_size': '0.0149'}\n",
      "{'type': 'ticker', 'sequence': 24090435169, 'product_id': 'BTC-USD', 'price': '48462.66', 'open_24h': '54158.9', 'volume_24h': '39159.30078537', 'low_24h': '48381.05', 'high_24h': '55469.98', 'volume_30d': '457962.01875019', 'best_bid': '48462.65', 'best_ask': '48462.66', 'side': 'buy', 'time': '2021-04-23T07:33:17.483449Z', 'trade_id': 160057928, 'last_size': '0.0149'}\n",
      "{'type': 'ticker', 'sequence': 24090435171, 'product_id': 'BTC-USD', 'price': '48462.66', 'open_24h': '54158.9', 'volume_24h': '39159.30093505', 'low_24h': '48381.05', 'high_24h': '55469.98', 'volume_30d': '457962.01889987', 'best_bid': '48462.65', 'best_ask': '48462.66', 'side': 'buy', 'time': '2021-04-23T07:33:17.483449Z', 'trade_id': 160057929, 'last_size': '0.00014968'}\n",
      "{'type': 'ticker', 'sequence': 24090435171, 'product_id': 'BTC-USD', 'price': '48462.66', 'open_24h': '54158.9', 'volume_24h': '39159.30093505', 'low_24h': '48381.05', 'high_24h': '55469.98', 'volume_30d': '457962.01889987', 'best_bid': '48462.65', 'best_ask': '48462.66', 'side': 'buy', 'time': '2021-04-23T07:33:17.483449Z', 'trade_id': 160057929, 'last_size': '0.00014968'}\n",
      "{'type': 'ticker', 'sequence': 24090435173, 'product_id': 'BTC-USD', 'price': '48462.66', 'open_24h': '54158.9', 'volume_24h': '39159.30811254', 'low_24h': '48381.05', 'high_24h': '55469.98', 'volume_30d': '457962.02607736', 'best_bid': '48462.65', 'best_ask': '48462.66', 'side': 'buy', 'time': '2021-04-23T07:33:17.483449Z', 'trade_id': 160057930, 'last_size': '0.00717749'}\n",
      "{'type': 'ticker', 'sequence': 24090435173, 'product_id': 'BTC-USD', 'price': '48462.66', 'open_24h': '54158.9', 'volume_24h': '39159.30811254', 'low_24h': '48381.05', 'high_24h': '55469.98', 'volume_30d': '457962.02607736', 'best_bid': '48462.65', 'best_ask': '48462.66', 'side': 'buy', 'time': '2021-04-23T07:33:17.483449Z', 'trade_id': 160057930, 'last_size': '0.00717749'}\n",
      "{'type': 'ticker', 'sequence': 24090435331, 'product_id': 'BTC-USD', 'price': '48462.67', 'open_24h': '54158.9', 'volume_24h': '39159.32301254', 'low_24h': '48381.05', 'high_24h': '55469.98', 'volume_30d': '457962.04097736', 'best_bid': '48462.66', 'best_ask': '48466.37', 'side': 'buy', 'time': '2021-04-23T07:33:17.734595Z', 'trade_id': 160057931, 'last_size': '0.0149'}\n",
      "{'type': 'ticker', 'sequence': 24090435331, 'product_id': 'BTC-USD', 'price': '48462.67', 'open_24h': '54158.9', 'volume_24h': '39159.32301254', 'low_24h': '48381.05', 'high_24h': '55469.98', 'volume_30d': '457962.04097736', 'best_bid': '48462.66', 'best_ask': '48466.37', 'side': 'buy', 'time': '2021-04-23T07:33:17.734595Z', 'trade_id': 160057931, 'last_size': '0.0149'}\n",
      "{'type': 'ticker', 'sequence': 24090435333, 'product_id': 'BTC-USD', 'price': '48466.37', 'open_24h': '54158.9', 'volume_24h': '39159.32834184', 'low_24h': '48381.05', 'high_24h': '55469.98', 'volume_30d': '457962.04630666', 'best_bid': '48462.66', 'best_ask': '48466.37', 'side': 'buy', 'time': '2021-04-23T07:33:17.734595Z', 'trade_id': 160057932, 'last_size': '0.0053293'}\n",
      "{'type': 'ticker', 'sequence': 24090435333, 'product_id': 'BTC-USD', 'price': '48466.37', 'open_24h': '54158.9', 'volume_24h': '39159.32834184', 'low_24h': '48381.05', 'high_24h': '55469.98', 'volume_30d': '457962.04630666', 'best_bid': '48462.66', 'best_ask': '48466.37', 'side': 'buy', 'time': '2021-04-23T07:33:17.734595Z', 'trade_id': 160057932, 'last_size': '0.0053293'}\n",
      "{'type': 'ticker', 'sequence': 24090435535, 'product_id': 'BTC-USD', 'price': '48466.37', 'open_24h': '54158.9', 'volume_24h': '39159.33339909', 'low_24h': '48381.05', 'high_24h': '55469.98', 'volume_30d': '457962.05136391', 'best_bid': '48466.35', 'best_ask': '48466.37', 'side': 'buy', 'time': '2021-04-23T07:33:17.985980Z', 'trade_id': 160057933, 'last_size': '0.00505725'}\n",
      "{'type': 'ticker', 'sequence': 24090435535, 'product_id': 'BTC-USD', 'price': '48466.37', 'open_24h': '54158.9', 'volume_24h': '39159.33339909', 'low_24h': '48381.05', 'high_24h': '55469.98', 'volume_30d': '457962.05136391', 'best_bid': '48466.35', 'best_ask': '48466.37', 'side': 'buy', 'time': '2021-04-23T07:33:17.985980Z', 'trade_id': 160057933, 'last_size': '0.00505725'}\n"
     ]
    }
   ],
   "source": [
    "class websocket_trades(cbpro.WebsocketClient):\n",
    "    def on_open(self):\n",
    "        print(\"-- wassup --\")\n",
    "        self.url = \"wss://ws-feed.pro.coinbase.com/\"\n",
    "        #self.firebase= firebase.FirebaseApplication(\n",
    "        self.products = [\"BTC-USD\"]\n",
    "        self.message_count = 0\n",
    "        self.channels=['ticker']\n",
    "        self.prices=deque(maxlen=1000)\n",
    "        self.times=deque(maxlen=1000)\n",
    "\n",
    "    def on_message(self, msg):\n",
    "        print(msg)\n",
    "        print(type(msg))\n",
    "        \n",
    "\n",
    "        if msg['type']=='ticker':\n",
    "            self.prices.append(msg['price'])\n",
    "            self.times.append(\n",
    "                datetime.strptime(msg['time'], '%Y-%m-%dT%H:%M:%S.%fZ')\n",
    "                )\n",
    "          #self.message_count += 1\n",
    "          #today = datetime.now(timezone.utc).date()\n",
    "          #postt_string='/websocket_trades_v1_'+str(t\n",
    "          #self.firebase.post(postt_string, msg)\n",
    "          \n",
    "        print(msg)"
   ]
  },
  {
   "cell_type": "code",
   "execution_count": 125,
   "metadata": {},
   "outputs": [
    {
     "output_type": "stream",
     "name": "stdout",
     "text": [
      "{'type': 'ticker', 'sequence': 24090435795, 'product_id': 'BTC-USD', 'price': '48466.36', 'open_24h': '54158.9', 'volume_24h': '39159.34290904', 'low_24h': '48381.05', 'high_24h': '55469.98', 'volume_30d': '457962.06087386', 'best_bid': '48466.35', 'best_ask': '48466.36', 'side': 'buy', 'time': '2021-04-23T07:33:18.246959Z', 'trade_id': 160057934, 'last_size': '0.00950995'}\n{'type': 'ticker', 'sequence': 24090435795, 'product_id': 'BTC-USD', 'price': '48466.36', 'open_24h': '54158.9', 'volume_24h': '39159.34290904', 'low_24h': '48381.05', 'high_24h': '55469.98', 'volume_30d': '457962.06087386', 'best_bid': '48466.35', 'best_ask': '48466.36', 'side': 'buy', 'time': '2021-04-23T07:33:18.246959Z', 'trade_id': 160057934, 'last_size': '0.00950995'}\n{'type': 'ticker', 'sequence': 24090435804, 'product_id': 'BTC-USD', 'price': '48466.36', 'open_24h': '54158.9', 'volume_24h': '39159.34409089', 'low_24h': '48381.05', 'high_24h': '55469.98', 'volume_30d': '457962.06205571', 'best_bid': '48466.35', 'best_ask': '48466.36', 'side': 'buy', 'time': '2021-04-23T07:33:18.250925Z', 'trade_id': 160057935, 'last_size': '0.00118185'}\n{'type': 'ticker', 'sequence': 24090435804, 'product_id': 'BTC-USD', 'price': '48466.36', 'open_24h': '54158.9', 'volume_24h': '39159.34409089', 'low_24h': '48381.05', 'high_24h': '55469.98', 'volume_30d': '457962.06205571', 'best_bid': '48466.35', 'best_ask': '48466.36', 'side': 'buy', 'time': '2021-04-23T07:33:18.250925Z', 'trade_id': 160057935, 'last_size': '0.00118185'}\n"
     ]
    }
   ],
   "source": [
    "wsClientTrades = websocket_trades()"
   ]
  },
  {
   "cell_type": "code",
   "execution_count": 126,
   "metadata": {},
   "outputs": [
    {
     "output_type": "stream",
     "name": "stdout",
     "text": [
      "-- wassup --\n",
      "{'type': 'subscriptions', 'channels': [{'name': 'ticker', 'product_ids': ['BTC-USD']}]}\n",
      "<class 'dict'>\n",
      "{'type': 'subscriptions', 'channels': [{'name': 'ticker', 'product_ids': ['BTC-USD']}]}\n",
      "{'type': 'ticker', 'sequence': 24090437528, 'product_id': 'BTC-USD', 'price': '48470.06', 'open_24h': '54158.9', 'volume_24h': '39101.23060747', 'low_24h': '48381.05', 'high_24h': '55469.98', 'volume_30d': '457903.94857229', 'best_bid': '48470.05', 'best_ask': '48470.06', 'side': 'buy', 'time': '2021-04-23T07:33:20.683395Z', 'trade_id': 160057958, 'last_size': '0.08104227'}\n",
      "<class 'dict'>\n",
      "{'type': 'ticker', 'sequence': 24090437528, 'product_id': 'BTC-USD', 'price': '48470.06', 'open_24h': '54158.9', 'volume_24h': '39101.23060747', 'low_24h': '48381.05', 'high_24h': '55469.98', 'volume_30d': '457903.94857229', 'best_bid': '48470.05', 'best_ask': '48470.06', 'side': 'buy', 'time': '2021-04-23T07:33:20.683395Z', 'trade_id': 160057958, 'last_size': '0.08104227'}\n",
      "{'type': 'ticker', 'sequence': 24090437593, 'product_id': 'BTC-USD', 'price': '48470.06', 'open_24h': '54158.9', 'volume_24h': '39160.00932190', 'low_24h': '48381.05', 'high_24h': '55469.98', 'volume_30d': '457962.72728672', 'best_bid': '48470.05', 'best_ask': '48470.06', 'side': 'buy', 'time': '2021-04-23T07:33:21.264691Z', 'trade_id': 160057959, 'last_size': '0.00206106'}\n",
      "{'type': 'ticker', 'sequence': 24090437593, 'product_id': 'BTC-USD', 'price': '48470.06', 'open_24h': '54158.9', 'volume_24h': '39160.00932190', 'low_24h': '48381.05', 'high_24h': '55469.98', 'volume_30d': '457962.72728672', 'best_bid': '48470.05', 'best_ask': '48470.06', 'side': 'buy', 'time': '2021-04-23T07:33:21.264691Z', 'trade_id': 160057959, 'last_size': '0.00206106'}\n",
      "{'type': 'ticker', 'sequence': 24090437593, 'product_id': 'BTC-USD', 'price': '48470.06', 'open_24h': '54158.9', 'volume_24h': '39101.23266853', 'low_24h': '48381.05', 'high_24h': '55469.98', 'volume_30d': '457903.95063335', 'best_bid': '48470.05', 'best_ask': '48470.06', 'side': 'buy', 'time': '2021-04-23T07:33:21.264691Z', 'trade_id': 160057959, 'last_size': '0.00206106'}\n",
      "<class 'dict'>\n",
      "{'type': 'ticker', 'sequence': 24090437593, 'product_id': 'BTC-USD', 'price': '48470.06', 'open_24h': '54158.9', 'volume_24h': '39101.23266853', 'low_24h': '48381.05', 'high_24h': '55469.98', 'volume_30d': '457903.95063335', 'best_bid': '48470.05', 'best_ask': '48470.06', 'side': 'buy', 'time': '2021-04-23T07:33:21.264691Z', 'trade_id': 160057959, 'last_size': '0.00206106'}\n",
      "{'type': 'ticker', 'sequence': 24090437624, 'product_id': 'BTC-USD', 'price': '48470.06', 'open_24h': '54158.9', 'volume_24h': '39160.07001429', 'low_24h': '48381.05', 'high_24h': '55469.98', 'volume_30d': '457962.78797911', 'best_bid': '48470.05', 'best_ask': '48470.06', 'side': 'buy', 'time': '2021-04-23T07:33:21.372057Z', 'trade_id': 160057960, 'last_size': '0.06069239'}\n",
      "{'type': 'ticker', 'sequence': 24090437624, 'product_id': 'BTC-USD', 'price': '48470.06', 'open_24h': '54158.9', 'volume_24h': '39160.07001429', 'low_24h': '48381.05', 'high_24h': '55469.98', 'volume_30d': '457962.78797911', 'best_bid': '48470.05', 'best_ask': '48470.06', 'side': 'buy', 'time': '2021-04-23T07:33:21.372057Z', 'trade_id': 160057960, 'last_size': '0.06069239'}\n",
      "{'type': 'ticker', 'sequence': 24090437624, 'product_id': 'BTC-USD', 'price': '48470.06', 'open_24h': '54158.9', 'volume_24h': '39101.29336092', 'low_24h': '48381.05', 'high_24h': '55469.98', 'volume_30d': '457904.01132574', 'best_bid': '48470.05', 'best_ask': '48470.06', 'side': 'buy', 'time': '2021-04-23T07:33:21.372057Z', 'trade_id': 160057960, 'last_size': '0.06069239'}\n",
      "<class 'dict'>\n",
      "{'type': 'ticker', 'sequence': 24090437624, 'product_id': 'BTC-USD', 'price': '48470.06', 'open_24h': '54158.9', 'volume_24h': '39101.29336092', 'low_24h': '48381.05', 'high_24h': '55469.98', 'volume_30d': '457904.01132574', 'best_bid': '48470.05', 'best_ask': '48470.06', 'side': 'buy', 'time': '2021-04-23T07:33:21.372057Z', 'trade_id': 160057960, 'last_size': '0.06069239'}\n",
      "{'type': 'ticker', 'sequence': 24090437660, 'product_id': 'BTC-USD', 'price': '48470.06', 'open_24h': '54158.9', 'volume_24h': '39160.07200577', 'low_24h': '48381.05', 'high_24h': '55469.98', 'volume_30d': '457962.78997059', 'best_bid': '48470.05', 'best_ask': '48470.06', 'side': 'buy', 'time': '2021-04-23T07:33:21.421256Z', 'trade_id': 160057961, 'last_size': '0.00199148'}\n",
      "{'type': 'ticker', 'sequence': 24090437660, 'product_id': 'BTC-USD', 'price': '48470.06', 'open_24h': '54158.9', 'volume_24h': '39160.07200577', 'low_24h': '48381.05', 'high_24h': '55469.98', 'volume_30d': '457962.78997059', 'best_bid': '48470.05', 'best_ask': '48470.06', 'side': 'buy', 'time': '2021-04-23T07:33:21.421256Z', 'trade_id': 160057961, 'last_size': '0.00199148'}\n",
      "{'type': 'ticker', 'sequence': 24090437660, 'product_id': 'BTC-USD', 'price': '48470.06', 'open_24h': '54158.9', 'volume_24h': '39101.29535240', 'low_24h': '48381.05', 'high_24h': '55469.98', 'volume_30d': '457904.01331722', 'best_bid': '48470.05', 'best_ask': '48470.06', 'side': 'buy', 'time': '2021-04-23T07:33:21.421256Z', 'trade_id': 160057961, 'last_size': '0.00199148'}\n",
      "<class 'dict'>\n",
      "{'type': 'ticker', 'sequence': 24090437660, 'product_id': 'BTC-USD', 'price': '48470.06', 'open_24h': '54158.9', 'volume_24h': '39101.29535240', 'low_24h': '48381.05', 'high_24h': '55469.98', 'volume_30d': '457904.01331722', 'best_bid': '48470.05', 'best_ask': '48470.06', 'side': 'buy', 'time': '2021-04-23T07:33:21.421256Z', 'trade_id': 160057961, 'last_size': '0.00199148'}\n",
      "{'type': 'ticker', 'sequence': 24090437699, 'product_id': 'BTC-USD', 'price': '48470.06', 'open_24h': '54158.9', 'volume_24h': '39101.29734423', 'low_24h': '48381.05', 'high_24h': '55469.98', 'volume_30d': '457904.01530905', 'best_bid': '48470.05', 'best_ask': '48470.06', 'side': 'buy', 'time': '2021-04-23T07:33:21.448157Z', 'trade_id': 160057962, 'last_size': '0.00199183'}{'type': 'ticker', 'sequence': 24090437699, 'product_id': 'BTC-USD', 'price': '48470.06', 'open_24h': '54158.9', 'volume_24h': '39160.07399760', 'low_24h': '48381.05', 'high_24h': '55469.98', 'volume_30d': '457962.79196242', 'best_bid': '48470.05', 'best_ask': '48470.06', 'side': 'buy', 'time': '2021-04-23T07:33:21.448157Z', 'trade_id': 160057962, 'last_size': '0.00199183'}\n",
      "<class 'dict'>\n",
      "{'type': 'ticker', 'sequence': 24090437699, 'product_id': 'BTC-USD', 'price': '48470.06', 'open_24h': '54158.9', 'volume_24h': '39101.29734423', 'low_24h': '48381.05', 'high_24h': '55469.98', 'volume_30d': '457904.01530905', 'best_bid': '48470.05', 'best_ask': '48470.06', 'side': 'buy', 'time': '2021-04-23T07:33:21.448157Z', 'trade_id': 160057962, 'last_size': '0.00199183'}\n",
      "\n",
      "{'type': 'ticker', 'sequence': 24090437699, 'product_id': 'BTC-USD', 'price': '48470.06', 'open_24h': '54158.9', 'volume_24h': '39160.07399760', 'low_24h': '48381.05', 'high_24h': '55469.98', 'volume_30d': '457962.79196242', 'best_bid': '48470.05', 'best_ask': '48470.06', 'side': 'buy', 'time': '2021-04-23T07:33:21.448157Z', 'trade_id': 160057962, 'last_size': '0.00199183'}\n",
      "{'type': 'ticker', 'sequence': 24090438002, 'product_id': 'BTC-USD', 'price': '48470.05', 'open_24h': '54158.9', 'volume_24h': '39160.07419760', 'low_24h': '48381.05', 'high_24h': '55469.98', 'volume_30d': '457962.79216242', 'best_bid': '48470.05', 'best_ask': '48470.06', 'side': 'sell', 'time': '2021-04-23T07:33:21.940415Z', 'trade_id': 160057963, 'last_size': '0.0002'}{'type': 'ticker', 'sequence': 24090438002, 'product_id': 'BTC-USD', 'price': '48470.05', 'open_24h': '54158.9', 'volume_24h': '39101.29754423', 'low_24h': '48381.05', 'high_24h': '55469.98', 'volume_30d': '457904.01550905', 'best_bid': '48470.05', 'best_ask': '48470.06', 'side': 'sell', 'time': '2021-04-23T07:33:21.940415Z', 'trade_id': 160057963, 'last_size': '0.0002'}\n",
      "<class 'dict'>\n",
      "{'type': 'ticker', 'sequence': 24090438002, 'product_id': 'BTC-USD', 'price': '48470.05', 'open_24h': '54158.9', 'volume_24h': '39101.29754423', 'low_24h': '48381.05', 'high_24h': '55469.98', 'volume_30d': '457904.01550905', 'best_bid': '48470.05', 'best_ask': '48470.06', 'side': 'sell', 'time': '2021-04-23T07:33:21.940415Z', 'trade_id': 160057963, 'last_size': '0.0002'}\n",
      "\n",
      "{'type': 'ticker', 'sequence': 24090438002, 'product_id': 'BTC-USD', 'price': '48470.05', 'open_24h': '54158.9', 'volume_24h': '39160.07419760', 'low_24h': '48381.05', 'high_24h': '55469.98', 'volume_30d': '457962.79216242', 'best_bid': '48470.05', 'best_ask': '48470.06', 'side': 'sell', 'time': '2021-04-23T07:33:21.940415Z', 'trade_id': 160057963, 'last_size': '0.0002'}\n",
      "{'type': 'ticker', 'sequence': 24090438004, 'product_id': 'BTC-USD', 'price': '48470.05', 'open_24h': '54158.9', 'volume_24h': '39101.29764423', 'low_24h': '48381.05', 'high_24h': '55469.98', 'volume_30d': '457904.01560905', 'best_bid': '48470.04', 'best_ask': '48470.06', 'side': 'sell', 'time': '2021-04-23T07:33:21.940415Z', 'trade_id': 160057964, 'last_size': '0.0001'}\n",
      "<class 'dict'>\n",
      "{'type': 'ticker', 'sequence': 24090438004, 'product_id': 'BTC-USD', 'price': '48470.05', 'open_24h': '54158.9', 'volume_24h': '39101.29764423', 'low_24h': '48381.05', 'high_24h': '55469.98', 'volume_30d': '457904.01560905', 'best_bid': '48470.04', 'best_ask': '48470.06', 'side': 'sell', 'time': '2021-04-23T07:33:21.940415Z', 'trade_id': 160057964, 'last_size': '0.0001'}\n",
      "{'type': 'ticker', 'sequence': 24090438004, 'product_id': 'BTC-USD', 'price': '48470.05', 'open_24h': '54158.9', 'volume_24h': '39160.07429760', 'low_24h': '48381.05', 'high_24h': '55469.98', 'volume_30d': '457962.79226242', 'best_bid': '48470.04', 'best_ask': '48470.06', 'side': 'sell', 'time': '2021-04-23T07:33:21.940415Z', 'trade_id': 160057964, 'last_size': '0.0001'}\n",
      "{'type': 'ticker', 'sequence': 24090438004, 'product_id': 'BTC-USD', 'price': '48470.05', 'open_24h': '54158.9', 'volume_24h': '39160.07429760', 'low_24h': '48381.05', 'high_24h': '55469.98', 'volume_30d': '457962.79226242', 'best_bid': '48470.04', 'best_ask': '48470.06', 'side': 'sell', 'time': '2021-04-23T07:33:21.940415Z', 'trade_id': 160057964, 'last_size': '0.0001'}\n",
      "{'type': 'ticker', 'sequence': 24090438022, 'product_id': 'BTC-USD', 'price': '48470.04', 'open_24h': '54158.9', 'volume_24h': '39160.11149760', 'low_24h': '48381.05', 'high_24h': '55469.98', 'volume_30d': '457962.82946242', 'best_bid': '48470.04', 'best_ask': '48470.05', 'side': 'sell', 'time': '2021-04-23T07:33:21.965904Z', 'trade_id': 160057965, 'last_size': '0.0372'}\n",
      "{'type': 'ticker', 'sequence': 24090438022, 'product_id': 'BTC-USD', 'price': '48470.04', 'open_24h': '54158.9', 'volume_24h': '39160.11149760', 'low_24h': '48381.05', 'high_24h': '55469.98', 'volume_30d': '457962.82946242', 'best_bid': '48470.04', 'best_ask': '48470.05', 'side': 'sell', 'time': '2021-04-23T07:33:21.965904Z', 'trade_id': 160057965, 'last_size': '0.0372'}\n",
      "{'type': 'ticker', 'sequence': 24090438022, 'product_id': 'BTC-USD', 'price': '48470.04', 'open_24h': '54158.9', 'volume_24h': '39101.33484423', 'low_24h': '48381.05', 'high_24h': '55469.98', 'volume_30d': '457904.05280905', 'best_bid': '48470.04', 'best_ask': '48470.05', 'side': 'sell', 'time': '2021-04-23T07:33:21.965904Z', 'trade_id': 160057965, 'last_size': '0.0372'}\n",
      "<class 'dict'>\n",
      "{'type': 'ticker', 'sequence': 24090438022, 'product_id': 'BTC-USD', 'price': '48470.04', 'open_24h': '54158.9', 'volume_24h': '39101.33484423', 'low_24h': '48381.05', 'high_24h': '55469.98', 'volume_30d': '457904.05280905', 'best_bid': '48470.04', 'best_ask': '48470.05', 'side': 'sell', 'time': '2021-04-23T07:33:21.965904Z', 'trade_id': 160057965, 'last_size': '0.0372'}\n",
      "{'type': 'ticker', 'sequence': 24090438140, 'product_id': 'BTC-USD', 'price': '48470.04', 'open_24h': '54158.9', 'volume_24h': '39160.16318285', 'low_24h': '48381.05', 'high_24h': '55469.98', 'volume_30d': '457962.88114767', 'best_bid': '48462.65', 'best_ask': '48470.05', 'side': 'buy', 'time': '2021-04-23T07:33:22.102850Z', 'trade_id': 160057966, 'last_size': '0.05168525'}\n",
      "{'type': 'ticker', 'sequence': 24090438140, 'product_id': 'BTC-USD', 'price': '48470.04', 'open_24h': '54158.9', 'volume_24h': '39160.16318285', 'low_24h': '48381.05', 'high_24h': '55469.98', 'volume_30d': '457962.88114767', 'best_bid': '48462.65', 'best_ask': '48470.05', 'side': 'buy', 'time': '2021-04-23T07:33:22.102850Z', 'trade_id': 160057966, 'last_size': '0.05168525'}\n",
      "{'type': 'ticker', 'sequence': 24090438140, 'product_id': 'BTC-USD', 'price': '48470.04', 'open_24h': '54158.9', 'volume_24h': '39101.38652948', 'low_24h': '48381.05', 'high_24h': '55469.98', 'volume_30d': '457904.10449430', 'best_bid': '48462.65', 'best_ask': '48470.05', 'side': 'buy', 'time': '2021-04-23T07:33:22.102850Z', 'trade_id': 160057966, 'last_size': '0.05168525'}\n",
      "<class 'dict'>\n",
      "{'type': 'ticker', 'sequence': 24090438140, 'product_id': 'BTC-USD', 'price': '48470.04', 'open_24h': '54158.9', 'volume_24h': '39101.38652948', 'low_24h': '48381.05', 'high_24h': '55469.98', 'volume_30d': '457904.10449430', 'best_bid': '48462.65', 'best_ask': '48470.05', 'side': 'buy', 'time': '2021-04-23T07:33:22.102850Z', 'trade_id': 160057966, 'last_size': '0.05168525'}\n"
     ]
    }
   ],
   "source": [
    "wsClientTrades.start()"
   ]
  },
  {
   "cell_type": "code",
   "execution_count": 129,
   "metadata": {},
   "outputs": [
    {
     "output_type": "execute_result",
     "data": {
      "text/plain": [
       "deque(['48470.06',\n",
       "       '48470.06',\n",
       "       '48470.06',\n",
       "       '48470.06',\n",
       "       '48470.06',\n",
       "       '48470.05',\n",
       "       '48470.05',\n",
       "       '48470.04',\n",
       "       '48470.04',\n",
       "       '48463.32',\n",
       "       '48463.32',\n",
       "       '48463.32',\n",
       "       '48470.05',\n",
       "       '48463.11',\n",
       "       '48463.03',\n",
       "       '48469.23',\n",
       "       '48463.12',\n",
       "       '48463.03',\n",
       "       '48463.03',\n",
       "       '48462.66',\n",
       "       '48464.27',\n",
       "       '48462.65',\n",
       "       '48462.65',\n",
       "       '48456.59',\n",
       "       '48461.65',\n",
       "       '48461.65',\n",
       "       '48461.65',\n",
       "       '48461.65',\n",
       "       '48461.65',\n",
       "       '48461.65',\n",
       "       '48461.65',\n",
       "       '48461.65',\n",
       "       '48461.65',\n",
       "       '48461.65',\n",
       "       '48461.65',\n",
       "       '48461.65',\n",
       "       '48461.65',\n",
       "       '48461.65',\n",
       "       '48461.65',\n",
       "       '48461.65',\n",
       "       '48461.65',\n",
       "       '48461.65',\n",
       "       '48461.64',\n",
       "       '48461.64',\n",
       "       '48461.65',\n",
       "       '48461.64',\n",
       "       '48455',\n",
       "       '48453.11',\n",
       "       '48453.11',\n",
       "       '48453.11',\n",
       "       '48451.84',\n",
       "       '48451.51',\n",
       "       '48450',\n",
       "       '48448.11',\n",
       "       '48448.11',\n",
       "       '48448.1',\n",
       "       '48448',\n",
       "       '48447.95',\n",
       "       '48444',\n",
       "       '48444',\n",
       "       '48444.01',\n",
       "       '48444.01',\n",
       "       '48444.01',\n",
       "       '48444.01',\n",
       "       '48448.01',\n",
       "       '48444.01'])"
      ]
     },
     "metadata": {},
     "execution_count": 129
    }
   ],
   "source": [
    "wsClientTrades.prices"
   ]
  },
  {
   "cell_type": "code",
   "execution_count": 121,
   "metadata": {},
   "outputs": [
    {
     "output_type": "stream",
     "name": "stdout",
     "text": [
      "{'type': 'ticker', 'sequence': 24090365938, 'product_id': 'BTC-USD', 'price': '48500', 'open_24h': '54158.9', 'volume_24h': '39095.12821365', 'low_24h': '48381.05', 'high_24h': '55469.98', 'volume_30d': '457897.84617847', 'best_bid': '48499.99', 'best_ask': '48500.00', 'side': 'buy', 'time': '2021-04-23T07:31:51.528005Z', 'trade_id': 160056966, 'last_size': '1.72'}\n{'type': 'ticker', 'sequence': 24090365938, 'product_id': 'BTC-USD', 'price': '48500', 'open_24h': '54158.9', 'volume_24h': '39095.12821365', 'low_24h': '48381.05', 'high_24h': '55469.98', 'volume_30d': '457897.84617847', 'best_bid': '48499.99', 'best_ask': '48500.00', 'side': 'buy', 'time': '2021-04-23T07:31:51.528005Z', 'trade_id': 160056966, 'last_size': '1.72'}\n{'type': 'ticker', 'sequence': 24090365938, 'product_id': 'BTC-USD', 'price': '48500', 'open_24h': '54158.9', 'volume_24h': '39110.88016391', 'low_24h': '48381.05', 'high_24h': '55469.98', 'volume_30d': '457913.59812873', 'best_bid': '48499.99', 'best_ask': '48500.00', 'side': 'buy', 'time': '2021-04-23T07:31:51.528005Z', 'trade_id': 160056966, 'last_size': '1.72'}\n<class 'dict'>\n{'type': 'ticker', 'sequence': 24090365938, 'product_id': 'BTC-USD', 'price': '48500', 'open_24h': '54158.9', 'volume_24h': '39110.88016391', 'low_24h': '48381.05', 'high_24h': '55469.98', 'volume_30d': '457913.59812873', 'best_bid': '48499.99', 'best_ask': '48500.00', 'side': 'buy', 'time': '2021-04-23T07:31:51.528005Z', 'trade_id': 160056966, 'last_size': '1.72'}\n{'type': 'ticker', 'sequence': 24090365975, 'product_id': 'BTC-USD', 'price': '48500', 'open_24h': '54158.9', 'volume_24h': '39095.37717445', 'low_24h': '48381.05', 'high_24h': '55469.98', 'volume_30d': '457898.09513927', 'best_bid': '48499.99', 'best_ask': '48500.00', 'side': 'buy', 'time': '2021-04-23T07:31:51.565079Z', 'trade_id': 160056967, 'last_size': '0.2489608'}\n{'type': 'ticker', 'sequence': 24090365975, 'product_id': 'BTC-USD', 'price': '48500', 'open_24h': '54158.9', 'volume_24h': '39095.37717445', 'low_24h': '48381.05', 'high_24h': '55469.98', 'volume_30d': '457898.09513927', 'best_bid': '48499.99', 'best_ask': '48500.00', 'side': 'buy', 'time': '2021-04-23T07:31:51.565079Z', 'trade_id': 160056967, 'last_size': '0.2489608'}\n{'type': 'ticker', 'sequence': 24090365977, 'product_id': 'BTC-USD', 'price': '48500', 'open_24h': '54158.9', 'volume_24h': '39095.44723130', 'low_24h': '48381.05', 'high_24h': '55469.98', 'volume_30d': '457898.16519612', 'best_bid': '48499.99', 'best_ask': '48505.71', 'side': 'buy', 'time': '2021-04-23T07:31:51.565079Z', 'trade_id': 160056968, 'last_size': '0.07005685'}\n{'type': 'ticker', 'sequence': 24090365977, 'product_id': 'BTC-USD', 'price': '48500', 'open_24h': '54158.9', 'volume_24h': '39095.44723130', 'low_24h': '48381.05', 'high_24h': '55469.98', 'volume_30d': '457898.16519612', 'best_bid': '48499.99', 'best_ask': '48505.71', 'side': 'buy', 'time': '2021-04-23T07:31:51.565079Z', 'trade_id': 160056968, 'last_size': '0.07005685'}\n{'type': 'ticker', 'sequence': 24090365975, 'product_id': 'BTC-USD', 'price': '48500', 'open_24h': '54158.9', 'volume_24h': '39111.12912471', 'low_24h': '48381.05', 'high_24h': '55469.98', 'volume_30d': '457913.84708953', 'best_bid': '48499.99', 'best_ask': '48500.00', 'side': 'buy', 'time': '2021-04-23T07:31:51.565079Z', 'trade_id': 160056967, 'last_size': '0.2489608'}\n<class 'dict'>\n{'type': 'ticker', 'sequence': 24090365975, 'product_id': 'BTC-USD', 'price': '48500', 'open_24h': '54158.9', 'volume_24h': '39111.12912471', 'low_24h': '48381.05', 'high_24h': '55469.98', 'volume_30d': '457913.84708953', 'best_bid': '48499.99', 'best_ask': '48500.00', 'side': 'buy', 'time': '2021-04-23T07:31:51.565079Z', 'trade_id': 160056967, 'last_size': '0.2489608'}\n{'type': 'ticker', 'sequence': 24090365977, 'product_id': 'BTC-USD', 'price': '48500', 'open_24h': '54158.9', 'volume_24h': '39111.19918156', 'low_24h': '48381.05', 'high_24h': '55469.98', 'volume_30d': '457913.91714638', 'best_bid': '48499.99', 'best_ask': '48505.71', 'side': 'buy', 'time': '2021-04-23T07:31:51.565079Z', 'trade_id': 160056968, 'last_size': '0.07005685'}\n<class 'dict'>\n{'type': 'ticker', 'sequence': 24090365977, 'product_id': 'BTC-USD', 'price': '48500', 'open_24h': '54158.9', 'volume_24h': '39111.19918156', 'low_24h': '48381.05', 'high_24h': '55469.98', 'volume_30d': '457913.91714638', 'best_bid': '48499.99', 'best_ask': '48505.71', 'side': 'buy', 'time': '2021-04-23T07:31:51.565079Z', 'trade_id': 160056968, 'last_size': '0.07005685'}\n{'type': 'ticker', 'sequence': 24090366046, 'product_id': 'BTC-USD', 'price': '48505.7', 'open_24h': '54158.9', 'volume_24h': '39095.52793130', 'low_24h': '48381.05', 'high_24h': '55469.98', 'volume_30d': '457898.24589612', 'best_bid': '48505.69', 'best_ask': '48505.70', 'side': 'buy', 'time': '2021-04-23T07:31:51.623419Z', 'trade_id': 160056969, 'last_size': '0.0807'}\n{'type': 'ticker', 'sequence': 24090366046, 'product_id': 'BTC-USD', 'price': '48505.7', 'open_24h': '54158.9', 'volume_24h': '39095.52793130', 'low_24h': '48381.05', 'high_24h': '55469.98', 'volume_30d': '457898.24589612', 'best_bid': '48505.69', 'best_ask': '48505.70', 'side': 'buy', 'time': '2021-04-23T07:31:51.623419Z', 'trade_id': 160056969, 'last_size': '0.0807'}\n{'type': 'ticker', 'sequence': 24090366046, 'product_id': 'BTC-USD', 'price': '48505.7', 'open_24h': '54158.9', 'volume_24h': '39111.27988156', 'low_24h': '48381.05', 'high_24h': '55469.98', 'volume_30d': '457913.99784638', 'best_bid': '48505.69', 'best_ask': '48505.70', 'side': 'buy', 'time': '2021-04-23T07:31:51.623419Z', 'trade_id': 160056969, 'last_size': '0.0807'}\n<class 'dict'>\n{'type': 'ticker', 'sequence': 24090366046, 'product_id': 'BTC-USD', 'price': '48505.7', 'open_24h': '54158.9', 'volume_24h': '39111.27988156', 'low_24h': '48381.05', 'high_24h': '55469.98', 'volume_30d': '457913.99784638', 'best_bid': '48505.69', 'best_ask': '48505.70', 'side': 'buy', 'time': '2021-04-23T07:31:51.623419Z', 'trade_id': 160056969, 'last_size': '0.0807'}\n{'type': 'ticker', 'sequence': 24090366094, 'product_id': 'BTC-USD', 'price': '48505.69', 'open_24h': '54158.9', 'volume_24h': '39095.54769130', 'low_24h': '48381.05', 'high_24h': '55469.98', 'volume_30d': '457898.26565612', 'best_bid': '48502.42', 'best_ask': '48505.71', 'side': 'sell', 'time': '2021-04-23T07:31:51.672420Z', 'trade_id': 160056970, 'last_size': '0.01976'}\n{'type': 'ticker', 'sequence': 24090366094, 'product_id': 'BTC-USD', 'price': '48505.69', 'open_24h': '54158.9', 'volume_24h': '39095.54769130', 'low_24h': '48381.05', 'high_24h': '55469.98', 'volume_30d': '457898.26565612', 'best_bid': '48502.42', 'best_ask': '48505.71', 'side': 'sell', 'time': '2021-04-23T07:31:51.672420Z', 'trade_id': 160056970, 'last_size': '0.01976'}\n{'type': 'ticker', 'sequence': 24090366096, 'product_id': 'BTC-USD', 'price': '48502.42', 'open_24h': '54158.9', 'volume_24h': '39096.84769130', 'low_24h': '48381.05', 'high_24h': '55469.98', 'volume_30d': '457899.56565612', 'best_bid': '48499.99', 'best_ask': '48505.71', 'side': 'sell', 'time': '2021-04-23T07:31:51.672420Z', 'trade_id': 160056971, 'last_size': '1.3'}\n{'type': 'ticker', 'sequence': 24090366096, 'product_id': 'BTC-USD', 'price': '48502.42', 'open_24h': '54158.9', 'volume_24h': '39096.84769130', 'low_24h': '48381.05', 'high_24h': '55469.98', 'volume_30d': '457899.56565612', 'best_bid': '48499.99', 'best_ask': '48505.71', 'side': 'sell', 'time': '2021-04-23T07:31:51.672420Z', 'trade_id': 160056971, 'last_size': '1.3'}\n{'type': 'ticker', 'sequence': 24090366094, 'product_id': 'BTC-USD', 'price': '48505.69', 'open_24h': '54158.9', 'volume_24h': '39111.29964156', 'low_24h': '48381.05', 'high_24h': '55469.98', 'volume_30d': '457914.01760638', 'best_bid': '48502.42', 'best_ask': '48505.71', 'side': 'sell', 'time': '2021-04-23T07:31:51.672420Z', 'trade_id': 160056970, 'last_size': '0.01976'}\n<class 'dict'>\n{'type': 'ticker', 'sequence': 24090366094, 'product_id': 'BTC-USD', 'price': '48505.69', 'open_24h': '54158.9', 'volume_24h': '39111.29964156', 'low_24h': '48381.05', 'high_24h': '55469.98', 'volume_30d': '457914.01760638', 'best_bid': '48502.42', 'best_ask': '48505.71', 'side': 'sell', 'time': '2021-04-23T07:31:51.672420Z', 'trade_id': 160056970, 'last_size': '0.01976'}\n{'type': 'ticker', 'sequence': 24090366096, 'product_id': 'BTC-USD', 'price': '48502.42', 'open_24h': '54158.9', 'volume_24h': '39112.59964156', 'low_24h': '48381.05', 'high_24h': '55469.98', 'volume_30d': '457915.31760638', 'best_bid': '48499.99', 'best_ask': '48505.71', 'side': 'sell', 'time': '2021-04-23T07:31:51.672420Z', 'trade_id': 160056971, 'last_size': '1.3'}\n<class 'dict'>\n{'type': 'ticker', 'sequence': 24090366096, 'product_id': 'BTC-USD', 'price': '48502.42', 'open_24h': '54158.9', 'volume_24h': '39112.59964156', 'low_24h': '48381.05', 'high_24h': '55469.98', 'volume_30d': '457915.31760638', 'best_bid': '48499.99', 'best_ask': '48505.71', 'side': 'sell', 'time': '2021-04-23T07:31:51.672420Z', 'trade_id': 160056971, 'last_size': '1.3'}\n{'type': 'ticker', 'sequence': 24090366127, 'product_id': 'BTC-USD', 'price': '48505.71', 'open_24h': '54158.9', 'volume_24h': '39096.93249130', 'low_24h': '48381.05', 'high_24h': '55469.98', 'volume_30d': '457899.65045612', 'best_bid': '48499.99', 'best_ask': '48505.71', 'side': 'buy', 'time': '2021-04-23T07:31:51.703250Z', 'trade_id': 160056972, 'last_size': '0.0848'}\n{'type': 'ticker', 'sequence': 24090366127, 'product_id': 'BTC-USD', 'price': '48505.71', 'open_24h': '54158.9', 'volume_24h': '39096.93249130', 'low_24h': '48381.05', 'high_24h': '55469.98', 'volume_30d': '457899.65045612', 'best_bid': '48499.99', 'best_ask': '48505.71', 'side': 'buy', 'time': '2021-04-23T07:31:51.703250Z', 'trade_id': 160056972, 'last_size': '0.0848'}\n"
     ]
    },
    {
     "output_type": "execute_result",
     "data": {
      "text/plain": [
       "deque(['48494.97',\n",
       "       '48490.27',\n",
       "       '48494.97',\n",
       "       '48490.05',\n",
       "       '48490.05',\n",
       "       '48490.05',\n",
       "       '48495',\n",
       "       '48499.96',\n",
       "       '48499.96',\n",
       "       '48499.96',\n",
       "       '48500',\n",
       "       '48500',\n",
       "       '48500',\n",
       "       '48500',\n",
       "       '48499.91',\n",
       "       '48500',\n",
       "       '48500',\n",
       "       '48500',\n",
       "       '48500',\n",
       "       '48500',\n",
       "       '48500',\n",
       "       '48500',\n",
       "       '48500',\n",
       "       '48500',\n",
       "       '48509.21',\n",
       "       '48517.89',\n",
       "       '48528.7',\n",
       "       '48538.8',\n",
       "       '48538.8',\n",
       "       '48538.79',\n",
       "       '48516.6',\n",
       "       '48509.72',\n",
       "       '48509.24',\n",
       "       '48509.21',\n",
       "       '48509.2',\n",
       "       '48504.84',\n",
       "       '48504.68',\n",
       "       '48502.8',\n",
       "       '48500.52',\n",
       "       '48517.13',\n",
       "       '48511.75',\n",
       "       '48509.21',\n",
       "       '48506.05',\n",
       "       '48504.6',\n",
       "       '48504.61',\n",
       "       '48503.64',\n",
       "       '48500',\n",
       "       '48500',\n",
       "       '48500',\n",
       "       '48505.7',\n",
       "       '48505.69',\n",
       "       '48502.42'])"
      ]
     },
     "metadata": {},
     "execution_count": 121
    }
   ],
   "source": [
    "wsClientTrades.prices"
   ]
  },
  {
   "cell_type": "code",
   "execution_count": 66,
   "metadata": {},
   "outputs": [
    {
     "output_type": "execute_result",
     "data": {
      "text/plain": [
       "'49200'"
      ]
     },
     "metadata": {},
     "execution_count": 66
    }
   ],
   "source": [
    "wsClientTrades.all[0]['price']"
   ]
  },
  {
   "cell_type": "code",
   "execution_count": 84,
   "metadata": {},
   "outputs": [
    {
     "output_type": "execute_result",
     "data": {
      "text/plain": [
       "1000"
      ]
     },
     "metadata": {},
     "execution_count": 84
    }
   ],
   "source": [
    "len(wsClientTrades.all)\n"
   ]
  },
  {
   "cell_type": "code",
   "execution_count": 86,
   "metadata": {},
   "outputs": [
    {
     "output_type": "stream",
     "name": "stdout",
     "text": [
      "{'type': 'ticker', 'sequence': 24090124754, 'product_id': 'BTC-USD', 'price': '49076.85', 'open_24h': '54158.9', 'volume_24h': '38971.32809981', 'low_24h': '48381.05', 'high_24h': '55469.98', 'volume_30d': '457774.04606463', 'best_bid': '49076.84', 'best_ask': '49093.31', 'side': 'buy', 'time': '2021-04-23T07:26:27.933008Z', 'trade_id': 160054480, 'last_size': '0.0000275'}\n{'type': 'ticker', 'sequence': 24090124754, 'product_id': 'BTC-USD', 'price': '49076.85', 'open_24h': '54158.9', 'volume_24h': '38971.32809981', 'low_24h': '48381.05', 'high_24h': '55469.98', 'volume_30d': '457774.04606463', 'best_bid': '49076.84', 'best_ask': '49093.31', 'side': 'buy', 'time': '2021-04-23T07:26:27.933008Z', 'trade_id': 160054480, 'last_size': '0.0000275'}\n{'type': 'ticker', 'sequence': 24090124756, 'product_id': 'BTC-USD', 'price': '49093.31', 'open_24h': '54158.9', 'volume_24h': '38971.33003791', 'low_24h': '48381.05', 'high_24h': '55469.98', 'volume_30d': '457774.04800273', 'best_bid': '49076.84', 'best_ask': '49093.31', 'side': 'buy', 'time': '2021-04-23T07:26:27.933008Z', 'trade_id': 160054481, 'last_size': '0.0019381'}\n{'type': 'ticker', 'sequence': 24090124756, 'product_id': 'BTC-USD', 'price': '49093.31', 'open_24h': '54158.9', 'volume_24h': '38971.33003791', 'low_24h': '48381.05', 'high_24h': '55469.98', 'volume_30d': '457774.04800273', 'best_bid': '49076.84', 'best_ask': '49093.31', 'side': 'buy', 'time': '2021-04-23T07:26:27.933008Z', 'trade_id': 160054481, 'last_size': '0.0019381'}\n"
     ]
    }
   ],
   "source": [
    "wsClientTrades.close()"
   ]
  },
  {
   "cell_type": "code",
   "execution_count": 88,
   "metadata": {},
   "outputs": [
    {
     "output_type": "execute_result",
     "data": {
      "text/plain": [
       "{'type': 'ticker',\n",
       " 'sequence': 24090004820,\n",
       " 'product_id': 'BTC-USD',\n",
       " 'price': '49168.4',\n",
       " 'open_24h': '54158.9',\n",
       " 'volume_24h': '38905.85159071',\n",
       " 'low_24h': '48381.05',\n",
       " 'high_24h': '55469.98',\n",
       " 'volume_30d': '457708.56955553',\n",
       " 'best_bid': '49168.40',\n",
       " 'best_ask': '49182.17',\n",
       " 'side': 'sell',\n",
       " 'time': '2021-04-23T07:23:31.416220Z',\n",
       " 'trade_id': 160053472,\n",
       " 'last_size': '0.1322'}"
      ]
     },
     "metadata": {},
     "execution_count": 88
    }
   ],
   "source": [
    "wsClientTrades.all[0]"
   ]
  },
  {
   "cell_type": "code",
   "execution_count": 83,
   "metadata": {},
   "outputs": [
    {
     "output_type": "stream",
     "name": "stdout",
     "text": [
      "49234.64\n49236.92\n49238.14\n49238.38\n49238.62\n49240.19\n49240.26\n49241.27\n49242.36\n49246.08\n49250\n49250.78\n49251.81\n49252.64\n49252.64\n49254.35\n49262.18\n49263.08\n49263.5\n49264.19\n49264.19\n49204.14\n49209.75\n49209.74\n49207.24\n49204.21\n49204.19\n49209.75\n49209.75\n49228.94\n49229.95\n49229.95\n49229.95\n49229.95\n49229.95\n49229.95\n49229.94\n49229.94\n49225.35\n49225.35\n49225.35\n49225.34\n49207.78\n49207.78\n49207.19\n49207.78\n49207.78\n49207.78\n49205.71\n49205.71\n49202.7\n49204.58\n49204.58\n49202.77\n49202.73\n49204.59\n49204.59\n49204.59\n49204.59\n49204.59\n49204.59\n49204.59\n49204.59\n49204.59\n49204.58\n49204.58\n49204.58\n49204.57\n49202.69\n49179.68\n49179.68\n49179.68\n49179.68\n49179.69\n49179.69\n49178.79\n49172.71\n49176.1\n49176.1\n49176.06\n49176.03\n49173.76\n49173.78\n49173.78\n49173.78\n49180.28\n49179.64\n49181.51\n49181.51\n49181.51\n49184.15\n49184.15\n49184.29\n49200.8\n49206.79\n49207.39\n49200\n49208.41\n49208.41\n49208.41\n49210.38\n49211.01\n49210.81\n49214.37\n49214.36\n49214.37\n49214.1\n49210.08\n49210.08\n49210.08\n49216.22\n49216.02\n49215.65\n49222.74\n49222.74\n49222.73\n49222.74\n49222.74\n49222.74\n49222.74\n49222.74\n49222.74\n49222.74\n49222.74\n49231.96\n49231.95\n49231.95\n49231.96\n49237.28\n49248.36\n49248.36\n49248.36\n49248.35\n49248.35\n49248.36\n49248.36\n49248.36\n49248.35\n49248.35\n49248.35\n49248.36\n49248.36\n49262.18\n49262.18\n49262.18\n49262.18\n49262.18\n49262.17\n49262.17\n49262.17\n49262.18\n49262.17\n49262.17\n49262.18\n49262.18\n49262.18\n49262.17\n49262.18\n49262.17\n49262.17\n49262.17\n49262.16\n49262.16\n49262.16\n49258.32\n49257.86\n49262.16\n49257.74\n49260.47\n49261.52\n49251.08\n49251.09\n49251.08\n49254.44\n49254.4\n49255.53\n49255.53\n49255.53\n49254.46\n49254.45\n49254.45\n49254.46\n49254.46\n49254.46\n49260.52\n49260.52\n49260.52\n49260.52\n49261\n49260.99\n49260.99\n49260.99\n49261\n49260.99\n49260.99\n49261\n49261\n49261\n49269.39\n49269.39\n49269.39\n49269.39\n49269.38\n49269.39\n49269.39\n49269.39\n49270\n49270\n49270\n49289\n49289\n49289\n49289\n49289\n49288.99\n49288.99\n49288.99\n49288.99\n49288.99\n49288.99\n49286.17\n49280.4\n49272.7\n49272.7\n49276.22\n49276.22\n49269.38\n49275.46\n49275.46\n49275.45\n49275.45\n49269.39\n49269.38\n49275.47\n49269.38\n49269.38\n49265.62\n49269.39\n49265.47\n49266.41\n49263.36\n49263.36\n49266.4\n49267.01\n49266.4\n49266.4\n49266.39\n49263.28\n49263.64\n49259.35\n49257.35\n49257.35\n49257.35\n49263.31\n49268.11\n49270.58\n49267.22\n49267.21\n49263.31\n49263.3\n49263.29\n49263.31\n49250.84\n49250.83\n49250.83\n49250.82\n49250.83\n49250.83\n49250.83\n49250.83\n49250.84\n49276.22\n49276.22\n49276.22\n49276.22\n49280.96\n49280.97\n49280.96\n49280.96\n49280.96\n49280.95\n49278.07\n49278.06\n49276.22\n49280.97\n49278.07\n49278.07\n49278.07\n49278.07\n49278.07\n49278.07\n49276.62\n49278.07\n49276.62\n49276.62\n49276.62\n49276.61\n49276.61\n49276.62\n49276.62\n49276.62\n49276.62\n49276.61\n49276.62\n49276.61\n49276.61\n49276.61\n49276.61\n49276.61\n49276.61\n49276.61\n49269.89\n49269.88\n49269.88\n49269.89\n49269.89\n49269.89\n49270.69\n49270.69\n49270.69\n49270.69\n49270.69\n49270.68\n49276.62\n49276.62\n49276.62\n49276.62\n49276.62\n49276.62\n49276.62\n49276.62\n49276.61\n49276.6\n49276.62\n49270.52\n49271.1\n49271.1\n49270.82\n49270.81\n49270.52\n49270.51\n49270.51\n49271.11\n49271.1\n49270.51\n49270.5\n49265.13\n49262.27\n49261.69\n49258.49\n49257.38\n49253.39\n49252.13\n49267.59\n49259.02\n49252.12\n49252.11\n49270.52\n49270.51\n49264.15\n49254.88\n49252.12\n49252.09\n49261.7\n49261.69\n49252.8\n49252.13\n49250\n49246.25\n49244.88\n49240.92\n49240.91\n49240.37\n49237.87\n49237.87\n49237.86\n49237.81\n49235.77\n49235.76\n49234.99\n49234.46\n49234.37\n49232.57\n49232.2\n49231.16\n49230.76\n49230.66\n49261.25\n49258.49\n49255.93\n49252.82\n49252.82\n49252.14\n49252.13\n49244.9\n49244.89\n49244.89\n49249.51\n49249.51\n49249.51\n49251.34\n49251.34\n49251.34\n49253.9\n49253.72\n49253.39\n49253.39\n49253.38\n49253.38\n49253.16\n49253.16\n49252.21\n49251.36\n49251.35\n49251.34\n49251.34\n49251.33\n49251.33\n49269.87\n49264.97\n49271.5\n49276.61\n49271.83\n49271.49\n49271.49\n49271.49\n49276.62\n49271.5\n49271.53\n49270.12\n49270.11\n49269.62\n49276.58\n49276.62\n49276.61\n49276.61\n49276.62\n49276.62\n49276.61\n49276.61\n49276.6\n49273.35\n49276.62\n49276.61\n49276.62\n49276.62\n49276.62\n49277.34\n49277.34\n49277.33\n49277.33\n49277.32\n49276.62\n49276.62\n49276.62\n49276.62\n49276.61\n49273.37\n49273.37\n49273.37\n49273.35\n49259.2\n49259.22\n49267.88\n49268.85\n49268.96\n49269.4\n49268.85\n49268.85\n49260.49\n49260.49\n49260.49\n49260.48\n49260.47\n49260.47\n49260.47\n49260.47\n49253.71\n49253.71\n49253.71\n49253.7\n49253.71\n49253.71\n49253.71\n49253.72\n49257.23\n49253.72\n49253.72\n49257.25\n49257.25\n49257.24\n49257.24\n49257.24\n49257.24\n49257.24\n49257.24\n49257.24\n49257.24\n49257.25\n49257.25\n49257.24\n49257.24\n49257.24\n49257.24\n49253.72\n49257.24\n49257.24\n49257.24\n49257.24\n49257.24\n49257.24\n49257.23\n49253.71\n49253.7\n49253.7\n49253.7\n49253.69\n49253.69\n49252.21\n49248.37\n49248.37\n49248.37\n49248.37\n49248.36\n49248.36\n49248.36\n49248.36\n49248.35\n49245.9\n49237.84\n49237.83\n49237.83\n49237.84\n49237.84\n49237.83\n49237.83\n49237.67\n49237.66\n49237.65\n49237.65\n49237.65\n49237.65\n49234.76\n49234.57\n49234.56\n49234.56\n49230.01\n49230\n49227.79\n49226.31\n49222.74\n49222.45\n49222.45\n49222.45\n49222.45\n49222.45\n49220.44\n49219.04\n49218.51\n49218.49\n49218.46\n49212.26\n49212.25\n49211.29\n49210.93\n49210.92\n49208.22\n49208.06\n49208.05\n49207.68\n49207.21\n49201\n49200.99\n49200.5\n49198.99\n49198.48\n49197.49\n49196.17\n49195.14\n49194.03\n49192.02\n49190.53\n49190.26\n49188.71\n49184.05\n49181.51\n49180.5\n49180.3\n49179.7\n49176.03\n49175.38\n49171.69\n49170.6\n49170.6\n49169.01\n49169\n49168.02\n49164.76\n49164.76\n49161.09\n49159.51\n49158.68\n49158.68\n49155.61\n49155.61\n49152.35\n49150\n49150\n49150\n49148.43\n49148.03\n49142.79\n49142.66\n49138.97\n49137.64\n49135.63\n49135.19\n49129.38\n49125.26\n49125.11\n49125.1\n49124.62\n49124.62\n49124.62\n49116.53\n49116.5\n49115.64\n49115.63\n49109.3\n49109.3\n49105\n49104.24\n49104.2\n49101.82\n49101.28\n49101.28\n49101.28\n49100\n49100\n49100\n49100\n49095.66\n49095.3\n49093.02\n49092.91\n49090.71\n49090.38\n49084.51\n49083.7\n49083.35\n49077.25\n49077.24\n49076.69\n49075.76\n49075.44\n49074.46\n49074.14\n49072.95\n49071.64\n49071.64\n49070.29\n49069.69\n49068.25\n49068.01\n49066.68\n49060.57\n49059\n49055.5\n49055\n49032.03\n49021.98\n49020.39\n49020.3\n49018\n49017.93\n49017.39\n49011.66\n49009.95\n49005\n49002.01\n49002\n49001.39\n49001\n49001\n49000\n49000\n49000\n49000\n49000\n49000\n49000\n49000\n49000\n49000\n49000\n49000\n49000\n49000\n48997.79\n48979.74\n48975.4\n48972.31\n48971.12\n48969\n48966\n48964.83\n48964.76\n48961.96\n49000\n49000\n49000\n49140.01\n49124.63\n49123.31\n49140.01\n49140.01\n49208.21\n49140\n49140\n49206.17\n49168.4\n49168.4\n49182.17\n49182.76\n49173.53\n49170.9\n49168.41\n49168.4\n49168.18\n49164.55\n49164.54\n49164.54\n49164.54\n49164.53\n49164.31\n49163.47\n49163.47\n49164.3\n49164.3\n49160.15\n49160.14\n49156.4\n49156.4\n49156.39\n49156.39\n49156.39\n49150.88\n49150.88\n49150.88\n49150.87\n49150.39\n49147.52\n49147.52\n49147.52\n49147.51\n49147.51\n49147.51\n49147.51\n49147.5\n49145.84\n49145.84\n49145.84\n49145.84\n49145.85\n49145.84\n49145.84\n49145.84\n49145.83\n49145.6\n49145.6\n49145.61\n49145.61\n49145.61\n49145.61\n49145.61\n49145.85\n49145.85\n49156.4\n49145.85\n49156.4\n49169.48\n49169.96\n49147.27\n49146.11\n49146.11\n49169.48\n49169.48\n49169.66\n49169.66\n49169.66\n49169.66\n49169.65\n49162.38\n49161.22\n49166.3\n49161.7\n49161.69\n49161.69\n49161.69\n49161.25\n49161.24\n49151.85\n49159.76\n49159.98\n49150.99\n49150.98\n49142.33\n49141.84\n49141.83\n49141.83\n49139\n49138.01\n49147.2\n49147.19\n49135.11\n49152.3\n49136.54\n49136.04\n49136.04\n49136.03\n49135.59\n49135.58\n49131.24\n49135.8\n49133.72\n49131.24\n49127.39\n49135.81\n49135.81\n49135.81\n49135.81\n49135.81\n49135.81\n49135.25\n49135.81\n{'type': 'ticker', 'sequence': 24090033097, 'product_id': 'BTC-USD', 'price': '49196.82', 'open_24h': '54158.9', 'volume_24h': '38883.39531209', 'low_24h': '48381.05', 'high_24h': '55469.98', 'volume_30d': '457686.11327691', 'best_bid': '49196.82', 'best_ask': '49196.83', 'side': 'sell', 'time': '2021-04-23T07:24:10.776732Z', 'trade_id': 160053751, 'last_size': '0.01976'}\n{'type': 'ticker', 'sequence': 24090033097, 'product_id': 'BTC-USD', 'price': '49196.82', 'open_24h': '54158.9', 'volume_24h': '38883.39531209', 'low_24h': '48381.05', 'high_24h': '55469.98', 'volume_30d': '457686.11327691', 'best_bid': '49196.82', 'best_ask': '49196.83', 'side': 'sell', 'time': '2021-04-23T07:24:10.776732Z', 'trade_id': 160053751, 'last_size': '0.01976'}\n{'type': 'ticker', 'sequence': 24090033099, 'product_id': 'BTC-USD', 'price': '49196.82', 'open_24h': '54158.9', 'volume_24h': '38883.41505209', 'low_24h': '48381.05', 'high_24h': '55469.98', 'volume_30d': '457686.13301691', 'best_bid': '49196.82', 'best_ask': '49196.83', 'side': 'sell', 'time': '2021-04-23T07:24:10.776732Z', 'trade_id': 160053752, 'last_size': '0.01974'}\n{'type': 'ticker', 'sequence': 24090033099, 'product_id': 'BTC-USD', 'price': '49196.82', 'open_24h': '54158.9', 'volume_24h': '38883.41505209', 'low_24h': '48381.05', 'high_24h': '55469.98', 'volume_30d': '457686.13301691', 'best_bid': '49196.82', 'best_ask': '49196.83', 'side': 'sell', 'time': '2021-04-23T07:24:10.776732Z', 'trade_id': 160053752, 'last_size': '0.01974'}\n{'type': 'ticker', 'sequence': 24090033097, 'product_id': 'BTC-USD', 'price': '49196.82', 'open_24h': '54158.9', 'volume_24h': '38883.83083803', 'low_24h': '48381.05', 'high_24h': '55469.98', 'volume_30d': '457686.54880285', 'best_bid': '49196.82', 'best_ask': '49196.83', 'side': 'sell', 'time': '2021-04-23T07:24:10.776732Z', 'trade_id': 160053751, 'last_size': '0.01976'}\n{'type': 'ticker', 'sequence': 24090033097, 'product_id': 'BTC-USD', 'price': '49196.82', 'open_24h': '54158.9', 'volume_24h': '38883.83083803', 'low_24h': '48381.05', 'high_24h': '55469.98', 'volume_30d': '457686.54880285', 'best_bid': '49196.82', 'best_ask': '49196.83', 'side': 'sell', 'time': '2021-04-23T07:24:10.776732Z', 'trade_id': 160053751, 'last_size': '0.01976'}\n{'type': 'ticker', 'sequence': 24090033099, 'product_id': 'BTC-USD', 'price': '49196.82', 'open_24h': '54158.9', 'volume_24h': '38883.85057803', 'low_24h': '48381.05', 'high_24h': '55469.98', 'volume_30d': '457686.56854285', 'best_bid': '49196.82', 'best_ask': '49196.83', 'side': 'sell', 'time': '2021-04-23T07:24:10.776732Z', 'trade_id': 160053752, 'last_size': '0.01974'}\n{'type': 'ticker', 'sequence': 24090033099, 'product_id': 'BTC-USD', 'price': '49196.82', 'open_24h': '54158.9', 'volume_24h': '38883.85057803', 'low_24h': '48381.05', 'high_24h': '55469.98', 'volume_30d': '457686.56854285', 'best_bid': '49196.82', 'best_ask': '49196.83', 'side': 'sell', 'time': '2021-04-23T07:24:10.776732Z', 'trade_id': 160053752, 'last_size': '0.01974'}\n"
     ]
    },
    {
     "output_type": "error",
     "ename": "RuntimeError",
     "evalue": "deque mutated during iteration",
     "traceback": [
      "\u001b[0;31m---------------------------------------------------------------------------\u001b[0m",
      "\u001b[0;31mRuntimeError\u001b[0m                              Traceback (most recent call last)",
      "\u001b[0;32m<ipython-input-83-9bd82c5f46a8>\u001b[0m in \u001b[0;36m<module>\u001b[0;34m\u001b[0m\n\u001b[0;32m----> 1\u001b[0;31m \u001b[0;32mfor\u001b[0m \u001b[0mel\u001b[0m \u001b[0;32min\u001b[0m \u001b[0mwsClientTrades\u001b[0m\u001b[0;34m.\u001b[0m\u001b[0mall\u001b[0m\u001b[0;34m:\u001b[0m\u001b[0;34m\u001b[0m\u001b[0;34m\u001b[0m\u001b[0m\n\u001b[0m\u001b[1;32m      2\u001b[0m     \u001b[0mprint\u001b[0m\u001b[0;34m(\u001b[0m\u001b[0mel\u001b[0m\u001b[0;34m[\u001b[0m\u001b[0;34m'price'\u001b[0m\u001b[0;34m]\u001b[0m\u001b[0;34m)\u001b[0m\u001b[0;34m\u001b[0m\u001b[0;34m\u001b[0m\u001b[0m\n",
      "\u001b[0;31mRuntimeError\u001b[0m: deque mutated during iteration"
     ]
    }
   ],
   "source": [
    "for el in wsClientTrades.all:\n",
    "    print(el['price'])"
   ]
  },
  {
   "cell_type": "code",
   "execution_count": 74,
   "metadata": {},
   "outputs": [
    {
     "output_type": "stream",
     "name": "stdout",
     "text": [
      "{'type': 'ticker', 'sequence': 24089797546, 'product_id': 'BTC-USD', 'price': '49165.6', 'open_24h': '54158.9', 'volume_24h': '38798.73716123', 'low_24h': '48381.05', 'high_24h': '55469.98', 'volume_30d': '457601.45512605', 'best_bid': '49165.60', 'best_ask': '49168.84', 'side': 'sell', 'time': '2021-04-23T07:17:59.150024Z', 'trade_id': 160051615, 'last_size': '0.01392919'}\n{'type': 'ticker', 'sequence': 24089797546, 'product_id': 'BTC-USD', 'price': '49165.6', 'open_24h': '54158.9', 'volume_24h': '38798.73716123', 'low_24h': '48381.05', 'high_24h': '55469.98', 'volume_30d': '457601.45512605', 'best_bid': '49165.60', 'best_ask': '49168.84', 'side': 'sell', 'time': '2021-04-23T07:17:59.150024Z', 'trade_id': 160051615, 'last_size': '0.01392919'}\n{'type': 'ticker', 'sequence': 24089797546, 'product_id': 'BTC-USD', 'price': '49165.6', 'open_24h': '54158.9', 'volume_24h': '38799.75829611', 'low_24h': '48381.05', 'high_24h': '55469.98', 'volume_30d': '457602.47626093', 'best_bid': '49165.60', 'best_ask': '49168.84', 'side': 'sell', 'time': '2021-04-23T07:17:59.150024Z', 'trade_id': 160051615, 'last_size': '0.01392919'}\n{'type': 'ticker', 'sequence': 24089797546, 'product_id': 'BTC-USD', 'price': '49165.6', 'open_24h': '54158.9', 'volume_24h': '38799.75829611', 'low_24h': '48381.05', 'high_24h': '55469.98', 'volume_30d': '457602.47626093', 'best_bid': '49165.60', 'best_ask': '49168.84', 'side': 'sell', 'time': '2021-04-23T07:17:59.150024Z', 'trade_id': 160051615, 'last_size': '0.01392919'}\n{'type': 'ticker', 'sequence': 24089797563, 'product_id': 'BTC-USD', 'price': '49165.6', 'open_24h': '54158.9', 'volume_24h': '38799.85939611', 'low_24h': '48381.05', 'high_24h': '55469.98', 'volume_30d': '457602.57736093', 'best_bid': '49165.60', 'best_ask': '49168.84', 'side': 'sell', 'time': '2021-04-23T07:17:59.171220Z', 'trade_id': 160051616, 'last_size': '0.1011'}\n{'type': 'ticker', 'sequence': 24089797563, 'product_id': 'BTC-USD', 'price': '49165.6', 'open_24h': '54158.9', 'volume_24h': '38799.85939611', 'low_24h': '48381.05', 'high_24h': '55469.98', 'volume_30d': '457602.57736093', 'best_bid': '49165.60', 'best_ask': '49168.84', 'side': 'sell', 'time': '2021-04-23T07:17:59.171220Z', 'trade_id': 160051616, 'last_size': '0.1011'}\n{'type': 'ticker', 'sequence': 24089797592, 'product_id': 'BTC-USD', 'price': '49165.61', 'open_24h': '54158.9', 'volume_24h': '38799.86137650', 'low_24h': '48381.05', 'high_24h': '55469.98', 'volume_30d': '457602.57934132', 'best_bid': '49165.60', 'best_ask': '49165.61', 'side': 'buy', 'time': '2021-04-23T07:17:59.190440Z', 'trade_id': 160051617, 'last_size': '0.00198039'}\n{'type': 'ticker', 'sequence': 24089797592, 'product_id': 'BTC-USD', 'price': '49165.61', 'open_24h': '54158.9', 'volume_24h': '38799.86137650', 'low_24h': '48381.05', 'high_24h': '55469.98', 'volume_30d': '457602.57934132', 'best_bid': '49165.60', 'best_ask': '49165.61', 'side': 'buy', 'time': '2021-04-23T07:17:59.190440Z', 'trade_id': 160051617, 'last_size': '0.00198039'}\n{'type': 'ticker', 'sequence': 24089797563, 'product_id': 'BTC-USD', 'price': '49165.6', 'open_24h': '54158.9', 'volume_24h': '38798.83826123', 'low_24h': '48381.05', 'high_24h': '55469.98', 'volume_30d': '457601.55622605', 'best_bid': '49165.60', 'best_ask': '49168.84', 'side': 'sell', 'time': '2021-04-23T07:17:59.171220Z', 'trade_id': 160051616, 'last_size': '0.1011'}\n{'type': 'ticker', 'sequence': 24089797563, 'product_id': 'BTC-USD', 'price': '49165.6', 'open_24h': '54158.9', 'volume_24h': '38798.83826123', 'low_24h': '48381.05', 'high_24h': '55469.98', 'volume_30d': '457601.55622605', 'best_bid': '49165.60', 'best_ask': '49168.84', 'side': 'sell', 'time': '2021-04-23T07:17:59.171220Z', 'trade_id': 160051616, 'last_size': '0.1011'}\n{'type': 'ticker', 'sequence': 24089797592, 'product_id': 'BTC-USD', 'price': '49165.61', 'open_24h': '54158.9', 'volume_24h': '38798.84024162', 'low_24h': '48381.05', 'high_24h': '55469.98', 'volume_30d': '457601.55820644', 'best_bid': '49165.60', 'best_ask': '49165.61', 'side': 'buy', 'time': '2021-04-23T07:17:59.190440Z', 'trade_id': 160051617, 'last_size': '0.00198039'}\n{'type': 'ticker', 'sequence': 24089797592, 'product_id': 'BTC-USD', 'price': '49165.61', 'open_24h': '54158.9', 'volume_24h': '38798.84024162', 'low_24h': '48381.05', 'high_24h': '55469.98', 'volume_30d': '457601.55820644', 'best_bid': '49165.60', 'best_ask': '49165.61', 'side': 'buy', 'time': '2021-04-23T07:17:59.190440Z', 'trade_id': 160051617, 'last_size': '0.00198039'}\n{'type': 'ticker', 'sequence': 24089797618, 'product_id': 'BTC-USD', 'price': '49165.61', 'open_24h': '54158.9', 'volume_24h': '38798.84765549', 'low_24h': '48381.05', 'high_24h': '55469.98', 'volume_30d': '457601.56562031', 'best_bid': '49165.60', 'best_ask': '49168.84', 'side': 'buy', 'time': '2021-04-23T07:17:59.221729Z', 'trade_id': 160051618, 'last_size': '0.00741387'}\n{'type': 'ticker', 'sequence': 24089797618, 'product_id': 'BTC-USD', 'price': '49165.61', 'open_24h': '54158.9', 'volume_24h': '38798.84765549', 'low_24h': '48381.05', 'high_24h': '55469.98', 'volume_30d': '457601.56562031', 'best_bid': '49165.60', 'best_ask': '49168.84', 'side': 'buy', 'time': '2021-04-23T07:17:59.221729Z', 'trade_id': 160051618, 'last_size': '0.00741387'}\n{'type': 'ticker', 'sequence': 24089797620, 'product_id': 'BTC-USD', 'price': '49168.84', 'open_24h': '54158.9', 'volume_24h': '38798.85924162', 'low_24h': '48381.05', 'high_24h': '55469.98', 'volume_30d': '457601.57720644', 'best_bid': '49165.60', 'best_ask': '49168.84', 'side': 'buy', 'time': '2021-04-23T07:17:59.221729Z', 'trade_id': 160051619, 'last_size': '0.01158613'}\n{'type': 'ticker', 'sequence': 24089797620, 'product_id': 'BTC-USD', 'price': '49168.84', 'open_24h': '54158.9', 'volume_24h': '38798.85924162', 'low_24h': '48381.05', 'high_24h': '55469.98', 'volume_30d': '457601.57720644', 'best_bid': '49165.60', 'best_ask': '49168.84', 'side': 'buy', 'time': '2021-04-23T07:17:59.221729Z', 'trade_id': 160051619, 'last_size': '0.01158613'}\n{'type': 'ticker', 'sequence': 24089797618, 'product_id': 'BTC-USD', 'price': '49165.61', 'open_24h': '54158.9', 'volume_24h': '38799.86879037', 'low_24h': '48381.05', 'high_24h': '55469.98', 'volume_30d': '457602.58675519', 'best_bid': '49165.60', 'best_ask': '49168.84', 'side': 'buy', 'time': '2021-04-23T07:17:59.221729Z', 'trade_id': 160051618, 'last_size': '0.00741387'}\n{'type': 'ticker', 'sequence': 24089797618, 'product_id': 'BTC-USD', 'price': '49165.61', 'open_24h': '54158.9', 'volume_24h': '38799.86879037', 'low_24h': '48381.05', 'high_24h': '55469.98', 'volume_30d': '457602.58675519', 'best_bid': '49165.60', 'best_ask': '49168.84', 'side': 'buy', 'time': '2021-04-23T07:17:59.221729Z', 'trade_id': 160051618, 'last_size': '0.00741387'}\n{'type': 'ticker', 'sequence': 24089797620, 'product_id': 'BTC-USD', 'price': '49168.84', 'open_24h': '54158.9', 'volume_24h': '38799.88037650', 'low_24h': '48381.05', 'high_24h': '55469.98', 'volume_30d': '457602.59834132', 'best_bid': '49165.60', 'best_ask': '49168.84', 'side': 'buy', 'time': '2021-04-23T07:17:59.221729Z', 'trade_id': 160051619, 'last_size': '0.01158613'}\n{'type': 'ticker', 'sequence': 24089797620, 'product_id': 'BTC-USD', 'price': '49168.84', 'open_24h': '54158.9', 'volume_24h': '38799.88037650', 'low_24h': '48381.05', 'high_24h': '55469.98', 'volume_30d': '457602.59834132', 'best_bid': '49165.60', 'best_ask': '49168.84', 'side': 'buy', 'time': '2021-04-23T07:17:59.221729Z', 'trade_id': 160051619, 'last_size': '0.01158613'}\n2021-04-23 07:15:31.497929\n"
     ]
    },
    {
     "output_type": "error",
     "ename": "ValueError",
     "evalue": "time data '2021-04-23T07:15:31.497929Z' does not match format '%Y-%m-%dT%H:%M:%S.%Z'",
     "traceback": [
      "\u001b[0;31m---------------------------------------------------------------------------\u001b[0m",
      "\u001b[0;31mValueError\u001b[0m                                Traceback (most recent call last)",
      "\u001b[0;32m<ipython-input-74-3e6e5e960cd5>\u001b[0m in \u001b[0;36m<module>\u001b[0;34m\u001b[0m\n\u001b[1;32m      1\u001b[0m \u001b[0mprint\u001b[0m\u001b[0;34m(\u001b[0m\u001b[0mdatetime\u001b[0m\u001b[0;34m.\u001b[0m\u001b[0mstrptime\u001b[0m\u001b[0;34m(\u001b[0m\u001b[0mwsClientTrades\u001b[0m\u001b[0;34m.\u001b[0m\u001b[0mall\u001b[0m\u001b[0;34m[\u001b[0m\u001b[0;36m0\u001b[0m\u001b[0;34m]\u001b[0m\u001b[0;34m[\u001b[0m\u001b[0;34m'time'\u001b[0m\u001b[0;34m]\u001b[0m\u001b[0;34m,\u001b[0m \u001b[0;34m'%Y-%m-%dT%H:%M:%S.%fZ'\u001b[0m\u001b[0;34m)\u001b[0m\u001b[0;34m)\u001b[0m\u001b[0;34m\u001b[0m\u001b[0;34m\u001b[0m\u001b[0m\n\u001b[0;32m----> 2\u001b[0;31m \u001b[0mprint\u001b[0m\u001b[0;34m(\u001b[0m\u001b[0mdatetime\u001b[0m\u001b[0;34m.\u001b[0m\u001b[0mstrptime\u001b[0m\u001b[0;34m(\u001b[0m\u001b[0mwsClientTrades\u001b[0m\u001b[0;34m.\u001b[0m\u001b[0mall\u001b[0m\u001b[0;34m[\u001b[0m\u001b[0;36m0\u001b[0m\u001b[0;34m]\u001b[0m\u001b[0;34m[\u001b[0m\u001b[0;34m'time'\u001b[0m\u001b[0;34m]\u001b[0m\u001b[0;34m,\u001b[0m \u001b[0;34m'%Y-%m-%dT%H:%M:%S.%Z'\u001b[0m\u001b[0;34m)\u001b[0m\u001b[0;34m)\u001b[0m\u001b[0;34m\u001b[0m\u001b[0;34m\u001b[0m\u001b[0m\n\u001b[0m",
      "\u001b[0;32m~/anaconda3/envs/capstone/lib/python3.9/_strptime.py\u001b[0m in \u001b[0;36m_strptime_datetime\u001b[0;34m(cls, data_string, format)\u001b[0m\n\u001b[1;32m    566\u001b[0m     \"\"\"Return a class cls instance based on the input string and the\n\u001b[1;32m    567\u001b[0m     format string.\"\"\"\n\u001b[0;32m--> 568\u001b[0;31m     \u001b[0mtt\u001b[0m\u001b[0;34m,\u001b[0m \u001b[0mfraction\u001b[0m\u001b[0;34m,\u001b[0m \u001b[0mgmtoff_fraction\u001b[0m \u001b[0;34m=\u001b[0m \u001b[0m_strptime\u001b[0m\u001b[0;34m(\u001b[0m\u001b[0mdata_string\u001b[0m\u001b[0;34m,\u001b[0m \u001b[0mformat\u001b[0m\u001b[0;34m)\u001b[0m\u001b[0;34m\u001b[0m\u001b[0;34m\u001b[0m\u001b[0m\n\u001b[0m\u001b[1;32m    569\u001b[0m     \u001b[0mtzname\u001b[0m\u001b[0;34m,\u001b[0m \u001b[0mgmtoff\u001b[0m \u001b[0;34m=\u001b[0m \u001b[0mtt\u001b[0m\u001b[0;34m[\u001b[0m\u001b[0;34m-\u001b[0m\u001b[0;36m2\u001b[0m\u001b[0;34m:\u001b[0m\u001b[0;34m]\u001b[0m\u001b[0;34m\u001b[0m\u001b[0;34m\u001b[0m\u001b[0m\n\u001b[1;32m    570\u001b[0m     \u001b[0margs\u001b[0m \u001b[0;34m=\u001b[0m \u001b[0mtt\u001b[0m\u001b[0;34m[\u001b[0m\u001b[0;34m:\u001b[0m\u001b[0;36m6\u001b[0m\u001b[0;34m]\u001b[0m \u001b[0;34m+\u001b[0m \u001b[0;34m(\u001b[0m\u001b[0mfraction\u001b[0m\u001b[0;34m,\u001b[0m\u001b[0;34m)\u001b[0m\u001b[0;34m\u001b[0m\u001b[0;34m\u001b[0m\u001b[0m\n",
      "\u001b[0;32m~/anaconda3/envs/capstone/lib/python3.9/_strptime.py\u001b[0m in \u001b[0;36m_strptime\u001b[0;34m(data_string, format)\u001b[0m\n\u001b[1;32m    347\u001b[0m     \u001b[0mfound\u001b[0m \u001b[0;34m=\u001b[0m \u001b[0mformat_regex\u001b[0m\u001b[0;34m.\u001b[0m\u001b[0mmatch\u001b[0m\u001b[0;34m(\u001b[0m\u001b[0mdata_string\u001b[0m\u001b[0;34m)\u001b[0m\u001b[0;34m\u001b[0m\u001b[0;34m\u001b[0m\u001b[0m\n\u001b[1;32m    348\u001b[0m     \u001b[0;32mif\u001b[0m \u001b[0;32mnot\u001b[0m \u001b[0mfound\u001b[0m\u001b[0;34m:\u001b[0m\u001b[0;34m\u001b[0m\u001b[0;34m\u001b[0m\u001b[0m\n\u001b[0;32m--> 349\u001b[0;31m         raise ValueError(\"time data %r does not match format %r\" %\n\u001b[0m\u001b[1;32m    350\u001b[0m                          (data_string, format))\n\u001b[1;32m    351\u001b[0m     \u001b[0;32mif\u001b[0m \u001b[0mlen\u001b[0m\u001b[0;34m(\u001b[0m\u001b[0mdata_string\u001b[0m\u001b[0;34m)\u001b[0m \u001b[0;34m!=\u001b[0m \u001b[0mfound\u001b[0m\u001b[0;34m.\u001b[0m\u001b[0mend\u001b[0m\u001b[0;34m(\u001b[0m\u001b[0;34m)\u001b[0m\u001b[0;34m:\u001b[0m\u001b[0;34m\u001b[0m\u001b[0;34m\u001b[0m\u001b[0m\n",
      "\u001b[0;31mValueError\u001b[0m: time data '2021-04-23T07:15:31.497929Z' does not match format '%Y-%m-%dT%H:%M:%S.%Z'"
     ]
    }
   ],
   "source": [
    "datetime.strptime(wsClientTrades.all[0]['time'], '%Y-%m-%dT%H:%M:%S.%fZ')\n",
    "print(datetime.strptime(wsClientTrades.all[0]['time'], '%Y-%m-%dT%H:%M:%S.%Z'))"
   ]
  },
  {
   "cell_type": "code",
   "execution_count": 27,
   "metadata": {},
   "outputs": [
    {
     "output_type": "stream",
     "name": "stdout",
     "text": [
      "{'type': 'ticker', 'sequence': 24089390859, 'product_id': 'BTC-USD', 'price': '49008.78', 'open_24h': '54158.9', 'volume_24h': '38604.13338407', 'low_24h': '48381.05', 'high_24h': '55469.98', 'volume_30d': '457406.85134889', 'best_bid': '49008.77', 'best_ask': '49008.78', 'side': 'buy', 'time': '2021-04-23T07:07:32.213362Z', 'trade_id': 160047875, 'last_size': '0.00981361'}\n",
      "{'type': 'ticker', 'sequence': 24089390859, 'product_id': 'BTC-USD', 'price': '49008.78', 'open_24h': '54158.9', 'volume_24h': '38604.13338407', 'low_24h': '48381.05', 'high_24h': '55469.98', 'volume_30d': '457406.85134889', 'best_bid': '49008.77', 'best_ask': '49008.78', 'side': 'buy', 'time': '2021-04-23T07:07:32.213362Z', 'trade_id': 160047875, 'last_size': '0.00981361'}\n",
      "{'type': 'ticker', 'sequence': 24089390859, 'product_id': 'BTC-USD', 'price': '49008.78', 'open_24h': '54158.9', 'volume_24h': '38600.39370526', 'low_24h': '48381.05', 'high_24h': '55469.98', 'volume_30d': '457403.11167008', 'best_bid': '49008.77', 'best_ask': '49008.78', 'side': 'buy', 'time': '2021-04-23T07:07:32.213362Z', 'trade_id': 160047875, 'last_size': '0.00981361'}\n",
      "{'type': 'ticker', 'sequence': 24089390859, 'product_id': 'BTC-USD', 'price': '49008.78', 'open_24h': '54158.9', 'volume_24h': '38600.39370526', 'low_24h': '48381.05', 'high_24h': '55469.98', 'volume_30d': '457403.11167008', 'best_bid': '49008.77', 'best_ask': '49008.78', 'side': 'buy', 'time': '2021-04-23T07:07:32.213362Z', 'trade_id': 160047875, 'last_size': '0.00981361'}\n",
      "{'type': 'ticker', 'sequence': 24089390861, 'product_id': 'BTC-USD', 'price': '49008.78', 'open_24h': '54158.9', 'volume_24h': '38600.39930526', 'low_24h': '48381.05', 'high_24h': '55469.98', 'volume_30d': '457403.11727008', 'best_bid': '49008.77', 'best_ask': '49008.78', 'side': 'buy', 'time': '2021-04-23T07:07:32.213362Z', 'trade_id': 160047876, 'last_size': '0.0056'}\n",
      "{'type': 'ticker', 'sequence': 24089390861, 'product_id': 'BTC-USD', 'price': '49008.78', 'open_24h': '54158.9', 'volume_24h': '38600.39930526', 'low_24h': '48381.05', 'high_24h': '55469.98', 'volume_30d': '457403.11727008', 'best_bid': '49008.77', 'best_ask': '49008.78', 'side': 'buy', 'time': '2021-04-23T07:07:32.213362Z', 'trade_id': 160047876, 'last_size': '0.0056'}\n",
      "{'type': 'ticker', 'sequence': 24089390861, 'product_id': 'BTC-USD', 'price': '49008.78', 'open_24h': '54158.9', 'volume_24h': '38604.13898407', 'low_24h': '48381.05', 'high_24h': '55469.98', 'volume_30d': '457406.85694889', 'best_bid': '49008.77', 'best_ask': '49008.78', 'side': 'buy', 'time': '2021-04-23T07:07:32.213362Z', 'trade_id': 160047876, 'last_size': '0.0056'}{'type': 'ticker', 'sequence': 24089390863, 'product_id': 'BTC-USD', 'price': '49008.78', 'open_24h': '54158.9', 'volume_24h': '38600.40337289', 'low_24h': '48381.05', 'high_24h': '55469.98', 'volume_30d': '457403.12133771', 'best_bid': '49008.77', 'best_ask': '49008.79', 'side': 'buy', 'time': '2021-04-23T07:07:32.213362Z', 'trade_id': 160047877, 'last_size': '0.00406763'}\n",
      "{'type': 'ticker', 'sequence': 24089390861, 'product_id': 'BTC-USD', 'price': '49008.78', 'open_24h': '54158.9', 'volume_24h': '38604.13898407', 'low_24h': '48381.05', 'high_24h': '55469.98', 'volume_30d': '457406.85694889', 'best_bid': '49008.77', 'best_ask': '49008.78', 'side': 'buy', 'time': '2021-04-23T07:07:32.213362Z', 'trade_id': 160047876, 'last_size': '0.0056'}\n",
      "\n",
      "{'type': 'ticker', 'sequence': 24089390863, 'product_id': 'BTC-USD', 'price': '49008.78', 'open_24h': '54158.9', 'volume_24h': '38600.40337289', 'low_24h': '48381.05', 'high_24h': '55469.98', 'volume_30d': '457403.12133771', 'best_bid': '49008.77', 'best_ask': '49008.79', 'side': 'buy', 'time': '2021-04-23T07:07:32.213362Z', 'trade_id': 160047877, 'last_size': '0.00406763'}\n",
      "{'type': 'ticker', 'sequence': 24089390863, 'product_id': 'BTC-USD', 'price': '49008.78', 'open_24h': '54158.9', 'volume_24h': '38604.14305170', 'low_24h': '48381.05', 'high_24h': '55469.98', 'volume_30d': '457406.86101652', 'best_bid': '49008.77', 'best_ask': '49008.79', 'side': 'buy', 'time': '2021-04-23T07:07:32.213362Z', 'trade_id': 160047877, 'last_size': '0.00406763'}\n",
      "{'type': 'ticker', 'sequence': 24089390863, 'product_id': 'BTC-USD', 'price': '49008.78', 'open_24h': '54158.9', 'volume_24h': '38604.14305170', 'low_24h': '48381.05', 'high_24h': '55469.98', 'volume_30d': '457406.86101652', 'best_bid': '49008.77', 'best_ask': '49008.79', 'side': 'buy', 'time': '2021-04-23T07:07:32.213362Z', 'trade_id': 160047877, 'last_size': '0.00406763'}\n",
      "{'type': 'ticker', 'sequence': 24089390865, 'product_id': 'BTC-USD', 'price': '49008.79', 'open_24h': '54158.9', 'volume_24h': '38600.40387988', 'low_24h': '48381.05', 'high_24h': '55469.98', 'volume_30d': '457403.12184470', 'best_bid': '49008.77', 'best_ask': '49008.79', 'side': 'buy', 'time': '2021-04-23T07:07:32.213362Z', 'trade_id': 160047878, 'last_size': '0.00050699'}\n",
      "{'type': 'ticker', 'sequence': 24089390865, 'product_id': 'BTC-USD', 'price': '49008.79', 'open_24h': '54158.9', 'volume_24h': '38600.40387988', 'low_24h': '48381.05', 'high_24h': '55469.98', 'volume_30d': '457403.12184470', 'best_bid': '49008.77', 'best_ask': '49008.79', 'side': 'buy', 'time': '2021-04-23T07:07:32.213362Z', 'trade_id': 160047878, 'last_size': '0.00050699'}\n",
      "{'type': 'ticker', 'sequence': 24089390865, 'product_id': 'BTC-USD', 'price': '49008.79', 'open_24h': '54158.9', 'volume_24h': '38604.14355869', 'low_24h': '48381.05', 'high_24h': '55469.98', 'volume_30d': '457406.86152351', 'best_bid': '49008.77', 'best_ask': '49008.79', 'side': 'buy', 'time': '2021-04-23T07:07:32.213362Z', 'trade_id': 160047878, 'last_size': '0.00050699'}\n",
      "{'type': 'ticker', 'sequence': 24089390865, 'product_id': 'BTC-USD', 'price': '49008.79', 'open_24h': '54158.9', 'volume_24h': '38604.14355869', 'low_24h': '48381.05', 'high_24h': '55469.98', 'volume_30d': '457406.86152351', 'best_bid': '49008.77', 'best_ask': '49008.79', 'side': 'buy', 'time': '2021-04-23T07:07:32.213362Z', 'trade_id': 160047878, 'last_size': '0.00050699'}\n",
      "{'type': 'ticker', 'sequence': 24089390925, 'product_id': 'BTC-USD', 'price': '49008.79', 'open_24h': '54158.9', 'volume_24h': '38600.40457022', 'low_24h': '48381.05', 'high_24h': '55469.98', 'volume_30d': '457403.12253504', 'best_bid': '49008.78', 'best_ask': '49008.79', 'side': 'buy', 'time': '2021-04-23T07:07:32.312120Z', 'trade_id': 160047879, 'last_size': '0.00069034'}{'type': 'ticker', 'sequence': 24089390925, 'product_id': 'BTC-USD', 'price': '49008.79', 'open_24h': '54158.9', 'volume_24h': '38604.14424903', 'low_24h': '48381.05', 'high_24h': '55469.98', 'volume_30d': '457406.86221385', 'best_bid': '49008.78', 'best_ask': '49008.79', 'side': 'buy', 'time': '2021-04-23T07:07:32.312120Z', 'trade_id': 160047879, 'last_size': '0.00069034'}\n",
      "{'type': 'ticker', 'sequence': 24089390925, 'product_id': 'BTC-USD', 'price': '49008.79', 'open_24h': '54158.9', 'volume_24h': '38600.40457022', 'low_24h': '48381.05', 'high_24h': '55469.98', 'volume_30d': '457403.12253504', 'best_bid': '49008.78', 'best_ask': '49008.79', 'side': 'buy', 'time': '2021-04-23T07:07:32.312120Z', 'trade_id': 160047879, 'last_size': '0.00069034'}\n",
      "\n",
      "{'type': 'ticker', 'sequence': 24089390925, 'product_id': 'BTC-USD', 'price': '49008.79', 'open_24h': '54158.9', 'volume_24h': '38604.14424903', 'low_24h': '48381.05', 'high_24h': '55469.98', 'volume_30d': '457406.86221385', 'best_bid': '49008.78', 'best_ask': '49008.79', 'side': 'buy', 'time': '2021-04-23T07:07:32.312120Z', 'trade_id': 160047879, 'last_size': '0.00069034'}\n",
      "\n",
      "-- Socket Closed --\n",
      "{'type': 'ticker', 'sequence': 24089390949, 'product_id': 'BTC-USD', 'price': '49008.79', 'open_24h': '54158.9', 'volume_24h': '38600.40897289', 'low_24h': '48381.05', 'high_24h': '55469.98', 'volume_30d': '457403.12693771', 'best_bid': '49008.78', 'best_ask': '49012.78', 'side': 'buy', 'time': '2021-04-23T07:07:32.352500Z', 'trade_id': 160047880, 'last_size': '0.00440267'}\n",
      "{'type': 'ticker', 'sequence': 24089390949, 'product_id': 'BTC-USD', 'price': '49008.79', 'open_24h': '54158.9', 'volume_24h': '38600.40897289', 'low_24h': '48381.05', 'high_24h': '55469.98', 'volume_30d': '457403.12693771', 'best_bid': '49008.78', 'best_ask': '49012.78', 'side': 'buy', 'time': '2021-04-23T07:07:32.352500Z', 'trade_id': 160047880, 'last_size': '0.00440267'}\n",
      "{'type': 'ticker', 'sequence': 24089390951, 'product_id': 'BTC-USD', 'price': '49012.78', 'open_24h': '54158.9', 'volume_24h': '38600.44985390', 'low_24h': '48381.05', 'high_24h': '55469.98', 'volume_30d': '457403.16781872', 'best_bid': '49008.78', 'best_ask': '49021.99', 'side': 'buy', 'time': '2021-04-23T07:07:32.352500Z', 'trade_id': 160047881, 'last_size': '0.04088101'}\n",
      "{'type': 'ticker', 'sequence': 24089390951, 'product_id': 'BTC-USD', 'price': '49012.78', 'open_24h': '54158.9', 'volume_24h': '38600.44985390', 'low_24h': '48381.05', 'high_24h': '55469.98', 'volume_30d': '457403.16781872', 'best_bid': '49008.78', 'best_ask': '49021.99', 'side': 'buy', 'time': '2021-04-23T07:07:32.352500Z', 'trade_id': 160047881, 'last_size': '0.04088101'}\n",
      "{'type': 'ticker', 'sequence': 24089390953, 'product_id': 'BTC-USD', 'price': '49021.99', 'open_24h': '54158.9', 'volume_24h': '38600.50454911', 'low_24h': '48381.05', 'high_24h': '55469.98', 'volume_30d': '457403.22251393', 'best_bid': '49008.78', 'best_ask': '49021.99', 'side': 'buy', 'time': '2021-04-23T07:07:32.352500Z', 'trade_id': 160047882, 'last_size': '0.05469521'}\n",
      "{'type': 'ticker', 'sequence': 24089390953, 'product_id': 'BTC-USD', 'price': '49021.99', 'open_24h': '54158.9', 'volume_24h': '38600.50454911', 'low_24h': '48381.05', 'high_24h': '55469.98', 'volume_30d': '457403.22251393', 'best_bid': '49008.78', 'best_ask': '49021.99', 'side': 'buy', 'time': '2021-04-23T07:07:32.352500Z', 'trade_id': 160047882, 'last_size': '0.05469521'}\n",
      "{'type': 'ticker', 'sequence': 24089391023, 'product_id': 'BTC-USD', 'price': '49013.89', 'open_24h': '54158.9', 'volume_24h': '38600.51014911', 'low_24h': '48381.05', 'high_24h': '55469.98', 'volume_30d': '457403.22811393', 'best_bid': '49009.18', 'best_ask': '49013.90', 'side': 'buy', 'time': '2021-04-23T07:07:32.406227Z', 'trade_id': 160047883, 'last_size': '0.0056'}\n",
      "{'type': 'ticker', 'sequence': 24089391023, 'product_id': 'BTC-USD', 'price': '49013.89', 'open_24h': '54158.9', 'volume_24h': '38600.51014911', 'low_24h': '48381.05', 'high_24h': '55469.98', 'volume_30d': '457403.22811393', 'best_bid': '49009.18', 'best_ask': '49013.90', 'side': 'buy', 'time': '2021-04-23T07:07:32.406227Z', 'trade_id': 160047883, 'last_size': '0.0056'}\n",
      "{'type': 'ticker', 'sequence': 24089391025, 'product_id': 'BTC-USD', 'price': '49013.9', 'open_24h': '54158.9', 'volume_24h': '38600.51574911', 'low_24h': '48381.05', 'high_24h': '55469.98', 'volume_30d': '457403.23371393', 'best_bid': '49009.18', 'best_ask': '49015.11', 'side': 'buy', 'time': '2021-04-23T07:07:32.406227Z', 'trade_id': 160047884, 'last_size': '0.0056'}\n",
      "{'type': 'ticker', 'sequence': 24089391025, 'product_id': 'BTC-USD', 'price': '49013.9', 'open_24h': '54158.9', 'volume_24h': '38600.51574911', 'low_24h': '48381.05', 'high_24h': '55469.98', 'volume_30d': '457403.23371393', 'best_bid': '49009.18', 'best_ask': '49015.11', 'side': 'buy', 'time': '2021-04-23T07:07:32.406227Z', 'trade_id': 160047884, 'last_size': '0.0056'}\n",
      "{'type': 'ticker', 'sequence': 24089391027, 'product_id': 'BTC-USD', 'price': '49015.11', 'open_24h': '54158.9', 'volume_24h': '38600.52277833', 'low_24h': '48381.05', 'high_24h': '55469.98', 'volume_30d': '457403.24074315', 'best_bid': '49009.18', 'best_ask': '49015.11', 'side': 'buy', 'time': '2021-04-23T07:07:32.406227Z', 'trade_id': 160047885, 'last_size': '0.00702922'}\n",
      "{'type': 'ticker', 'sequence': 24089391027, 'product_id': 'BTC-USD', 'price': '49015.11', 'open_24h': '54158.9', 'volume_24h': '38600.52277833', 'low_24h': '48381.05', 'high_24h': '55469.98', 'volume_30d': '457403.24074315', 'best_bid': '49009.18', 'best_ask': '49015.11', 'side': 'buy', 'time': '2021-04-23T07:07:32.406227Z', 'trade_id': 160047885, 'last_size': '0.00702922'}\n",
      "{'type': 'ticker', 'sequence': 24089391583, 'product_id': 'BTC-USD', 'price': '49006.93', 'open_24h': '54158.9', 'volume_24h': '38600.62277833', 'low_24h': '48381.05', 'high_24h': '55469.98', 'volume_30d': '457403.34074315', 'best_bid': '49006.18', 'best_ask': '49008.57', 'side': 'sell', 'time': '2021-04-23T07:07:32.963964Z', 'trade_id': 160047886, 'last_size': '0.1'}\n",
      "{'type': 'ticker', 'sequence': 24089391583, 'product_id': 'BTC-USD', 'price': '49006.93', 'open_24h': '54158.9', 'volume_24h': '38600.62277833', 'low_24h': '48381.05', 'high_24h': '55469.98', 'volume_30d': '457403.34074315', 'best_bid': '49006.18', 'best_ask': '49008.57', 'side': 'sell', 'time': '2021-04-23T07:07:32.963964Z', 'trade_id': 160047886, 'last_size': '0.1'}\n",
      "{'type': 'ticker', 'sequence': 24089391644, 'product_id': 'BTC-USD', 'price': '49006.19', 'open_24h': '54158.9', 'volume_24h': '38600.63277624', 'low_24h': '48381.05', 'high_24h': '55469.98', 'volume_30d': '457403.35074106', 'best_bid': '49001.38', 'best_ask': '49006.19', 'side': 'buy', 'time': '2021-04-23T07:07:33.003402Z', 'trade_id': 160047887, 'last_size': '0.00999791'}\n",
      "{'type': 'ticker', 'sequence': 24089391644, 'product_id': 'BTC-USD', 'price': '49006.19', 'open_24h': '54158.9', 'volume_24h': '38600.63277624', 'low_24h': '48381.05', 'high_24h': '55469.98', 'volume_30d': '457403.35074106', 'best_bid': '49001.38', 'best_ask': '49006.19', 'side': 'buy', 'time': '2021-04-23T07:07:33.003402Z', 'trade_id': 160047887, 'last_size': '0.00999791'}\n",
      "{'type': 'ticker', 'sequence': 24089391658, 'product_id': 'BTC-USD', 'price': '49001.38', 'open_24h': '54158.9', 'volume_24h': '38600.65177624', 'low_24h': '48381.05', 'high_24h': '55469.98', 'volume_30d': '457403.36974106', 'best_bid': '49001.38', 'best_ask': '49006.19', 'side': 'sell', 'time': '2021-04-23T07:07:33.014933Z', 'trade_id': 160047888, 'last_size': '0.019'}\n",
      "{'type': 'ticker', 'sequence': 24089391658, 'product_id': 'BTC-USD', 'price': '49001.38', 'open_24h': '54158.9', 'volume_24h': '38600.65177624', 'low_24h': '48381.05', 'high_24h': '55469.98', 'volume_30d': '457403.36974106', 'best_bid': '49001.38', 'best_ask': '49006.19', 'side': 'sell', 'time': '2021-04-23T07:07:33.014933Z', 'trade_id': 160047888, 'last_size': '0.019'}\n",
      "{'type': 'ticker', 'sequence': 24089391687, 'product_id': 'BTC-USD', 'price': '49008.18', 'open_24h': '54158.9', 'volume_24h': '38600.65323093', 'low_24h': '48381.05', 'high_24h': '55469.98', 'volume_30d': '457403.37119575', 'best_bid': '49001.38', 'best_ask': '49008.55', 'side': 'buy', 'time': '2021-04-23T07:07:33.035426Z', 'trade_id': 160047889, 'last_size': '0.00145469'}\n",
      "{'type': 'ticker', 'sequence': 24089391687, 'product_id': 'BTC-USD', 'price': '49008.18', 'open_24h': '54158.9', 'volume_24h': '38600.65323093', 'low_24h': '48381.05', 'high_24h': '55469.98', 'volume_30d': '457403.37119575', 'best_bid': '49001.38', 'best_ask': '49008.55', 'side': 'buy', 'time': '2021-04-23T07:07:33.035426Z', 'trade_id': 160047889, 'last_size': '0.00145469'}\n",
      "{'type': 'ticker', 'sequence': 24089391689, 'product_id': 'BTC-USD', 'price': '49008.55', 'open_24h': '54158.9', 'volume_24h': '38600.65677624', 'low_24h': '48381.05', 'high_24h': '55469.98', 'volume_30d': '457403.37474106', 'best_bid': '49001.38', 'best_ask': '49008.55', 'side': 'buy', 'time': '2021-04-23T07:07:33.035426Z', 'trade_id': 160047890, 'last_size': '0.00354531'}\n",
      "{'type': 'ticker', 'sequence': 24089391689, 'product_id': 'BTC-USD', 'price': '49008.55', 'open_24h': '54158.9', 'volume_24h': '38600.65677624', 'low_24h': '48381.05', 'high_24h': '55469.98', 'volume_30d': '457403.37474106', 'best_bid': '49001.38', 'best_ask': '49008.55', 'side': 'buy', 'time': '2021-04-23T07:07:33.035426Z', 'trade_id': 160047890, 'last_size': '0.00354531'}\n",
      "{'type': 'ticker', 'sequence': 24089391990, 'product_id': 'BTC-USD', 'price': '49001.39', 'open_24h': '54158.9', 'volume_24h': '38600.67577624', 'low_24h': '48381.05', 'high_24h': '55469.98', 'volume_30d': '457403.39374106', 'best_bid': '49001.38', 'best_ask': '49001.39', 'side': 'buy', 'time': '2021-04-23T07:07:33.290495Z', 'trade_id': 160047891, 'last_size': '0.019'}\n",
      "{'type': 'ticker', 'sequence': 24089391990, 'product_id': 'BTC-USD', 'price': '49001.39', 'open_24h': '54158.9', 'volume_24h': '38600.67577624', 'low_24h': '48381.05', 'high_24h': '55469.98', 'volume_30d': '457403.39374106', 'best_bid': '49001.38', 'best_ask': '49001.39', 'side': 'buy', 'time': '2021-04-23T07:07:33.290495Z', 'trade_id': 160047891, 'last_size': '0.019'}\n",
      "{'type': 'ticker', 'sequence': 24089392296, 'product_id': 'BTC-USD', 'price': '49001.39', 'open_24h': '54158.9', 'volume_24h': '38600.67653624', 'low_24h': '48381.05', 'high_24h': '55469.98', 'volume_30d': '457403.39450106', 'best_bid': '49001.38', 'best_ask': '49001.39', 'side': 'buy', 'time': '2021-04-23T07:07:33.634502Z', 'trade_id': 160047892, 'last_size': '0.00076'}\n",
      "{'type': 'ticker', 'sequence': 24089392296, 'product_id': 'BTC-USD', 'price': '49001.39', 'open_24h': '54158.9', 'volume_24h': '38600.67653624', 'low_24h': '48381.05', 'high_24h': '55469.98', 'volume_30d': '457403.39450106', 'best_bid': '49001.38', 'best_ask': '49001.39', 'side': 'buy', 'time': '2021-04-23T07:07:33.634502Z', 'trade_id': 160047892, 'last_size': '0.00076'}\n",
      "{'type': 'ticker', 'sequence': 24089392298, 'product_id': 'BTC-USD', 'price': '49001.39', 'open_24h': '54158.9', 'volume_24h': '38600.68338895', 'low_24h': '48381.05', 'high_24h': '55469.98', 'volume_30d': '457403.40135377', 'best_bid': '49001.38', 'best_ask': '49001.39', 'side': 'buy', 'time': '2021-04-23T07:07:33.634502Z', 'trade_id': 160047893, 'last_size': '0.00685271'}\n",
      "{'type': 'ticker', 'sequence': 24089392298, 'product_id': 'BTC-USD', 'price': '49001.39', 'open_24h': '54158.9', 'volume_24h': '38600.68338895', 'low_24h': '48381.05', 'high_24h': '55469.98', 'volume_30d': '457403.40135377', 'best_bid': '49001.38', 'best_ask': '49001.39', 'side': 'buy', 'time': '2021-04-23T07:07:33.634502Z', 'trade_id': 160047893, 'last_size': '0.00685271'}\n",
      "{'type': 'ticker', 'sequence': 24089392300, 'product_id': 'BTC-USD', 'price': '49001.39', 'open_24h': '54158.9', 'volume_24h': '38600.68577624', 'low_24h': '48381.05', 'high_24h': '55469.98', 'volume_30d': '457403.40374106', 'best_bid': '49001.38', 'best_ask': '49001.39', 'side': 'buy', 'time': '2021-04-23T07:07:33.634502Z', 'trade_id': 160047894, 'last_size': '0.00238729'}\n",
      "{'type': 'ticker', 'sequence': 24089392300, 'product_id': 'BTC-USD', 'price': '49001.39', 'open_24h': '54158.9', 'volume_24h': '38600.68577624', 'low_24h': '48381.05', 'high_24h': '55469.98', 'volume_30d': '457403.40374106', 'best_bid': '49001.38', 'best_ask': '49001.39', 'side': 'buy', 'time': '2021-04-23T07:07:33.634502Z', 'trade_id': 160047894, 'last_size': '0.00238729'}\n",
      "{'type': 'ticker', 'sequence': 24089392326, 'product_id': 'BTC-USD', 'price': '49001.39', 'open_24h': '54158.9', 'volume_24h': '38600.68977233', 'low_24h': '48381.05', 'high_24h': '55469.98', 'volume_30d': '457403.40773715', 'best_bid': '49001.38', 'best_ask': '49001.39', 'side': 'buy', 'time': '2021-04-23T07:07:33.689751Z', 'trade_id': 160047895, 'last_size': '0.00399609'}\n",
      "{'type': 'ticker', 'sequence': 24089392326, 'product_id': 'BTC-USD', 'price': '49001.39', 'open_24h': '54158.9', 'volume_24h': '38600.68977233', 'low_24h': '48381.05', 'high_24h': '55469.98', 'volume_30d': '457403.40773715', 'best_bid': '49001.38', 'best_ask': '49001.39', 'side': 'buy', 'time': '2021-04-23T07:07:33.689751Z', 'trade_id': 160047895, 'last_size': '0.00399609'}\n",
      "{'type': 'ticker', 'sequence': 24089392714, 'product_id': 'BTC-USD', 'price': '49001.37', 'open_24h': '54158.9', 'volume_24h': '38600.69537233', 'low_24h': '48381.05', 'high_24h': '55469.98', 'volume_30d': '457403.41333715', 'best_bid': '48995.74', 'best_ask': '49001.37', 'side': 'buy', 'time': '2021-04-23T07:07:34.394389Z', 'trade_id': 160047896, 'last_size': '0.0056'}\n",
      "{'type': 'ticker', 'sequence': 24089392714, 'product_id': 'BTC-USD', 'price': '49001.37', 'open_24h': '54158.9', 'volume_24h': '38600.69537233', 'low_24h': '48381.05', 'high_24h': '55469.98', 'volume_30d': '457403.41333715', 'best_bid': '48995.74', 'best_ask': '49001.37', 'side': 'buy', 'time': '2021-04-23T07:07:34.394389Z', 'trade_id': 160047896, 'last_size': '0.0056'}\n",
      "{'type': 'ticker', 'sequence': 24089392716, 'product_id': 'BTC-USD', 'price': '49001.37', 'open_24h': '54158.9', 'volume_24h': '38600.69785556', 'low_24h': '48381.05', 'high_24h': '55469.98', 'volume_30d': '457403.41582038', 'best_bid': '48995.74', 'best_ask': '49001.37', 'side': 'buy', 'time': '2021-04-23T07:07:34.394389Z', 'trade_id': 160047897, 'last_size': '0.00248323'}\n",
      "{'type': 'ticker', 'sequence': 24089392716, 'product_id': 'BTC-USD', 'price': '49001.37', 'open_24h': '54158.9', 'volume_24h': '38600.69785556', 'low_24h': '48381.05', 'high_24h': '55469.98', 'volume_30d': '457403.41582038', 'best_bid': '48995.74', 'best_ask': '49001.37', 'side': 'buy', 'time': '2021-04-23T07:07:34.394389Z', 'trade_id': 160047897, 'last_size': '0.00248323'}\n",
      "{'type': 'ticker', 'sequence': 24089392775, 'product_id': 'BTC-USD', 'price': '49000.68', 'open_24h': '54158.9', 'volume_24h': '38600.69980697', 'low_24h': '48381.05', 'high_24h': '55469.98', 'volume_30d': '457403.41777179', 'best_bid': '48992.81', 'best_ask': '49000.68', 'side': 'buy', 'time': '2021-04-23T07:07:34.445480Z', 'trade_id': 160047898, 'last_size': '0.00195141'}\n",
      "{'type': 'ticker', 'sequence': 24089392775, 'product_id': 'BTC-USD', 'price': '49000.68', 'open_24h': '54158.9', 'volume_24h': '38600.69980697', 'low_24h': '48381.05', 'high_24h': '55469.98', 'volume_30d': '457403.41777179', 'best_bid': '48992.81', 'best_ask': '49000.68', 'side': 'buy', 'time': '2021-04-23T07:07:34.445480Z', 'trade_id': 160047898, 'last_size': '0.00195141'}\n",
      "{'type': 'ticker', 'sequence': 24089392926, 'product_id': 'BTC-USD', 'price': '48992.81', 'open_24h': '54158.9', 'volume_24h': '38600.71100697', 'low_24h': '48381.05', 'high_24h': '55469.98', 'volume_30d': '457403.42897179', 'best_bid': '48992.81', 'best_ask': '48992.82', 'side': 'sell', 'time': '2021-04-23T07:07:34.569608Z', 'trade_id': 160047899, 'last_size': '0.0112'}\n",
      "{'type': 'ticker', 'sequence': 24089392926, 'product_id': 'BTC-USD', 'price': '48992.81', 'open_24h': '54158.9', 'volume_24h': '38600.71100697', 'low_24h': '48381.05', 'high_24h': '55469.98', 'volume_30d': '457403.42897179', 'best_bid': '48992.81', 'best_ask': '48992.82', 'side': 'sell', 'time': '2021-04-23T07:07:34.569608Z', 'trade_id': 160047899, 'last_size': '0.0112'}\n",
      "{'type': 'ticker', 'sequence': 24089394106, 'product_id': 'BTC-USD', 'price': '48979.31', 'open_24h': '54158.9', 'volume_24h': '38600.71198134', 'low_24h': '48381.05', 'high_24h': '55469.98', 'volume_30d': '457403.42994616', 'best_bid': '48974.66', 'best_ask': '48979.31', 'side': 'buy', 'time': '2021-04-23T07:07:35.630266Z', 'trade_id': 160047900, 'last_size': '0.00097437'}\n",
      "{'type': 'ticker', 'sequence': 24089394106, 'product_id': 'BTC-USD', 'price': '48979.31', 'open_24h': '54158.9', 'volume_24h': '38600.71198134', 'low_24h': '48381.05', 'high_24h': '55469.98', 'volume_30d': '457403.42994616', 'best_bid': '48974.66', 'best_ask': '48979.31', 'side': 'buy', 'time': '2021-04-23T07:07:35.630266Z', 'trade_id': 160047900, 'last_size': '0.00097437'}\n",
      "{'type': 'ticker', 'sequence': 24089394240, 'product_id': 'BTC-USD', 'price': '48979.3', 'open_24h': '54158.9', 'volume_24h': '38600.71395000', 'low_24h': '48381.05', 'high_24h': '55469.98', 'volume_30d': '457403.43191482', 'best_bid': '48979.29', 'best_ask': '48979.30', 'side': 'buy', 'time': '2021-04-23T07:07:35.814365Z', 'trade_id': 160047901, 'last_size': '0.00196866'}\n",
      "{'type': 'ticker', 'sequence': 24089394240, 'product_id': 'BTC-USD', 'price': '48979.3', 'open_24h': '54158.9', 'volume_24h': '38600.71395000', 'low_24h': '48381.05', 'high_24h': '55469.98', 'volume_30d': '457403.43191482', 'best_bid': '48979.29', 'best_ask': '48979.30', 'side': 'buy', 'time': '2021-04-23T07:07:35.814365Z', 'trade_id': 160047901, 'last_size': '0.00196866'}\n",
      "{'type': 'ticker', 'sequence': 24089394441, 'product_id': 'BTC-USD', 'price': '48981.33', 'open_24h': '54158.9', 'volume_24h': '38600.71492451', 'low_24h': '48381.05', 'high_24h': '55469.98', 'volume_30d': '457403.43288933', 'best_bid': '48979.30', 'best_ask': '48981.33', 'side': 'buy', 'time': '2021-04-23T07:07:35.984418Z', 'trade_id': 160047902, 'last_size': '0.00097451'}\n",
      "{'type': 'ticker', 'sequence': 24089394441, 'product_id': 'BTC-USD', 'price': '48981.33', 'open_24h': '54158.9', 'volume_24h': '38600.71492451', 'low_24h': '48381.05', 'high_24h': '55469.98', 'volume_30d': '457403.43288933', 'best_bid': '48979.30', 'best_ask': '48981.33', 'side': 'buy', 'time': '2021-04-23T07:07:35.984418Z', 'trade_id': 160047902, 'last_size': '0.00097451'}\n",
      "{'type': 'ticker', 'sequence': 24089394576, 'product_id': 'BTC-USD', 'price': '48981.33', 'open_24h': '54158.9', 'volume_24h': '38600.71955000', 'low_24h': '48381.05', 'high_24h': '55469.98', 'volume_30d': '457403.43751482', 'best_bid': '48981.32', 'best_ask': '48981.34', 'side': 'buy', 'time': '2021-04-23T07:07:36.119357Z', 'trade_id': 160047903, 'last_size': '0.00462549'}\n",
      "{'type': 'ticker', 'sequence': 24089394576, 'product_id': 'BTC-USD', 'price': '48981.33', 'open_24h': '54158.9', 'volume_24h': '38600.71955000', 'low_24h': '48381.05', 'high_24h': '55469.98', 'volume_30d': '457403.43751482', 'best_bid': '48981.32', 'best_ask': '48981.34', 'side': 'buy', 'time': '2021-04-23T07:07:36.119357Z', 'trade_id': 160047903, 'last_size': '0.00462549'}\n",
      "{'type': 'ticker', 'sequence': 24089394578, 'product_id': 'BTC-USD', 'price': '48981.34', 'open_24h': '54158.9', 'volume_24h': '38600.72508169', 'low_24h': '48381.05', 'high_24h': '55469.98', 'volume_30d': '457403.44304651', 'best_bid': '48981.32', 'best_ask': '48981.34', 'side': 'buy', 'time': '2021-04-23T07:07:36.119357Z', 'trade_id': 160047904, 'last_size': '0.00553169'}\n",
      "{'type': 'ticker', 'sequence': 24089394578, 'product_id': 'BTC-USD', 'price': '48981.34', 'open_24h': '54158.9', 'volume_24h': '38600.72508169', 'low_24h': '48381.05', 'high_24h': '55469.98', 'volume_30d': '457403.44304651', 'best_bid': '48981.32', 'best_ask': '48981.34', 'side': 'buy', 'time': '2021-04-23T07:07:36.119357Z', 'trade_id': 160047904, 'last_size': '0.00553169'}\n",
      "{'type': 'ticker', 'sequence': 24089394627, 'product_id': 'BTC-USD', 'price': '48981.32', 'open_24h': '54158.9', 'volume_24h': '38600.73008169', 'low_24h': '48381.05', 'high_24h': '55469.98', 'volume_30d': '457403.44804651', 'best_bid': '48981.32', 'best_ask': '48983.90', 'side': 'sell', 'time': '2021-04-23T07:07:36.179242Z', 'trade_id': 160047905, 'last_size': '0.005'}\n",
      "{'type': 'ticker', 'sequence': 24089394627, 'product_id': 'BTC-USD', 'price': '48981.32', 'open_24h': '54158.9', 'volume_24h': '38600.73008169', 'low_24h': '48381.05', 'high_24h': '55469.98', 'volume_30d': '457403.44804651', 'best_bid': '48981.32', 'best_ask': '48983.90', 'side': 'sell', 'time': '2021-04-23T07:07:36.179242Z', 'trade_id': 160047905, 'last_size': '0.005'}\n",
      "{'type': 'ticker', 'sequence': 24089394704, 'product_id': 'BTC-USD', 'price': '48983.9', 'open_24h': '54158.9', 'volume_24h': '38600.74007960', 'low_24h': '48381.05', 'high_24h': '55469.98', 'volume_30d': '457403.45804442', 'best_bid': '48983.89', 'best_ask': '48983.90', 'side': 'buy', 'time': '2021-04-23T07:07:36.292836Z', 'trade_id': 160047906, 'last_size': '0.00999791'}\n",
      "{'type': 'ticker', 'sequence': 24089394704, 'product_id': 'BTC-USD', 'price': '48983.9', 'open_24h': '54158.9', 'volume_24h': '38600.74007960', 'low_24h': '48381.05', 'high_24h': '55469.98', 'volume_30d': '457403.45804442', 'best_bid': '48983.89', 'best_ask': '48983.90', 'side': 'buy', 'time': '2021-04-23T07:07:36.292836Z', 'trade_id': 160047906, 'last_size': '0.00999791'}\n",
      "{'type': 'ticker', 'sequence': 24089394842, 'product_id': 'BTC-USD', 'price': '48983.89', 'open_24h': '54158.9', 'volume_24h': '38600.74132859', 'low_24h': '48381.05', 'high_24h': '55469.98', 'volume_30d': '457403.45929341', 'best_bid': '48983.89', 'best_ask': '48983.90', 'side': 'sell', 'time': '2021-04-23T07:07:36.522850Z', 'trade_id': 160047907, 'last_size': '0.00124899'}\n",
      "{'type': 'ticker', 'sequence': 24089394842, 'product_id': 'BTC-USD', 'price': '48983.89', 'open_24h': '54158.9', 'volume_24h': '38600.74132859', 'low_24h': '48381.05', 'high_24h': '55469.98', 'volume_30d': '457403.45929341', 'best_bid': '48983.89', 'best_ask': '48983.90', 'side': 'sell', 'time': '2021-04-23T07:07:36.522850Z', 'trade_id': 160047907, 'last_size': '0.00124899'}\n",
      "{'type': 'ticker', 'sequence': 24089394942, 'product_id': 'BTC-USD', 'price': '48983.9', 'open_24h': '54158.9', 'volume_24h': '38600.74692859', 'low_24h': '48381.05', 'high_24h': '55469.98', 'volume_30d': '457403.46489341', 'best_bid': '48983.89', 'best_ask': '48983.91', 'side': 'buy', 'time': '2021-04-23T07:07:36.731801Z', 'trade_id': 160047908, 'last_size': '0.0056'}\n",
      "{'type': 'ticker', 'sequence': 24089394942, 'product_id': 'BTC-USD', 'price': '48983.9', 'open_24h': '54158.9', 'volume_24h': '38600.74692859', 'low_24h': '48381.05', 'high_24h': '55469.98', 'volume_30d': '457403.46489341', 'best_bid': '48983.89', 'best_ask': '48983.91', 'side': 'buy', 'time': '2021-04-23T07:07:36.731801Z', 'trade_id': 160047908, 'last_size': '0.0056'}\n",
      "{'type': 'ticker', 'sequence': 24089394944, 'product_id': 'BTC-USD', 'price': '48983.91', 'open_24h': '54158.9', 'volume_24h': '38600.75252859', 'low_24h': '48381.05', 'high_24h': '55469.98', 'volume_30d': '457403.47049341', 'best_bid': '48983.89', 'best_ask': '48998.36', 'side': 'buy', 'time': '2021-04-23T07:07:36.731801Z', 'trade_id': 160047909, 'last_size': '0.0056'}\n",
      "{'type': 'ticker', 'sequence': 24089394944, 'product_id': 'BTC-USD', 'price': '48983.91', 'open_24h': '54158.9', 'volume_24h': '38600.75252859', 'low_24h': '48381.05', 'high_24h': '55469.98', 'volume_30d': '457403.47049341', 'best_bid': '48983.89', 'best_ask': '48998.36', 'side': 'buy', 'time': '2021-04-23T07:07:36.731801Z', 'trade_id': 160047909, 'last_size': '0.0056'}\n",
      "{'type': 'ticker', 'sequence': 24089394998, 'product_id': 'BTC-USD', 'price': '48983.9', 'open_24h': '54158.9', 'volume_24h': '38600.75287739', 'low_24h': '48381.05', 'high_24h': '55469.98', 'volume_30d': '457403.47084221', 'best_bid': '48983.90', 'best_ask': '48997.79', 'side': 'sell', 'time': '2021-04-23T07:07:36.865590Z', 'trade_id': 160047910, 'last_size': '0.0003488'}\n",
      "{'type': 'ticker', 'sequence': 24089394998, 'product_id': 'BTC-USD', 'price': '48983.9', 'open_24h': '54158.9', 'volume_24h': '38600.75287739', 'low_24h': '48381.05', 'high_24h': '55469.98', 'volume_30d': '457403.47084221', 'best_bid': '48983.90', 'best_ask': '48997.79', 'side': 'sell', 'time': '2021-04-23T07:07:36.865590Z', 'trade_id': 160047910, 'last_size': '0.0003488'}\n",
      "{'type': 'ticker', 'sequence': 24089395130, 'product_id': 'BTC-USD', 'price': '48997.78', 'open_24h': '54158.9', 'volume_24h': '38600.75335472', 'low_24h': '48381.05', 'high_24h': '55469.98', 'volume_30d': '457403.47131954', 'best_bid': '48986.35', 'best_ask': '48997.78', 'side': 'buy', 'time': '2021-04-23T07:07:37.168655Z', 'trade_id': 160047911, 'last_size': '0.00047733'}\n",
      "{'type': 'ticker', 'sequence': 24089395130, 'product_id': 'BTC-USD', 'price': '48997.78', 'open_24h': '54158.9', 'volume_24h': '38600.75335472', 'low_24h': '48381.05', 'high_24h': '55469.98', 'volume_30d': '457403.47131954', 'best_bid': '48986.35', 'best_ask': '48997.78', 'side': 'buy', 'time': '2021-04-23T07:07:37.168655Z', 'trade_id': 160047911, 'last_size': '0.00047733'}\n"
     ]
    }
   ],
   "source": [
    "wsClientTrades.close()"
   ]
  },
  {
   "cell_type": "code",
   "execution_count": null,
   "metadata": {},
   "outputs": [],
   "source": []
  }
 ]
}