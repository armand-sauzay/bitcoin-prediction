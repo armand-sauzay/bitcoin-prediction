{
 "metadata": {
  "language_info": {
   "codemirror_mode": {
    "name": "ipython",
    "version": 3
   },
   "file_extension": ".py",
   "mimetype": "text/x-python",
   "name": "python",
   "nbconvert_exporter": "python",
   "pygments_lexer": "ipython3",
   "version": "3.9.1"
  },
  "orig_nbformat": 2,
  "kernelspec": {
   "name": "python3",
   "display_name": "Python 3.9.1 64-bit ('capstone': conda)",
   "metadata": {
    "interpreter": {
     "hash": "21525995eece1b6be480293ed0dde850115fb1e3bed19df65545cb59ebceebcc"
    }
   }
  }
 },
 "nbformat": 4,
 "nbformat_minor": 2,
 "cells": [
  {
   "source": [
    "Investment strategy brainstorm\n",
    "- ROI: begin with 100 dollars and see how it goes"
   ],
   "cell_type": "markdown",
   "metadata": {}
  },
  {
   "cell_type": "code",
   "execution_count": 31,
   "metadata": {},
   "outputs": [],
   "source": [
    "from firebase import firebase\n",
    "import json\n",
    "import pandas as pd\n",
    "import numpy as np\n",
    "from collections import deque\n",
    "\n",
    "import plotly.graph_objects as go\n",
    "import plotly.express as px\n",
    "import matplotlib.pyplot as plt\n",
    "\n",
    "from sklearn.preprocessing import StandardScaler\n",
    "from sklearn.linear_model import LinearRegression\n",
    "\n",
    "\n",
    "from datetime import timedelta\n",
    "import datetime\n",
    "#import missingno as msno\n",
    "import tensorflow as tf\n",
    "import IPython \n",
    "import IPython.display\n",
    "from scipy import stats"
   ]
  },
  {
   "cell_type": "code",
   "execution_count": 5,
   "metadata": {},
   "outputs": [],
   "source": [
    "my_firebase = firebase.FirebaseApplication('https://test-random-305921-default-rtdb.firebaseio.com/', None)\n",
    "trades=my_firebase.get('/websocket_trades_v1_2021-03-12', '')\n",
    "df=pd.DataFrame(trades).T.reset_index(drop=True)\n",
    "#datatypes\n",
    "df.time=pd.to_datetime(df.time)\n",
    "df[\"price\"] = df.price.astype(float)\n",
    "df[\"last_size\"] = df['last_size'].astype(float)\n",
    "df[\"best_bid\"] = df['best_bid'].astype(float)\n",
    "df[\"best_ask\"] = df['best_ask'].astype(float)\n",
    "df['bid_ask_spread']=df['best_ask']-df['best_bid']\n",
    "df['tfi'] = np.where(df['side'] == 'buy', df['last_size'], -df['last_size'])\n",
    "print(df.shape)\n",
    "df.head()\n"
   ]
  },
  {
   "cell_type": "code",
   "execution_count": 14,
   "metadata": {},
   "outputs": [
    {
     "output_type": "stream",
     "name": "stdout",
     "text": [
      "(78021, 15)\n"
     ]
    },
    {
     "output_type": "execute_result",
     "data": {
      "text/plain": [
       "   best_ask  best_bid high_24h  last_size low_24h  open_24h     price  \\\n",
       "0  57423.23  57419.99    58113   0.002903   55050  57527.51  57423.23   \n",
       "1  57424.56  57424.55    58113   0.006150   55050  57527.51  57424.55   \n",
       "2  57425.61  57424.55    58113   0.001096   55050  57527.51  57424.56   \n",
       "3  57425.61  57424.55    58113   0.003173   55050  57527.51  57425.61   \n",
       "4  57426.73  57425.60    58113   0.006327   55050  57527.51  57425.61   \n",
       "\n",
       "  product_id     sequence  side                             time   trade_id  \\\n",
       "0    BTC-USD  22637372049   buy 2021-03-12 18:51:21.986589+00:00  144106022   \n",
       "1    BTC-USD  22637372497  sell 2021-03-12 18:51:22.875002+00:00  144106023   \n",
       "2    BTC-USD  22637372583   buy 2021-03-12 18:51:23.158075+00:00  144106024   \n",
       "3    BTC-USD  22637372585   buy 2021-03-12 18:51:23.158075+00:00  144106025   \n",
       "4    BTC-USD  22637372772   buy 2021-03-12 18:51:23.662085+00:00  144106026   \n",
       "\n",
       "     type      volume_24h       volume_30d  \n",
       "0  ticker  23239.10554988  728721.92359102  \n",
       "1  ticker  23239.11169988  728721.92974102  \n",
       "2  ticker  23239.11279604  728721.93083718  \n",
       "3  ticker  23239.11596886  728721.93401000  \n",
       "4  ticker  23239.12229604  728721.94033718  "
      ],
      "text/html": "<div>\n<style scoped>\n    .dataframe tbody tr th:only-of-type {\n        vertical-align: middle;\n    }\n\n    .dataframe tbody tr th {\n        vertical-align: top;\n    }\n\n    .dataframe thead th {\n        text-align: right;\n    }\n</style>\n<table border=\"1\" class=\"dataframe\">\n  <thead>\n    <tr style=\"text-align: right;\">\n      <th></th>\n      <th>best_ask</th>\n      <th>best_bid</th>\n      <th>high_24h</th>\n      <th>last_size</th>\n      <th>low_24h</th>\n      <th>open_24h</th>\n      <th>price</th>\n      <th>product_id</th>\n      <th>sequence</th>\n      <th>side</th>\n      <th>time</th>\n      <th>trade_id</th>\n      <th>type</th>\n      <th>volume_24h</th>\n      <th>volume_30d</th>\n    </tr>\n  </thead>\n  <tbody>\n    <tr>\n      <th>0</th>\n      <td>57423.23</td>\n      <td>57419.99</td>\n      <td>58113</td>\n      <td>0.002903</td>\n      <td>55050</td>\n      <td>57527.51</td>\n      <td>57423.23</td>\n      <td>BTC-USD</td>\n      <td>22637372049</td>\n      <td>buy</td>\n      <td>2021-03-12 18:51:21.986589+00:00</td>\n      <td>144106022</td>\n      <td>ticker</td>\n      <td>23239.10554988</td>\n      <td>728721.92359102</td>\n    </tr>\n    <tr>\n      <th>1</th>\n      <td>57424.56</td>\n      <td>57424.55</td>\n      <td>58113</td>\n      <td>0.006150</td>\n      <td>55050</td>\n      <td>57527.51</td>\n      <td>57424.55</td>\n      <td>BTC-USD</td>\n      <td>22637372497</td>\n      <td>sell</td>\n      <td>2021-03-12 18:51:22.875002+00:00</td>\n      <td>144106023</td>\n      <td>ticker</td>\n      <td>23239.11169988</td>\n      <td>728721.92974102</td>\n    </tr>\n    <tr>\n      <th>2</th>\n      <td>57425.61</td>\n      <td>57424.55</td>\n      <td>58113</td>\n      <td>0.001096</td>\n      <td>55050</td>\n      <td>57527.51</td>\n      <td>57424.56</td>\n      <td>BTC-USD</td>\n      <td>22637372583</td>\n      <td>buy</td>\n      <td>2021-03-12 18:51:23.158075+00:00</td>\n      <td>144106024</td>\n      <td>ticker</td>\n      <td>23239.11279604</td>\n      <td>728721.93083718</td>\n    </tr>\n    <tr>\n      <th>3</th>\n      <td>57425.61</td>\n      <td>57424.55</td>\n      <td>58113</td>\n      <td>0.003173</td>\n      <td>55050</td>\n      <td>57527.51</td>\n      <td>57425.61</td>\n      <td>BTC-USD</td>\n      <td>22637372585</td>\n      <td>buy</td>\n      <td>2021-03-12 18:51:23.158075+00:00</td>\n      <td>144106025</td>\n      <td>ticker</td>\n      <td>23239.11596886</td>\n      <td>728721.93401000</td>\n    </tr>\n    <tr>\n      <th>4</th>\n      <td>57426.73</td>\n      <td>57425.60</td>\n      <td>58113</td>\n      <td>0.006327</td>\n      <td>55050</td>\n      <td>57527.51</td>\n      <td>57425.61</td>\n      <td>BTC-USD</td>\n      <td>22637372772</td>\n      <td>buy</td>\n      <td>2021-03-12 18:51:23.662085+00:00</td>\n      <td>144106026</td>\n      <td>ticker</td>\n      <td>23239.12229604</td>\n      <td>728721.94033718</td>\n    </tr>\n  </tbody>\n</table>\n</div>"
     },
     "metadata": {},
     "execution_count": 14
    }
   ],
   "source": []
  },
  {
   "cell_type": "code",
   "execution_count": 19,
   "metadata": {},
   "outputs": [
    {
     "output_type": "execute_result",
     "data": {
      "text/plain": [
       "4.54382229"
      ]
     },
     "metadata": {},
     "execution_count": 19
    }
   ],
   "source": [
    "sum(df[100:200]['tfi'])"
   ]
  },
  {
   "cell_type": "code",
   "execution_count": 125,
   "metadata": {},
   "outputs": [
    {
     "output_type": "stream",
     "name": "stdout",
     "text": [
      "-0.061402280229078184\n3.8169632424715667\n-31.70984907000001\nDescribeResult(nobs=77921, minmax=(-31.70984907000001, 26.332942320000004), mean=-0.061402280229078184, variance=14.569395370872824, skewness=-0.5364365102640641, kurtosis=8.187116601734829)\n"
     ]
    }
   ],
   "source": [
    "print(np.mean(tfis))\n",
    "print(np.std(tfis))\n",
    "print(min(tfis))\n",
    "print(stats.describe(tfis))"
   ]
  },
  {
   "cell_type": "code",
   "execution_count": 126,
   "metadata": {},
   "outputs": [
    {
     "output_type": "execute_result",
     "data": {
      "text/plain": [
       "(array([5.3000e+01, 8.5000e+01, 3.4200e+02, 1.4960e+03, 1.0417e+04,\n",
       "        5.5932e+04, 8.5410e+03, 7.9700e+02, 1.8600e+02, 7.2000e+01]),\n",
       " array([-31.70984907, -25.90556993, -20.10129079, -14.29701165,\n",
       "         -8.49273251,  -2.68845338,   3.11582576,   8.9201049 ,\n",
       "         14.72438404,  20.52866318,  26.33294232]),\n",
       " <BarContainer object of 10 artists>)"
      ]
     },
     "metadata": {},
     "execution_count": 126
    },
    {
     "output_type": "display_data",
     "data": {
      "text/plain": "<Figure size 432x288 with 1 Axes>",
      "image/svg+xml": "<?xml version=\"1.0\" encoding=\"utf-8\" standalone=\"no\"?>\n<!DOCTYPE svg PUBLIC \"-//W3C//DTD SVG 1.1//EN\"\n  \"http://www.w3.org/Graphics/SVG/1.1/DTD/svg11.dtd\">\n<!-- Created with matplotlib (https://matplotlib.org/) -->\n<svg height=\"248.518125pt\" version=\"1.1\" viewBox=\"0 0 388.0125 248.518125\" width=\"388.0125pt\" xmlns=\"http://www.w3.org/2000/svg\" xmlns:xlink=\"http://www.w3.org/1999/xlink\">\n <metadata>\n  <rdf:RDF xmlns:cc=\"http://creativecommons.org/ns#\" xmlns:dc=\"http://purl.org/dc/elements/1.1/\" xmlns:rdf=\"http://www.w3.org/1999/02/22-rdf-syntax-ns#\">\n   <cc:Work>\n    <dc:type rdf:resource=\"http://purl.org/dc/dcmitype/StillImage\"/>\n    <dc:date>2021-04-29T23:20:56.710708</dc:date>\n    <dc:format>image/svg+xml</dc:format>\n    <dc:creator>\n     <cc:Agent>\n      <dc:title>Matplotlib v3.3.4, https://matplotlib.org/</dc:title>\n     </cc:Agent>\n    </dc:creator>\n   </cc:Work>\n  </rdf:RDF>\n </metadata>\n <defs>\n  <style type=\"text/css\">*{stroke-linecap:butt;stroke-linejoin:round;}</style>\n </defs>\n <g id=\"figure_1\">\n  <g id=\"patch_1\">\n   <path d=\"M 0 248.518125 \nL 388.0125 248.518125 \nL 388.0125 0 \nL 0 0 \nz\n\" style=\"fill:none;\"/>\n  </g>\n  <g id=\"axes_1\">\n   <g id=\"patch_2\">\n    <path d=\"M 46.0125 224.64 \nL 380.8125 224.64 \nL 380.8125 7.2 \nL 46.0125 7.2 \nz\n\" style=\"fill:#ffffff;\"/>\n   </g>\n   <g id=\"patch_3\">\n    <path clip-path=\"url(#p726de7a349)\" d=\"M 61.230682 224.64 \nL 91.667045 224.64 \nL 91.667045 224.44377 \nL 61.230682 224.44377 \nz\n\" style=\"fill:#1f77b4;\"/>\n   </g>\n   <g id=\"patch_4\">\n    <path clip-path=\"url(#p726de7a349)\" d=\"M 91.667045 224.64 \nL 122.103409 224.64 \nL 122.103409 224.325291 \nL 91.667045 224.325291 \nz\n\" style=\"fill:#1f77b4;\"/>\n   </g>\n   <g id=\"patch_5\">\n    <path clip-path=\"url(#p726de7a349)\" d=\"M 122.103409 224.64 \nL 152.539773 224.64 \nL 152.539773 223.37376 \nL 122.103409 223.37376 \nz\n\" style=\"fill:#1f77b4;\"/>\n   </g>\n   <g id=\"patch_6\">\n    <path clip-path=\"url(#p726de7a349)\" d=\"M 152.539773 224.64 \nL 182.976136 224.64 \nL 182.976136 219.101127 \nL 152.539773 219.101127 \nz\n\" style=\"fill:#1f77b4;\"/>\n   </g>\n   <g id=\"patch_7\">\n    <path clip-path=\"url(#p726de7a349)\" d=\"M 182.976136 224.64 \nL 213.4125 224.64 \nL 213.4125 186.071526 \nL 182.976136 186.071526 \nz\n\" style=\"fill:#1f77b4;\"/>\n   </g>\n   <g id=\"patch_8\">\n    <path clip-path=\"url(#p726de7a349)\" d=\"M 213.4125 224.64 \nL 243.848864 224.64 \nL 243.848864 17.554286 \nL 213.4125 17.554286 \nz\n\" style=\"fill:#1f77b4;\"/>\n   </g>\n   <g id=\"patch_9\">\n    <path clip-path=\"url(#p726de7a349)\" d=\"M 243.848864 224.64 \nL 274.285227 224.64 \nL 274.285227 193.017332 \nL 243.848864 193.017332 \nz\n\" style=\"fill:#1f77b4;\"/>\n   </g>\n   <g id=\"patch_10\">\n    <path clip-path=\"url(#p726de7a349)\" d=\"M 274.285227 224.64 \nL 304.721591 224.64 \nL 304.721591 221.689143 \nL 274.285227 221.689143 \nz\n\" style=\"fill:#1f77b4;\"/>\n   </g>\n   <g id=\"patch_11\">\n    <path clip-path=\"url(#p726de7a349)\" d=\"M 304.721591 224.64 \nL 335.157955 224.64 \nL 335.157955 223.951343 \nL 304.721591 223.951343 \nz\n\" style=\"fill:#1f77b4;\"/>\n   </g>\n   <g id=\"patch_12\">\n    <path clip-path=\"url(#p726de7a349)\" d=\"M 335.157955 224.64 \nL 365.594318 224.64 \nL 365.594318 224.373423 \nL 335.157955 224.373423 \nz\n\" style=\"fill:#1f77b4;\"/>\n   </g>\n   <g id=\"matplotlib.axis_1\">\n    <g id=\"xtick_1\">\n     <g id=\"line2d_1\">\n      <defs>\n       <path d=\"M 0 0 \nL 0 3.5 \n\" id=\"m4bbc6e435f\" style=\"stroke:#000000;stroke-width:0.8;\"/>\n      </defs>\n      <g>\n       <use style=\"stroke:#000000;stroke-width:0.8;\" x=\"70.196754\" xlink:href=\"#m4bbc6e435f\" y=\"224.64\"/>\n      </g>\n     </g>\n     <g id=\"text_1\">\n      <!-- −30 -->\n      <g transform=\"translate(59.644411 239.238437)scale(0.1 -0.1)\">\n       <defs>\n        <path d=\"M 10.59375 35.5 \nL 73.1875 35.5 \nL 73.1875 27.203125 \nL 10.59375 27.203125 \nz\n\" id=\"DejaVuSans-8722\"/>\n        <path d=\"M 40.578125 39.3125 \nQ 47.65625 37.796875 51.625 33 \nQ 55.609375 28.21875 55.609375 21.1875 \nQ 55.609375 10.40625 48.1875 4.484375 \nQ 40.765625 -1.421875 27.09375 -1.421875 \nQ 22.515625 -1.421875 17.65625 -0.515625 \nQ 12.796875 0.390625 7.625 2.203125 \nL 7.625 11.71875 \nQ 11.71875 9.328125 16.59375 8.109375 \nQ 21.484375 6.890625 26.8125 6.890625 \nQ 36.078125 6.890625 40.9375 10.546875 \nQ 45.796875 14.203125 45.796875 21.1875 \nQ 45.796875 27.640625 41.28125 31.265625 \nQ 36.765625 34.90625 28.71875 34.90625 \nL 20.21875 34.90625 \nL 20.21875 43.015625 \nL 29.109375 43.015625 \nQ 36.375 43.015625 40.234375 45.921875 \nQ 44.09375 48.828125 44.09375 54.296875 \nQ 44.09375 59.90625 40.109375 62.90625 \nQ 36.140625 65.921875 28.71875 65.921875 \nQ 24.65625 65.921875 20.015625 65.03125 \nQ 15.375 64.15625 9.8125 62.3125 \nL 9.8125 71.09375 \nQ 15.4375 72.65625 20.34375 73.4375 \nQ 25.25 74.21875 29.59375 74.21875 \nQ 40.828125 74.21875 47.359375 69.109375 \nQ 53.90625 64.015625 53.90625 55.328125 \nQ 53.90625 49.265625 50.4375 45.09375 \nQ 46.96875 40.921875 40.578125 39.3125 \nz\n\" id=\"DejaVuSans-51\"/>\n        <path d=\"M 31.78125 66.40625 \nQ 24.171875 66.40625 20.328125 58.90625 \nQ 16.5 51.421875 16.5 36.375 \nQ 16.5 21.390625 20.328125 13.890625 \nQ 24.171875 6.390625 31.78125 6.390625 \nQ 39.453125 6.390625 43.28125 13.890625 \nQ 47.125 21.390625 47.125 36.375 \nQ 47.125 51.421875 43.28125 58.90625 \nQ 39.453125 66.40625 31.78125 66.40625 \nz\nM 31.78125 74.21875 \nQ 44.046875 74.21875 50.515625 64.515625 \nQ 56.984375 54.828125 56.984375 36.375 \nQ 56.984375 17.96875 50.515625 8.265625 \nQ 44.046875 -1.421875 31.78125 -1.421875 \nQ 19.53125 -1.421875 13.0625 8.265625 \nQ 6.59375 17.96875 6.59375 36.375 \nQ 6.59375 54.828125 13.0625 64.515625 \nQ 19.53125 74.21875 31.78125 74.21875 \nz\n\" id=\"DejaVuSans-48\"/>\n       </defs>\n       <use xlink:href=\"#DejaVuSans-8722\"/>\n       <use x=\"83.789062\" xlink:href=\"#DejaVuSans-51\"/>\n       <use x=\"147.412109\" xlink:href=\"#DejaVuSans-48\"/>\n      </g>\n     </g>\n    </g>\n    <g id=\"xtick_2\">\n     <g id=\"line2d_2\">\n      <g>\n       <use style=\"stroke:#000000;stroke-width:0.8;\" x=\"122.634556\" xlink:href=\"#m4bbc6e435f\" y=\"224.64\"/>\n      </g>\n     </g>\n     <g id=\"text_2\">\n      <!-- −20 -->\n      <g transform=\"translate(112.082212 239.238437)scale(0.1 -0.1)\">\n       <defs>\n        <path d=\"M 19.1875 8.296875 \nL 53.609375 8.296875 \nL 53.609375 0 \nL 7.328125 0 \nL 7.328125 8.296875 \nQ 12.9375 14.109375 22.625 23.890625 \nQ 32.328125 33.6875 34.8125 36.53125 \nQ 39.546875 41.84375 41.421875 45.53125 \nQ 43.3125 49.21875 43.3125 52.78125 \nQ 43.3125 58.59375 39.234375 62.25 \nQ 35.15625 65.921875 28.609375 65.921875 \nQ 23.96875 65.921875 18.8125 64.3125 \nQ 13.671875 62.703125 7.8125 59.421875 \nL 7.8125 69.390625 \nQ 13.765625 71.78125 18.9375 73 \nQ 24.125 74.21875 28.421875 74.21875 \nQ 39.75 74.21875 46.484375 68.546875 \nQ 53.21875 62.890625 53.21875 53.421875 \nQ 53.21875 48.921875 51.53125 44.890625 \nQ 49.859375 40.875 45.40625 35.40625 \nQ 44.1875 33.984375 37.640625 27.21875 \nQ 31.109375 20.453125 19.1875 8.296875 \nz\n\" id=\"DejaVuSans-50\"/>\n       </defs>\n       <use xlink:href=\"#DejaVuSans-8722\"/>\n       <use x=\"83.789062\" xlink:href=\"#DejaVuSans-50\"/>\n       <use x=\"147.412109\" xlink:href=\"#DejaVuSans-48\"/>\n      </g>\n     </g>\n    </g>\n    <g id=\"xtick_3\">\n     <g id=\"line2d_3\">\n      <g>\n       <use style=\"stroke:#000000;stroke-width:0.8;\" x=\"175.072357\" xlink:href=\"#m4bbc6e435f\" y=\"224.64\"/>\n      </g>\n     </g>\n     <g id=\"text_3\">\n      <!-- −10 -->\n      <g transform=\"translate(164.520013 239.238437)scale(0.1 -0.1)\">\n       <defs>\n        <path d=\"M 12.40625 8.296875 \nL 28.515625 8.296875 \nL 28.515625 63.921875 \nL 10.984375 60.40625 \nL 10.984375 69.390625 \nL 28.421875 72.90625 \nL 38.28125 72.90625 \nL 38.28125 8.296875 \nL 54.390625 8.296875 \nL 54.390625 0 \nL 12.40625 0 \nz\n\" id=\"DejaVuSans-49\"/>\n       </defs>\n       <use xlink:href=\"#DejaVuSans-8722\"/>\n       <use x=\"83.789062\" xlink:href=\"#DejaVuSans-49\"/>\n       <use x=\"147.412109\" xlink:href=\"#DejaVuSans-48\"/>\n      </g>\n     </g>\n    </g>\n    <g id=\"xtick_4\">\n     <g id=\"line2d_4\">\n      <g>\n       <use style=\"stroke:#000000;stroke-width:0.8;\" x=\"227.510158\" xlink:href=\"#m4bbc6e435f\" y=\"224.64\"/>\n      </g>\n     </g>\n     <g id=\"text_4\">\n      <!-- 0 -->\n      <g transform=\"translate(224.328908 239.238437)scale(0.1 -0.1)\">\n       <use xlink:href=\"#DejaVuSans-48\"/>\n      </g>\n     </g>\n    </g>\n    <g id=\"xtick_5\">\n     <g id=\"line2d_5\">\n      <g>\n       <use style=\"stroke:#000000;stroke-width:0.8;\" x=\"279.94796\" xlink:href=\"#m4bbc6e435f\" y=\"224.64\"/>\n      </g>\n     </g>\n     <g id=\"text_5\">\n      <!-- 10 -->\n      <g transform=\"translate(273.58546 239.238437)scale(0.1 -0.1)\">\n       <use xlink:href=\"#DejaVuSans-49\"/>\n       <use x=\"63.623047\" xlink:href=\"#DejaVuSans-48\"/>\n      </g>\n     </g>\n    </g>\n    <g id=\"xtick_6\">\n     <g id=\"line2d_6\">\n      <g>\n       <use style=\"stroke:#000000;stroke-width:0.8;\" x=\"332.385761\" xlink:href=\"#m4bbc6e435f\" y=\"224.64\"/>\n      </g>\n     </g>\n     <g id=\"text_6\">\n      <!-- 20 -->\n      <g transform=\"translate(326.023261 239.238437)scale(0.1 -0.1)\">\n       <use xlink:href=\"#DejaVuSans-50\"/>\n       <use x=\"63.623047\" xlink:href=\"#DejaVuSans-48\"/>\n      </g>\n     </g>\n    </g>\n   </g>\n   <g id=\"matplotlib.axis_2\">\n    <g id=\"ytick_1\">\n     <g id=\"line2d_7\">\n      <defs>\n       <path d=\"M 0 0 \nL -3.5 0 \n\" id=\"m003a79bfba\" style=\"stroke:#000000;stroke-width:0.8;\"/>\n      </defs>\n      <g>\n       <use style=\"stroke:#000000;stroke-width:0.8;\" x=\"46.0125\" xlink:href=\"#m003a79bfba\" y=\"224.64\"/>\n      </g>\n     </g>\n     <g id=\"text_7\">\n      <!-- 0 -->\n      <g transform=\"translate(32.65 228.439219)scale(0.1 -0.1)\">\n       <use xlink:href=\"#DejaVuSans-48\"/>\n      </g>\n     </g>\n    </g>\n    <g id=\"ytick_2\">\n     <g id=\"line2d_8\">\n      <g>\n       <use style=\"stroke:#000000;stroke-width:0.8;\" x=\"46.0125\" xlink:href=\"#m003a79bfba\" y=\"187.61545\"/>\n      </g>\n     </g>\n     <g id=\"text_8\">\n      <!-- 10000 -->\n      <g transform=\"translate(7.2 191.414669)scale(0.1 -0.1)\">\n       <use xlink:href=\"#DejaVuSans-49\"/>\n       <use x=\"63.623047\" xlink:href=\"#DejaVuSans-48\"/>\n       <use x=\"127.246094\" xlink:href=\"#DejaVuSans-48\"/>\n       <use x=\"190.869141\" xlink:href=\"#DejaVuSans-48\"/>\n       <use x=\"254.492188\" xlink:href=\"#DejaVuSans-48\"/>\n      </g>\n     </g>\n    </g>\n    <g id=\"ytick_3\">\n     <g id=\"line2d_9\">\n      <g>\n       <use style=\"stroke:#000000;stroke-width:0.8;\" x=\"46.0125\" xlink:href=\"#m003a79bfba\" y=\"150.5909\"/>\n      </g>\n     </g>\n     <g id=\"text_9\">\n      <!-- 20000 -->\n      <g transform=\"translate(7.2 154.390118)scale(0.1 -0.1)\">\n       <use xlink:href=\"#DejaVuSans-50\"/>\n       <use x=\"63.623047\" xlink:href=\"#DejaVuSans-48\"/>\n       <use x=\"127.246094\" xlink:href=\"#DejaVuSans-48\"/>\n       <use x=\"190.869141\" xlink:href=\"#DejaVuSans-48\"/>\n       <use x=\"254.492188\" xlink:href=\"#DejaVuSans-48\"/>\n      </g>\n     </g>\n    </g>\n    <g id=\"ytick_4\">\n     <g id=\"line2d_10\">\n      <g>\n       <use style=\"stroke:#000000;stroke-width:0.8;\" x=\"46.0125\" xlink:href=\"#m003a79bfba\" y=\"113.566349\"/>\n      </g>\n     </g>\n     <g id=\"text_10\">\n      <!-- 30000 -->\n      <g transform=\"translate(7.2 117.365568)scale(0.1 -0.1)\">\n       <use xlink:href=\"#DejaVuSans-51\"/>\n       <use x=\"63.623047\" xlink:href=\"#DejaVuSans-48\"/>\n       <use x=\"127.246094\" xlink:href=\"#DejaVuSans-48\"/>\n       <use x=\"190.869141\" xlink:href=\"#DejaVuSans-48\"/>\n       <use x=\"254.492188\" xlink:href=\"#DejaVuSans-48\"/>\n      </g>\n     </g>\n    </g>\n    <g id=\"ytick_5\">\n     <g id=\"line2d_11\">\n      <g>\n       <use style=\"stroke:#000000;stroke-width:0.8;\" x=\"46.0125\" xlink:href=\"#m003a79bfba\" y=\"76.541799\"/>\n      </g>\n     </g>\n     <g id=\"text_11\">\n      <!-- 40000 -->\n      <g transform=\"translate(7.2 80.341018)scale(0.1 -0.1)\">\n       <defs>\n        <path d=\"M 37.796875 64.3125 \nL 12.890625 25.390625 \nL 37.796875 25.390625 \nz\nM 35.203125 72.90625 \nL 47.609375 72.90625 \nL 47.609375 25.390625 \nL 58.015625 25.390625 \nL 58.015625 17.1875 \nL 47.609375 17.1875 \nL 47.609375 0 \nL 37.796875 0 \nL 37.796875 17.1875 \nL 4.890625 17.1875 \nL 4.890625 26.703125 \nz\n\" id=\"DejaVuSans-52\"/>\n       </defs>\n       <use xlink:href=\"#DejaVuSans-52\"/>\n       <use x=\"63.623047\" xlink:href=\"#DejaVuSans-48\"/>\n       <use x=\"127.246094\" xlink:href=\"#DejaVuSans-48\"/>\n       <use x=\"190.869141\" xlink:href=\"#DejaVuSans-48\"/>\n       <use x=\"254.492188\" xlink:href=\"#DejaVuSans-48\"/>\n      </g>\n     </g>\n    </g>\n    <g id=\"ytick_6\">\n     <g id=\"line2d_12\">\n      <g>\n       <use style=\"stroke:#000000;stroke-width:0.8;\" x=\"46.0125\" xlink:href=\"#m003a79bfba\" y=\"39.517249\"/>\n      </g>\n     </g>\n     <g id=\"text_12\">\n      <!-- 50000 -->\n      <g transform=\"translate(7.2 43.316468)scale(0.1 -0.1)\">\n       <defs>\n        <path d=\"M 10.796875 72.90625 \nL 49.515625 72.90625 \nL 49.515625 64.59375 \nL 19.828125 64.59375 \nL 19.828125 46.734375 \nQ 21.96875 47.46875 24.109375 47.828125 \nQ 26.265625 48.1875 28.421875 48.1875 \nQ 40.625 48.1875 47.75 41.5 \nQ 54.890625 34.8125 54.890625 23.390625 \nQ 54.890625 11.625 47.5625 5.09375 \nQ 40.234375 -1.421875 26.90625 -1.421875 \nQ 22.3125 -1.421875 17.546875 -0.640625 \nQ 12.796875 0.140625 7.71875 1.703125 \nL 7.71875 11.625 \nQ 12.109375 9.234375 16.796875 8.0625 \nQ 21.484375 6.890625 26.703125 6.890625 \nQ 35.15625 6.890625 40.078125 11.328125 \nQ 45.015625 15.765625 45.015625 23.390625 \nQ 45.015625 31 40.078125 35.4375 \nQ 35.15625 39.890625 26.703125 39.890625 \nQ 22.75 39.890625 18.8125 39.015625 \nQ 14.890625 38.140625 10.796875 36.28125 \nz\n\" id=\"DejaVuSans-53\"/>\n       </defs>\n       <use xlink:href=\"#DejaVuSans-53\"/>\n       <use x=\"63.623047\" xlink:href=\"#DejaVuSans-48\"/>\n       <use x=\"127.246094\" xlink:href=\"#DejaVuSans-48\"/>\n       <use x=\"190.869141\" xlink:href=\"#DejaVuSans-48\"/>\n       <use x=\"254.492188\" xlink:href=\"#DejaVuSans-48\"/>\n      </g>\n     </g>\n    </g>\n   </g>\n   <g id=\"patch_13\">\n    <path d=\"M 46.0125 224.64 \nL 46.0125 7.2 \n\" style=\"fill:none;stroke:#000000;stroke-linecap:square;stroke-linejoin:miter;stroke-width:0.8;\"/>\n   </g>\n   <g id=\"patch_14\">\n    <path d=\"M 380.8125 224.64 \nL 380.8125 7.2 \n\" style=\"fill:none;stroke:#000000;stroke-linecap:square;stroke-linejoin:miter;stroke-width:0.8;\"/>\n   </g>\n   <g id=\"patch_15\">\n    <path d=\"M 46.0125 224.64 \nL 380.8125 224.64 \n\" style=\"fill:none;stroke:#000000;stroke-linecap:square;stroke-linejoin:miter;stroke-width:0.8;\"/>\n   </g>\n   <g id=\"patch_16\">\n    <path d=\"M 46.0125 7.2 \nL 380.8125 7.2 \n\" style=\"fill:none;stroke:#000000;stroke-linecap:square;stroke-linejoin:miter;stroke-width:0.8;\"/>\n   </g>\n  </g>\n </g>\n <defs>\n  <clipPath id=\"p726de7a349\">\n   <rect height=\"217.44\" width=\"334.8\" x=\"46.0125\" y=\"7.2\"/>\n  </clipPath>\n </defs>\n</svg>\n",
      "image/png": "[encoded data removed]"
     },
     "metadata": {
      "needs_background": "light"
     }
    }
   ],
   "source": [
    "plt.hist(tfis)"
   ]
  },
  {
   "cell_type": "code",
   "execution_count": 131,
   "metadata": {},
   "outputs": [],
   "source": [
    "def tfi_strategy(window_size=100):\n",
    "    tfis=[]\n",
    "    trade_current=False\n",
    "    prices_buy=[]\n",
    "    prices_sell=[]\n",
    "    rois=[]\n",
    "\n",
    "    for i in range(window_size, len(df)):\n",
    "        #compute tfi\n",
    "        tfi=sum(df[i-window_size:i]['tfi'])\n",
    "        tfis.append(tfi)\n",
    "\n",
    "        #buy signal\n",
    "        if (tfi<-8 and not trade_current): #or (abs(tfi)<.3 and not trade_current):\n",
    "            price_buy=df['best_ask'][i]\n",
    "            trade_current=True \n",
    "            prices_buy.append(price_buy)\n",
    "        \n",
    "        #sell signal\n",
    "        if trade_current and df['best_bid'][i]>1.00012*price_buy:\n",
    "        #if trade_current and tfi>5:\n",
    "            price_sell=df['best_bid'][i]\n",
    "            prices_sell.append(price_sell)\n",
    "            trade_current=False\n",
    "    return prices_buy, prices_sell"
   ]
  },
  {
   "cell_type": "code",
   "execution_count": 132,
   "metadata": {},
   "outputs": [
    {
     "output_type": "stream",
     "name": "stdout",
     "text": [
      "16\n16\n1.0001897662375918\nroi 1.0027314159698342\n"
     ]
    }
   ],
   "source": [
    "buys, sells=tfi_strategy()\n",
    "print(len(buys))\n",
    "print(len(sells))\n",
    "\n",
    "rois=[]\n",
    "for i in range(len(buys)-1):\n",
    "    roi=sells[i]/buys[i]\n",
    "    rois.append(roi)\n",
    "print(np.mean(roi))\n",
    "\n",
    "a=1\n",
    "for roi in rois:\n",
    "    a*=roi\n",
    "print('roi', a)\n"
   ]
  },
  {
   "cell_type": "code",
   "execution_count": 114,
   "metadata": {},
   "outputs": [
    {
     "output_type": "stream",
     "name": "stdout",
     "text": [
      "[57536.37, 57545.92, 57350.01, 57090.22, 57122.59, 56649.9, 56791.43, 56604.75, 56656.66, 57115.6, 57083.86, 57438.97, 57377.62]\n[57545.91, 57553.88, 57360.98, 57097.54, 57134.41, 56659.11, 56799.62, 56616.35, 56664.69, 57123.99, 57091.29, 57449.99, 57385.76]\n"
     ]
    }
   ],
   "source": [
    "print(buys)\n",
    "print(sells)"
   ]
  },
  {
   "cell_type": "code",
   "execution_count": 97,
   "metadata": {},
   "outputs": [],
   "source": [
    "rois=[]\n",
    "for i in range(len(buys)):\n",
    "    roi=sells[i]/buys[i]\n",
    "    rois.append(roi)"
   ]
  },
  {
   "cell_type": "code",
   "execution_count": 133,
   "metadata": {},
   "outputs": [
    {
     "output_type": "execute_result",
     "data": {
      "text/plain": [
       "1.0001897662375918"
      ]
     },
     "metadata": {},
     "execution_count": 133
    }
   ],
   "source": [
    "np.mean(roi)"
   ]
  },
  {
   "cell_type": "code",
   "execution_count": 136,
   "metadata": {},
   "outputs": [
    {
     "output_type": "execute_result",
     "data": {
      "text/plain": [
       "array([1., 1.])"
      ]
     },
     "metadata": {},
     "execution_count": 136
    }
   ],
   "source": [
    "np.array([1,2])/np.array([1,2])"
   ]
  },
  {
   "cell_type": "code",
   "execution_count": 99,
   "metadata": {},
   "outputs": [],
   "source": [
    "a=1\n",
    "for roi in rois:\n",
    "    a*=roi"
   ]
  },
  {
   "cell_type": "code",
   "execution_count": 100,
   "metadata": {},
   "outputs": [
    {
     "output_type": "execute_result",
     "data": {
      "text/plain": [
       "1.0020968047224672"
      ]
     },
     "metadata": {},
     "execution_count": 100
    }
   ],
   "source": [
    "a"
   ]
  },
  {
   "cell_type": "code",
   "execution_count": null,
   "metadata": {},
   "outputs": [],
   "source": [
    "class strategy:\n",
    "    def __init__:\n",
    "        \n",
    "        self.prices_buy=np.array()\n",
    "        self.prices_sell=[]\n",
    "\n",
    "        \n",
    "    def backtest(window_size=100):\n",
    "    tfis=[]\n",
    "    trade_current=False\n",
    "    prices_buy=[]\n",
    "    prices_sell=[]\n",
    "    rois=[]\n",
    "\n",
    "    for i in range(window_size, len(df)):\n",
    "        #compute tfi\n",
    "        tfi=sum(df[i-window_size:i]['tfi'])\n",
    "        tfis.append(tfi)\n",
    "\n",
    "        #buy signal\n",
    "        if (tfi<-8 and not trade_current): #or (abs(tfi)<.3 and not trade_current):\n",
    "            price_buy=df['best_ask'][i]\n",
    "            trade_current=True \n",
    "            prices_buy.append(price_buy)\n",
    "        \n",
    "        #sell signal\n",
    "        if trade_current and df['best_bid'][i]>1.00012*price_buy:\n",
    "        #if trade_current and tfi>5:\n",
    "            price_sell=df['best_bid'][i]\n",
    "            prices_sell.append(price_sell)\n",
    "            trade_current=False\n",
    "    return prices_buy, prices_sell"
   ]
  }
 ]
}