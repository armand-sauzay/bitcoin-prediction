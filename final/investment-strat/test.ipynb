{
 "metadata": {
  "language_info": {
   "codemirror_mode": {
    "name": "ipython",
    "version": 3
   },
   "file_extension": ".py",
   "mimetype": "text/x-python",
   "name": "python",
   "nbconvert_exporter": "python",
   "pygments_lexer": "ipython3",
   "version": "3.9.1"
  },
  "orig_nbformat": 2,
  "kernelspec": {
   "name": "python3",
   "display_name": "Python 3.9.1 64-bit ('capstone': conda)",
   "metadata": {
    "interpreter": {
     "hash": "21525995eece1b6be480293ed0dde850115fb1e3bed19df65545cb59ebceebcc"
    }
   }
  }
 },
 "nbformat": 4,
 "nbformat_minor": 2,
 "cells": [
  {
   "source": [
    "Investment strategy brainstorm\n",
    "- ROI: begin with 100 dollars and see how it goes"
   ],
   "cell_type": "markdown",
   "metadata": {}
  },
  {
   "cell_type": "code",
   "execution_count": 20,
   "metadata": {},
   "outputs": [],
   "source": [
    "from firebase import firebase\n",
    "import json\n",
    "import pandas as pd\n",
    "import numpy as np\n",
    "from collections import deque\n",
    "\n",
    "import plotly.graph_objects as go\n",
    "import plotly.express as px\n",
    "import matplotlib.pyplot as plt\n",
    "\n",
    "from sklearn.preprocessing import StandardScaler\n",
    "from sklearn.linear_model import LinearRegression\n",
    "\n",
    "\n",
    "from datetime import timedelta\n",
    "import datetime\n",
    "#import missingno as msno\n",
    "import tensorflow as tf\n",
    "import IPython \n",
    "import IPython.display"
   ]
  },
  {
   "cell_type": "code",
   "execution_count": 4,
   "metadata": {},
   "outputs": [],
   "source": [
    "my_firebase = firebase.FirebaseApplication('https://test-random-305921-default-rtdb.firebaseio.com/', None)"
   ]
  },
  {
   "cell_type": "code",
   "execution_count": 7,
   "metadata": {},
   "outputs": [],
   "source": [
    "trades=my_firebase.get('/websocket_trades_v1_2021-03-12', '')\n",
    "df=pd.DataFrame(trades).T.reset_index(drop=True)"
   ]
  },
  {
   "cell_type": "code",
   "execution_count": 18,
   "metadata": {},
   "outputs": [
    {
     "output_type": "stream",
     "name": "stdout",
     "text": [
      "(78021, 16)\n"
     ]
    },
    {
     "output_type": "execute_result",
     "data": {
      "text/plain": [
       "   best_ask  best_bid high_24h  last_size low_24h  open_24h     price  \\\n",
       "0  57423.23  57419.99    58113   0.002903   55050  57527.51  57423.23   \n",
       "1  57424.56  57424.55    58113   0.006150   55050  57527.51  57424.55   \n",
       "2  57425.61  57424.55    58113   0.001096   55050  57527.51  57424.56   \n",
       "3  57425.61  57424.55    58113   0.003173   55050  57527.51  57425.61   \n",
       "4  57426.73  57425.60    58113   0.006327   55050  57527.51  57425.61   \n",
       "\n",
       "  product_id     sequence  side                             time   trade_id  \\\n",
       "0    BTC-USD  22637372049   buy 2021-03-12 18:51:21.986589+00:00  144106022   \n",
       "1    BTC-USD  22637372497  sell 2021-03-12 18:51:22.875002+00:00  144106023   \n",
       "2    BTC-USD  22637372583   buy 2021-03-12 18:51:23.158075+00:00  144106024   \n",
       "3    BTC-USD  22637372585   buy 2021-03-12 18:51:23.158075+00:00  144106025   \n",
       "4    BTC-USD  22637372772   buy 2021-03-12 18:51:23.662085+00:00  144106026   \n",
       "\n",
       "     type      volume_24h       volume_30d  bid_ask_spread  \n",
       "0  ticker  23239.10554988  728721.92359102            3.24  \n",
       "1  ticker  23239.11169988  728721.92974102            0.01  \n",
       "2  ticker  23239.11279604  728721.93083718            1.06  \n",
       "3  ticker  23239.11596886  728721.93401000            1.06  \n",
       "4  ticker  23239.12229604  728721.94033718            1.13  "
      ],
      "text/html": "<div>\n<style scoped>\n    .dataframe tbody tr th:only-of-type {\n        vertical-align: middle;\n    }\n\n    .dataframe tbody tr th {\n        vertical-align: top;\n    }\n\n    .dataframe thead th {\n        text-align: right;\n    }\n</style>\n<table border=\"1\" class=\"dataframe\">\n  <thead>\n    <tr style=\"text-align: right;\">\n      <th></th>\n      <th>best_ask</th>\n      <th>best_bid</th>\n      <th>high_24h</th>\n      <th>last_size</th>\n      <th>low_24h</th>\n      <th>open_24h</th>\n      <th>price</th>\n      <th>product_id</th>\n      <th>sequence</th>\n      <th>side</th>\n      <th>time</th>\n      <th>trade_id</th>\n      <th>type</th>\n      <th>volume_24h</th>\n      <th>volume_30d</th>\n      <th>bid_ask_spread</th>\n    </tr>\n  </thead>\n  <tbody>\n    <tr>\n      <th>0</th>\n      <td>57423.23</td>\n      <td>57419.99</td>\n      <td>58113</td>\n      <td>0.002903</td>\n      <td>55050</td>\n      <td>57527.51</td>\n      <td>57423.23</td>\n      <td>BTC-USD</td>\n      <td>22637372049</td>\n      <td>buy</td>\n      <td>2021-03-12 18:51:21.986589+00:00</td>\n      <td>144106022</td>\n      <td>ticker</td>\n      <td>23239.10554988</td>\n      <td>728721.92359102</td>\n      <td>3.24</td>\n    </tr>\n    <tr>\n      <th>1</th>\n      <td>57424.56</td>\n      <td>57424.55</td>\n      <td>58113</td>\n      <td>0.006150</td>\n      <td>55050</td>\n      <td>57527.51</td>\n      <td>57424.55</td>\n      <td>BTC-USD</td>\n      <td>22637372497</td>\n      <td>sell</td>\n      <td>2021-03-12 18:51:22.875002+00:00</td>\n      <td>144106023</td>\n      <td>ticker</td>\n      <td>23239.11169988</td>\n      <td>728721.92974102</td>\n      <td>0.01</td>\n    </tr>\n    <tr>\n      <th>2</th>\n      <td>57425.61</td>\n      <td>57424.55</td>\n      <td>58113</td>\n      <td>0.001096</td>\n      <td>55050</td>\n      <td>57527.51</td>\n      <td>57424.56</td>\n      <td>BTC-USD</td>\n      <td>22637372583</td>\n      <td>buy</td>\n      <td>2021-03-12 18:51:23.158075+00:00</td>\n      <td>144106024</td>\n      <td>ticker</td>\n      <td>23239.11279604</td>\n      <td>728721.93083718</td>\n      <td>1.06</td>\n    </tr>\n    <tr>\n      <th>3</th>\n      <td>57425.61</td>\n      <td>57424.55</td>\n      <td>58113</td>\n      <td>0.003173</td>\n      <td>55050</td>\n      <td>57527.51</td>\n      <td>57425.61</td>\n      <td>BTC-USD</td>\n      <td>22637372585</td>\n      <td>buy</td>\n      <td>2021-03-12 18:51:23.158075+00:00</td>\n      <td>144106025</td>\n      <td>ticker</td>\n      <td>23239.11596886</td>\n      <td>728721.93401000</td>\n      <td>1.06</td>\n    </tr>\n    <tr>\n      <th>4</th>\n      <td>57426.73</td>\n      <td>57425.60</td>\n      <td>58113</td>\n      <td>0.006327</td>\n      <td>55050</td>\n      <td>57527.51</td>\n      <td>57425.61</td>\n      <td>BTC-USD</td>\n      <td>22637372772</td>\n      <td>buy</td>\n      <td>2021-03-12 18:51:23.662085+00:00</td>\n      <td>144106026</td>\n      <td>ticker</td>\n      <td>23239.12229604</td>\n      <td>728721.94033718</td>\n      <td>1.13</td>\n    </tr>\n  </tbody>\n</table>\n</div>"
     },
     "metadata": {},
     "execution_count": 18
    }
   ],
   "source": [
    "print(df.shape)\n",
    "df.head()"
   ]
  },
  {
   "cell_type": "code",
   "execution_count": 14,
   "metadata": {},
   "outputs": [],
   "source": [
    "#datatypes\n",
    "df.time=pd.to_datetime(df.time)\n",
    "df[\"price\"] = df.price.astype(float)\n",
    "df[\"last_size\"] = df['last_size'].astype(float)\n",
    "df[\"best_bid\"] = df['best_bid'].astype(float)\n",
    "df[\"best_ask\"] = df['best_ask'].astype(float)"
   ]
  },
  {
   "cell_type": "code",
   "execution_count": 16,
   "metadata": {},
   "outputs": [],
   "source": [
    "df['bid_ask_spread']=df['best_ask']-df['best_bid']"
   ]
  },
  {
   "cell_type": "code",
   "execution_count": null,
   "metadata": {},
   "outputs": [],
   "source": [
    "for i in range(1000, 10000):\n"
   ]
  }
 ]
}