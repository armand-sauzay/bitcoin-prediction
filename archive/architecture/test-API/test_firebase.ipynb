{
 "metadata": {
  "language_info": {
   "codemirror_mode": {
    "name": "ipython",
    "version": 3
   },
   "file_extension": ".py",
   "mimetype": "text/x-python",
   "name": "python",
   "nbconvert_exporter": "python",
   "pygments_lexer": "ipython3",
   "version": "3.6.12-final"
  },
  "orig_nbformat": 2,
  "kernelspec": {
   "name": "python3",
   "display_name": "Python 3",
   "language": "python"
  }
 },
 "nbformat": 4,
 "nbformat_minor": 2,
 "cells": [
  {
   "cell_type": "code",
   "execution_count": 4,
   "metadata": {},
   "outputs": [
    {
     "output_type": "stream",
     "name": "stdout",
     "text": [
      "Requirement already satisfied: python-firebase in /Users/Armand/data-x/first-environment/lib/python3.6/site-packages (1.2)\n",
      "Requirement already satisfied: requests>=1.1.0 in /Users/Armand/data-x/first-environment/lib/python3.6/site-packages (from python-firebase) (2.25.1)\n",
      "Requirement already satisfied: chardet<5,>=3.0.2 in /Users/Armand/data-x/first-environment/lib/python3.6/site-packages (from requests>=1.1.0->python-firebase) (4.0.0)\n",
      "Requirement already satisfied: idna<3,>=2.5 in /Users/Armand/data-x/first-environment/lib/python3.6/site-packages (from requests>=1.1.0->python-firebase) (2.10)\n",
      "Requirement already satisfied: urllib3<1.27,>=1.21.1 in /Users/Armand/data-x/first-environment/lib/python3.6/site-packages (from requests>=1.1.0->python-firebase) (1.26.3)\n",
      "Requirement already satisfied: certifi>=2017.4.17 in /Users/Armand/data-x/first-environment/lib/python3.6/site-packages (from requests>=1.1.0->python-firebase) (2020.12.5)\n",
      "\u001b[33mYou are using pip version 18.1, however version 21.0.1 is available.\n",
      "You should consider upgrading via the 'pip install --upgrade pip' command.\u001b[0m\n",
      "Note: you may need to restart the kernel to use updated packages.\n"
     ]
    }
   ],
   "source": [
    "pip install python-firebase\n"
   ]
  },
  {
   "cell_type": "code",
   "execution_count": 3,
   "metadata": {},
   "outputs": [],
   "source": [
    "from firebase import firebase\n",
    "import pandas as pd"
   ]
  },
  {
   "cell_type": "code",
   "execution_count": 41,
   "metadata": {},
   "outputs": [
    {
     "output_type": "stream",
     "name": "stdout",
     "text": [
      "2021-03-11\n"
     ]
    },
    {
     "output_type": "execute_result",
     "data": {
      "text/plain": [
       "'2021-03-11_ao'"
      ]
     },
     "metadata": {},
     "execution_count": 41
    }
   ],
   "source": [
    "from datetime import date, timezone, datetime\n",
    "\n",
    "today = datetime.now(timezone.utc).date()\n",
    "print(today)\n",
    "str(today)+'_ao'"
   ]
  },
  {
   "cell_type": "code",
   "execution_count": 4,
   "metadata": {},
   "outputs": [],
   "source": [
    "my_firebase = firebase.FirebaseApplication('https://test-random-305921-default-rtdb.firebaseio.com/', None)\n",
    "#test=my_firebase.get('/websocket_trades', '')\n",
    "#print(len(test))\n",
    "#order_book=my_firebase.get('/websocket_order_book', '')"
   ]
  },
  {
   "cell_type": "code",
   "execution_count": 13,
   "metadata": {},
   "outputs": [
    {
     "output_type": "stream",
     "name": "stdout",
     "text": [
      "61033\n",
      "61084\n"
     ]
    }
   ],
   "source": [
    "trades=my_firebase.get('/websocket_trades_v1_2021-03-12', '')\n",
    "print(len(trades))\n",
    "import time\n",
    "time.sleep(10)\n",
    "trades=my_firebase.get('/websocket_trades_v1_2021-03-12', '')\n",
    "print(len(trades))"
   ]
  },
  {
   "cell_type": "code",
   "execution_count": 7,
   "metadata": {},
   "outputs": [
    {
     "output_type": "execute_result",
     "data": {
      "text/plain": [
       "                      best_ask  best_bid high_24h   last_size low_24h  \\\n",
       "-MVblqPUfNrsTuw1azp6  57423.23  57419.99    58113  0.00290283   55050   \n",
       "-MVblqTh1ZNIPXZC2bsZ  57424.56  57424.55    58113     0.00615   55050   \n",
       "-MVblqYIPBW3iQls15Bn  57425.61  57424.55    58113  0.00109616   55050   \n",
       "-MVblqYgOTuVHJHIbmOA  57425.61  57424.55    58113  0.00317282   55050   \n",
       "-MVblqeyTP6F5mlRSIL3  57426.73  57425.60    58113  0.00632718   55050   \n",
       "...                        ...       ...      ...         ...     ...   \n",
       "-MVbm-CvmEtbGYpsVAjX  57563.93  57562.07    58113       0.521   55050   \n",
       "-MVbm-DKsEUyzcn4-NAY  57564.34  57562.07    58113       0.051   55050   \n",
       "-MVbm-Dlg70upa5N7iNs  57564.35  57562.07    58113  0.09090754   55050   \n",
       "-MVbm-EBpVI2xNgENUVy  57564.39  57562.07    58113  0.34744115   55050   \n",
       "-MVbm-EX2yJyfnYw4Myc  57567.46  57562.07    58113  0.34785037   55050   \n",
       "\n",
       "                      open_24h     price product_id     sequence  side  \\\n",
       "-MVblqPUfNrsTuw1azp6  57527.51  57423.23    BTC-USD  22637372049   buy   \n",
       "-MVblqTh1ZNIPXZC2bsZ  57527.51  57424.55    BTC-USD  22637372497  sell   \n",
       "-MVblqYIPBW3iQls15Bn  57527.51  57424.56    BTC-USD  22637372583   buy   \n",
       "-MVblqYgOTuVHJHIbmOA  57527.51  57425.61    BTC-USD  22637372585   buy   \n",
       "-MVblqeyTP6F5mlRSIL3  57527.51  57425.61    BTC-USD  22637372772   buy   \n",
       "...                        ...       ...        ...          ...   ...   \n",
       "-MVbm-CvmEtbGYpsVAjX  57527.51  57563.88    BTC-USD  22637392323   buy   \n",
       "-MVbm-DKsEUyzcn4-NAY  57527.51  57563.93    BTC-USD  22637392325   buy   \n",
       "-MVbm-Dlg70upa5N7iNs  57527.51  57564.34    BTC-USD  22637392327   buy   \n",
       "-MVbm-EBpVI2xNgENUVy  57527.51  57564.35    BTC-USD  22637392329   buy   \n",
       "-MVbm-EX2yJyfnYw4Myc  57527.51  57564.39    BTC-USD  22637392331   buy   \n",
       "\n",
       "                                             time   trade_id    type  \\\n",
       "-MVblqPUfNrsTuw1azp6  2021-03-12T18:51:21.986589Z  144106022  ticker   \n",
       "-MVblqTh1ZNIPXZC2bsZ  2021-03-12T18:51:22.875002Z  144106023  ticker   \n",
       "-MVblqYIPBW3iQls15Bn  2021-03-12T18:51:23.158075Z  144106024  ticker   \n",
       "-MVblqYgOTuVHJHIbmOA  2021-03-12T18:51:23.158075Z  144106025  ticker   \n",
       "-MVblqeyTP6F5mlRSIL3  2021-03-12T18:51:23.662085Z  144106026  ticker   \n",
       "...                                           ...        ...     ...   \n",
       "-MVbm-CvmEtbGYpsVAjX  2021-03-12T18:52:02.545090Z  144106534  ticker   \n",
       "-MVbm-DKsEUyzcn4-NAY  2021-03-12T18:52:02.545090Z  144106535  ticker   \n",
       "-MVbm-Dlg70upa5N7iNs  2021-03-12T18:52:02.545090Z  144106536  ticker   \n",
       "-MVbm-EBpVI2xNgENUVy  2021-03-12T18:52:02.545090Z  144106537  ticker   \n",
       "-MVbm-EX2yJyfnYw4Myc  2021-03-12T18:52:02.545090Z  144106538  ticker   \n",
       "\n",
       "                          volume_24h       volume_30d  \n",
       "-MVblqPUfNrsTuw1azp6  23239.10554988  728721.92359102  \n",
       "-MVblqTh1ZNIPXZC2bsZ  23239.11169988  728721.92974102  \n",
       "-MVblqYIPBW3iQls15Bn  23239.11279604  728721.93083718  \n",
       "-MVblqYgOTuVHJHIbmOA  23239.11596886  728721.93401000  \n",
       "-MVblqeyTP6F5mlRSIL3  23239.12229604  728721.94033718  \n",
       "...                              ...              ...  \n",
       "-MVbm-CvmEtbGYpsVAjX  23275.38756572  728758.20560686  \n",
       "-MVbm-DKsEUyzcn4-NAY  23275.43856572  728758.25660686  \n",
       "-MVbm-Dlg70upa5N7iNs  23275.52947326  728758.34751440  \n",
       "-MVbm-EBpVI2xNgENUVy  23275.87691441  728758.69495555  \n",
       "-MVbm-EX2yJyfnYw4Myc  23276.22476478  728759.04280592  \n",
       "\n",
       "[517 rows x 15 columns]"
      ],
      "text/html": "<div>\n<style scoped>\n    .dataframe tbody tr th:only-of-type {\n        vertical-align: middle;\n    }\n\n    .dataframe tbody tr th {\n        vertical-align: top;\n    }\n\n    .dataframe thead th {\n        text-align: right;\n    }\n</style>\n<table border=\"1\" class=\"dataframe\">\n  <thead>\n    <tr style=\"text-align: right;\">\n      <th></th>\n      <th>best_ask</th>\n      <th>best_bid</th>\n      <th>high_24h</th>\n      <th>last_size</th>\n      <th>low_24h</th>\n      <th>open_24h</th>\n      <th>price</th>\n      <th>product_id</th>\n      <th>sequence</th>\n      <th>side</th>\n      <th>time</th>\n      <th>trade_id</th>\n      <th>type</th>\n      <th>volume_24h</th>\n      <th>volume_30d</th>\n    </tr>\n  </thead>\n  <tbody>\n    <tr>\n      <th>-MVblqPUfNrsTuw1azp6</th>\n      <td>57423.23</td>\n      <td>57419.99</td>\n      <td>58113</td>\n      <td>0.00290283</td>\n      <td>55050</td>\n      <td>57527.51</td>\n      <td>57423.23</td>\n      <td>BTC-USD</td>\n      <td>22637372049</td>\n      <td>buy</td>\n      <td>2021-03-12T18:51:21.986589Z</td>\n      <td>144106022</td>\n      <td>ticker</td>\n      <td>23239.10554988</td>\n      <td>728721.92359102</td>\n    </tr>\n    <tr>\n      <th>-MVblqTh1ZNIPXZC2bsZ</th>\n      <td>57424.56</td>\n      <td>57424.55</td>\n      <td>58113</td>\n      <td>0.00615</td>\n      <td>55050</td>\n      <td>57527.51</td>\n      <td>57424.55</td>\n      <td>BTC-USD</td>\n      <td>22637372497</td>\n      <td>sell</td>\n      <td>2021-03-12T18:51:22.875002Z</td>\n      <td>144106023</td>\n      <td>ticker</td>\n      <td>23239.11169988</td>\n      <td>728721.92974102</td>\n    </tr>\n    <tr>\n      <th>-MVblqYIPBW3iQls15Bn</th>\n      <td>57425.61</td>\n      <td>57424.55</td>\n      <td>58113</td>\n      <td>0.00109616</td>\n      <td>55050</td>\n      <td>57527.51</td>\n      <td>57424.56</td>\n      <td>BTC-USD</td>\n      <td>22637372583</td>\n      <td>buy</td>\n      <td>2021-03-12T18:51:23.158075Z</td>\n      <td>144106024</td>\n      <td>ticker</td>\n      <td>23239.11279604</td>\n      <td>728721.93083718</td>\n    </tr>\n    <tr>\n      <th>-MVblqYgOTuVHJHIbmOA</th>\n      <td>57425.61</td>\n      <td>57424.55</td>\n      <td>58113</td>\n      <td>0.00317282</td>\n      <td>55050</td>\n      <td>57527.51</td>\n      <td>57425.61</td>\n      <td>BTC-USD</td>\n      <td>22637372585</td>\n      <td>buy</td>\n      <td>2021-03-12T18:51:23.158075Z</td>\n      <td>144106025</td>\n      <td>ticker</td>\n      <td>23239.11596886</td>\n      <td>728721.93401000</td>\n    </tr>\n    <tr>\n      <th>-MVblqeyTP6F5mlRSIL3</th>\n      <td>57426.73</td>\n      <td>57425.60</td>\n      <td>58113</td>\n      <td>0.00632718</td>\n      <td>55050</td>\n      <td>57527.51</td>\n      <td>57425.61</td>\n      <td>BTC-USD</td>\n      <td>22637372772</td>\n      <td>buy</td>\n      <td>2021-03-12T18:51:23.662085Z</td>\n      <td>144106026</td>\n      <td>ticker</td>\n      <td>23239.12229604</td>\n      <td>728721.94033718</td>\n    </tr>\n    <tr>\n      <th>...</th>\n      <td>...</td>\n      <td>...</td>\n      <td>...</td>\n      <td>...</td>\n      <td>...</td>\n      <td>...</td>\n      <td>...</td>\n      <td>...</td>\n      <td>...</td>\n      <td>...</td>\n      <td>...</td>\n      <td>...</td>\n      <td>...</td>\n      <td>...</td>\n      <td>...</td>\n    </tr>\n    <tr>\n      <th>-MVbm-CvmEtbGYpsVAjX</th>\n      <td>57563.93</td>\n      <td>57562.07</td>\n      <td>58113</td>\n      <td>0.521</td>\n      <td>55050</td>\n      <td>57527.51</td>\n      <td>57563.88</td>\n      <td>BTC-USD</td>\n      <td>22637392323</td>\n      <td>buy</td>\n      <td>2021-03-12T18:52:02.545090Z</td>\n      <td>144106534</td>\n      <td>ticker</td>\n      <td>23275.38756572</td>\n      <td>728758.20560686</td>\n    </tr>\n    <tr>\n      <th>-MVbm-DKsEUyzcn4-NAY</th>\n      <td>57564.34</td>\n      <td>57562.07</td>\n      <td>58113</td>\n      <td>0.051</td>\n      <td>55050</td>\n      <td>57527.51</td>\n      <td>57563.93</td>\n      <td>BTC-USD</td>\n      <td>22637392325</td>\n      <td>buy</td>\n      <td>2021-03-12T18:52:02.545090Z</td>\n      <td>144106535</td>\n      <td>ticker</td>\n      <td>23275.43856572</td>\n      <td>728758.25660686</td>\n    </tr>\n    <tr>\n      <th>-MVbm-Dlg70upa5N7iNs</th>\n      <td>57564.35</td>\n      <td>57562.07</td>\n      <td>58113</td>\n      <td>0.09090754</td>\n      <td>55050</td>\n      <td>57527.51</td>\n      <td>57564.34</td>\n      <td>BTC-USD</td>\n      <td>22637392327</td>\n      <td>buy</td>\n      <td>2021-03-12T18:52:02.545090Z</td>\n      <td>144106536</td>\n      <td>ticker</td>\n      <td>23275.52947326</td>\n      <td>728758.34751440</td>\n    </tr>\n    <tr>\n      <th>-MVbm-EBpVI2xNgENUVy</th>\n      <td>57564.39</td>\n      <td>57562.07</td>\n      <td>58113</td>\n      <td>0.34744115</td>\n      <td>55050</td>\n      <td>57527.51</td>\n      <td>57564.35</td>\n      <td>BTC-USD</td>\n      <td>22637392329</td>\n      <td>buy</td>\n      <td>2021-03-12T18:52:02.545090Z</td>\n      <td>144106537</td>\n      <td>ticker</td>\n      <td>23275.87691441</td>\n      <td>728758.69495555</td>\n    </tr>\n    <tr>\n      <th>-MVbm-EX2yJyfnYw4Myc</th>\n      <td>57567.46</td>\n      <td>57562.07</td>\n      <td>58113</td>\n      <td>0.34785037</td>\n      <td>55050</td>\n      <td>57527.51</td>\n      <td>57564.39</td>\n      <td>BTC-USD</td>\n      <td>22637392331</td>\n      <td>buy</td>\n      <td>2021-03-12T18:52:02.545090Z</td>\n      <td>144106538</td>\n      <td>ticker</td>\n      <td>23276.22476478</td>\n      <td>728759.04280592</td>\n    </tr>\n  </tbody>\n</table>\n<p>517 rows × 15 columns</p>\n</div>"
     },
     "metadata": {},
     "execution_count": 7
    }
   ],
   "source": [
    "pd.DataFrame(trades).T.drop_duplicates()"
   ]
  },
  {
   "cell_type": "code",
   "execution_count": 12,
   "metadata": {},
   "outputs": [
    {
     "output_type": "stream",
     "name": "stdout",
     "text": [
      "7777\n",
      "7783\n"
     ]
    }
   ],
   "source": [
    "order_book=my_firebase.get('/order_book_v1_2021-03-12', '')\n",
    "print(len(order_book))\n",
    "import time\n",
    "time.sleep(10.5)\n",
    "order_book=my_firebase.get('/order_book_v1_2021-03-12', '')\n",
    "print(len(order_book))"
   ]
  },
  {
   "cell_type": "code",
   "execution_count": 11,
   "metadata": {},
   "outputs": [
    {
     "output_type": "execute_result",
     "data": {
      "text/plain": [
       "                                             asks  \\\n",
       "-MVbaMwPBHhdOpv-Z3xD  [[57096.19, 2.03147974, 8]]   \n",
       "-MVbaNRWmf5JE1xZJZhe        [[57090.95, 0.19, 1]]   \n",
       "-MVbaNwbqcVB8in8XpGF         [[57088.8, 0.19, 1]]   \n",
       "-MVbaOS9onMwvccZF5sN        [[57090.71, 0.05, 1]]   \n",
       "-MVbaOxgPwtHx42XX-OX        [[57098.36, 0.19, 1]]   \n",
       "...                                           ...   \n",
       "-MVbmIU57lEeFPKRCAA_       [[57574.8, 0.3619, 1]]   \n",
       "-MVbmJ09PE_8OH0Cbp5p     [[57574.61, 0.01466, 1]]   \n",
       "-MVbmJWsKXN_6bS85-HN  [[57572.31, 0.02956664, 1]]   \n",
       "-MVbmK1qb6X9mav2RUkW        [[57578.54, 0.05, 1]]   \n",
       "-MVbmKYUspR9YM597oAy  [[57574.56, 0.03006682, 1]]   \n",
       "\n",
       "                                             bids     sequence  \\\n",
       "-MVbaMwPBHhdOpv-Z3xD        [[57096.18, 0.05, 1]]  22635905177   \n",
       "-MVbaNRWmf5JE1xZJZhe     [[57077.45, 0.01473, 1]]  22635906488   \n",
       "-MVbaNwbqcVB8in8XpGF  [[57080.25, 0.00807104, 1]]  22635907871   \n",
       "-MVbaOS9onMwvccZF5sN  [[57080.25, 0.00308535, 1]]  22635908838   \n",
       "-MVbaOxgPwtHx42XX-OX     [[57087.89, 0.01466, 1]]  22635910019   \n",
       "...                                           ...          ...   \n",
       "-MVbmIU57lEeFPKRCAA_  [[57566.49, 0.01621034, 1]]  22637433157   \n",
       "-MVbmJ09PE_8OH0Cbp5p        [[57574.6, 0.006, 1]]  22637433863   \n",
       "-MVbmJWsKXN_6bS85-HN   [[57567.3, 0.00307141, 1]]  22637434465   \n",
       "-MVbmK1qb6X9mav2RUkW  [[57577.79, 0.04917131, 1]]  22637435210   \n",
       "-MVbmKYUspR9YM597oAy  [[57565.03, 0.02685719, 1]]  22637436048   \n",
       "\n",
       "                                            time  \n",
       "-MVbaMwPBHhdOpv-Z3xD  2021-03-12T18:01:14.241413  \n",
       "-MVbaNRWmf5JE1xZJZhe  2021-03-12T18:01:16.300088  \n",
       "-MVbaNwbqcVB8in8XpGF  2021-03-12T18:01:18.352514  \n",
       "-MVbaOS9onMwvccZF5sN  2021-03-12T18:01:20.435585  \n",
       "-MVbaOxgPwtHx42XX-OX  2021-03-12T18:01:22.519377  \n",
       "...                                          ...  \n",
       "-MVbmIU57lEeFPKRCAA_  2021-03-12T18:53:21.712116  \n",
       "-MVbmJ09PE_8OH0Cbp5p  2021-03-12T18:53:23.891814  \n",
       "-MVbmJWsKXN_6bS85-HN  2021-03-12T18:53:25.984394  \n",
       "-MVbmK1qb6X9mav2RUkW  2021-03-12T18:53:28.094360  \n",
       "-MVbmKYUspR9YM597oAy  2021-03-12T18:53:30.184147  \n",
       "\n",
       "[1494 rows x 4 columns]"
      ],
      "text/html": "<div>\n<style scoped>\n    .dataframe tbody tr th:only-of-type {\n        vertical-align: middle;\n    }\n\n    .dataframe tbody tr th {\n        vertical-align: top;\n    }\n\n    .dataframe thead th {\n        text-align: right;\n    }\n</style>\n<table border=\"1\" class=\"dataframe\">\n  <thead>\n    <tr style=\"text-align: right;\">\n      <th></th>\n      <th>asks</th>\n      <th>bids</th>\n      <th>sequence</th>\n      <th>time</th>\n    </tr>\n  </thead>\n  <tbody>\n    <tr>\n      <th>-MVbaMwPBHhdOpv-Z3xD</th>\n      <td>[[57096.19, 2.03147974, 8]]</td>\n      <td>[[57096.18, 0.05, 1]]</td>\n      <td>22635905177</td>\n      <td>2021-03-12T18:01:14.241413</td>\n    </tr>\n    <tr>\n      <th>-MVbaNRWmf5JE1xZJZhe</th>\n      <td>[[57090.95, 0.19, 1]]</td>\n      <td>[[57077.45, 0.01473, 1]]</td>\n      <td>22635906488</td>\n      <td>2021-03-12T18:01:16.300088</td>\n    </tr>\n    <tr>\n      <th>-MVbaNwbqcVB8in8XpGF</th>\n      <td>[[57088.8, 0.19, 1]]</td>\n      <td>[[57080.25, 0.00807104, 1]]</td>\n      <td>22635907871</td>\n      <td>2021-03-12T18:01:18.352514</td>\n    </tr>\n    <tr>\n      <th>-MVbaOS9onMwvccZF5sN</th>\n      <td>[[57090.71, 0.05, 1]]</td>\n      <td>[[57080.25, 0.00308535, 1]]</td>\n      <td>22635908838</td>\n      <td>2021-03-12T18:01:20.435585</td>\n    </tr>\n    <tr>\n      <th>-MVbaOxgPwtHx42XX-OX</th>\n      <td>[[57098.36, 0.19, 1]]</td>\n      <td>[[57087.89, 0.01466, 1]]</td>\n      <td>22635910019</td>\n      <td>2021-03-12T18:01:22.519377</td>\n    </tr>\n    <tr>\n      <th>...</th>\n      <td>...</td>\n      <td>...</td>\n      <td>...</td>\n      <td>...</td>\n    </tr>\n    <tr>\n      <th>-MVbmIU57lEeFPKRCAA_</th>\n      <td>[[57574.8, 0.3619, 1]]</td>\n      <td>[[57566.49, 0.01621034, 1]]</td>\n      <td>22637433157</td>\n      <td>2021-03-12T18:53:21.712116</td>\n    </tr>\n    <tr>\n      <th>-MVbmJ09PE_8OH0Cbp5p</th>\n      <td>[[57574.61, 0.01466, 1]]</td>\n      <td>[[57574.6, 0.006, 1]]</td>\n      <td>22637433863</td>\n      <td>2021-03-12T18:53:23.891814</td>\n    </tr>\n    <tr>\n      <th>-MVbmJWsKXN_6bS85-HN</th>\n      <td>[[57572.31, 0.02956664, 1]]</td>\n      <td>[[57567.3, 0.00307141, 1]]</td>\n      <td>22637434465</td>\n      <td>2021-03-12T18:53:25.984394</td>\n    </tr>\n    <tr>\n      <th>-MVbmK1qb6X9mav2RUkW</th>\n      <td>[[57578.54, 0.05, 1]]</td>\n      <td>[[57577.79, 0.04917131, 1]]</td>\n      <td>22637435210</td>\n      <td>2021-03-12T18:53:28.094360</td>\n    </tr>\n    <tr>\n      <th>-MVbmKYUspR9YM597oAy</th>\n      <td>[[57574.56, 0.03006682, 1]]</td>\n      <td>[[57565.03, 0.02685719, 1]]</td>\n      <td>22637436048</td>\n      <td>2021-03-12T18:53:30.184147</td>\n    </tr>\n  </tbody>\n</table>\n<p>1494 rows × 4 columns</p>\n</div>"
     },
     "metadata": {},
     "execution_count": 11
    }
   ],
   "source": [
    "pd.DataFrame(order_book).T #.reset_index(drop=True).drop_duplicates()"
   ]
  },
  {
   "cell_type": "code",
   "execution_count": 5,
   "metadata": {},
   "outputs": [],
   "source": [
    "#order_book=my_firebase.delete('/order_book_2021-03-11', '')\n",
    "trades=my_firebase.delete('/websocket_trades_v1_2021-03-12', '')"
   ]
  },
  {
   "cell_type": "code",
   "execution_count": 136,
   "metadata": {},
   "outputs": [
    {
     "output_type": "execute_result",
     "data": {
      "text/plain": [
       "                           maker_order_id     price product_id     sequence  \\\n",
       "0    0515c29b-bc22-4ac9-9668-0cc9579aff6b  57590.17    BTC-USD  22594140054   \n",
       "1    5b31ea09-7032-49d4-b756-73db55591fc3     57590    BTC-USD  22594140273   \n",
       "2    312717ff-cfdf-427c-988c-7740ee13a68e   57579.7    BTC-USD  22594140721   \n",
       "3    c86ecc7c-b54e-4705-8281-8a5a7bdd2039  57577.07    BTC-USD  22594140877   \n",
       "4    f6fe0695-6ffe-437e-9f3a-acd25bd2eb70  57571.17    BTC-USD  22594140879   \n",
       "..                                    ...       ...        ...          ...   \n",
       "442  cc69c068-3d97-40a4-9e35-ad0a8572e472  57555.53    BTC-USD  22594188357   \n",
       "443  9ce3295d-78d7-4c61-9cdd-60f3c99a1602  57545.13    BTC-USD  22594188495   \n",
       "444  be0fec68-19aa-4766-995a-2ea1565af80d  57562.61    BTC-USD  22594188893   \n",
       "445  61473c46-8376-44be-8b7c-4b8c8d1a4711  57561.66    BTC-USD  22594189158   \n",
       "446  07f77054-53b3-4c49-8cab-cc71b3b15489  57562.61    BTC-USD  22594189410   \n",
       "\n",
       "     side        size                        taker_order_id  \\\n",
       "0    sell  0.00166063  5b5a5f5b-96cd-495d-b983-d47d93786e81   \n",
       "1    sell       0.005  c48cf0dc-0c6a-423e-8cb1-bc0b419eb83f   \n",
       "2    sell  0.00031972  421e26ac-a3c3-4448-819a-046865bdc67a   \n",
       "3     buy  0.00307085  f3b8c10f-5d68-44b2-b594-f427457cb47b   \n",
       "4     buy  0.00008611  f3b8c10f-5d68-44b2-b594-f427457cb47b   \n",
       "..    ...         ...                                   ...   \n",
       "442  sell  0.41818827  4db40bd5-f63e-4060-9cd9-063f9812df09   \n",
       "443   buy  0.00187594  fbc27770-1637-4d4a-b1bf-9f2957131d87   \n",
       "444  sell  0.00032003  c184b9ee-c3bd-486b-831b-2064a26c3482   \n",
       "445  sell  0.00831182  5a679152-f042-4f98-87ce-e038f430759d   \n",
       "446  sell  0.00107195  7e5ad6b6-ed3c-4e91-b89b-2f2b824bce3b   \n",
       "\n",
       "                            time   trade_id   type  \n",
       "0    2021-03-11T18:49:11.215147Z  143670873  match  \n",
       "1    2021-03-11T18:49:11.460419Z  143670874  match  \n",
       "2    2021-03-11T18:49:12.183181Z  143670875  match  \n",
       "3    2021-03-11T18:49:12.404489Z  143670876  match  \n",
       "4    2021-03-11T18:49:12.404489Z  143670877  match  \n",
       "..                           ...        ...    ...  \n",
       "442  2021-03-11T18:50:25.068467Z  143671315  match  \n",
       "443  2021-03-11T18:50:25.359384Z  143671316  match  \n",
       "444  2021-03-11T18:50:26.128968Z  143671317  match  \n",
       "445  2021-03-11T18:50:26.705757Z  143671318  match  \n",
       "446  2021-03-11T18:50:27.033375Z  143671319  match  \n",
       "\n",
       "[447 rows x 10 columns]"
      ],
      "text/html": "<div>\n<style scoped>\n    .dataframe tbody tr th:only-of-type {\n        vertical-align: middle;\n    }\n\n    .dataframe tbody tr th {\n        vertical-align: top;\n    }\n\n    .dataframe thead th {\n        text-align: right;\n    }\n</style>\n<table border=\"1\" class=\"dataframe\">\n  <thead>\n    <tr style=\"text-align: right;\">\n      <th></th>\n      <th>maker_order_id</th>\n      <th>price</th>\n      <th>product_id</th>\n      <th>sequence</th>\n      <th>side</th>\n      <th>size</th>\n      <th>taker_order_id</th>\n      <th>time</th>\n      <th>trade_id</th>\n      <th>type</th>\n    </tr>\n  </thead>\n  <tbody>\n    <tr>\n      <th>0</th>\n      <td>0515c29b-bc22-4ac9-9668-0cc9579aff6b</td>\n      <td>57590.17</td>\n      <td>BTC-USD</td>\n      <td>22594140054</td>\n      <td>sell</td>\n      <td>0.00166063</td>\n      <td>5b5a5f5b-96cd-495d-b983-d47d93786e81</td>\n      <td>2021-03-11T18:49:11.215147Z</td>\n      <td>143670873</td>\n      <td>match</td>\n    </tr>\n    <tr>\n      <th>1</th>\n      <td>5b31ea09-7032-49d4-b756-73db55591fc3</td>\n      <td>57590</td>\n      <td>BTC-USD</td>\n      <td>22594140273</td>\n      <td>sell</td>\n      <td>0.005</td>\n      <td>c48cf0dc-0c6a-423e-8cb1-bc0b419eb83f</td>\n      <td>2021-03-11T18:49:11.460419Z</td>\n      <td>143670874</td>\n      <td>match</td>\n    </tr>\n    <tr>\n      <th>2</th>\n      <td>312717ff-cfdf-427c-988c-7740ee13a68e</td>\n      <td>57579.7</td>\n      <td>BTC-USD</td>\n      <td>22594140721</td>\n      <td>sell</td>\n      <td>0.00031972</td>\n      <td>421e26ac-a3c3-4448-819a-046865bdc67a</td>\n      <td>2021-03-11T18:49:12.183181Z</td>\n      <td>143670875</td>\n      <td>match</td>\n    </tr>\n    <tr>\n      <th>3</th>\n      <td>c86ecc7c-b54e-4705-8281-8a5a7bdd2039</td>\n      <td>57577.07</td>\n      <td>BTC-USD</td>\n      <td>22594140877</td>\n      <td>buy</td>\n      <td>0.00307085</td>\n      <td>f3b8c10f-5d68-44b2-b594-f427457cb47b</td>\n      <td>2021-03-11T18:49:12.404489Z</td>\n      <td>143670876</td>\n      <td>match</td>\n    </tr>\n    <tr>\n      <th>4</th>\n      <td>f6fe0695-6ffe-437e-9f3a-acd25bd2eb70</td>\n      <td>57571.17</td>\n      <td>BTC-USD</td>\n      <td>22594140879</td>\n      <td>buy</td>\n      <td>0.00008611</td>\n      <td>f3b8c10f-5d68-44b2-b594-f427457cb47b</td>\n      <td>2021-03-11T18:49:12.404489Z</td>\n      <td>143670877</td>\n      <td>match</td>\n    </tr>\n    <tr>\n      <th>...</th>\n      <td>...</td>\n      <td>...</td>\n      <td>...</td>\n      <td>...</td>\n      <td>...</td>\n      <td>...</td>\n      <td>...</td>\n      <td>...</td>\n      <td>...</td>\n      <td>...</td>\n    </tr>\n    <tr>\n      <th>442</th>\n      <td>cc69c068-3d97-40a4-9e35-ad0a8572e472</td>\n      <td>57555.53</td>\n      <td>BTC-USD</td>\n      <td>22594188357</td>\n      <td>sell</td>\n      <td>0.41818827</td>\n      <td>4db40bd5-f63e-4060-9cd9-063f9812df09</td>\n      <td>2021-03-11T18:50:25.068467Z</td>\n      <td>143671315</td>\n      <td>match</td>\n    </tr>\n    <tr>\n      <th>443</th>\n      <td>9ce3295d-78d7-4c61-9cdd-60f3c99a1602</td>\n      <td>57545.13</td>\n      <td>BTC-USD</td>\n      <td>22594188495</td>\n      <td>buy</td>\n      <td>0.00187594</td>\n      <td>fbc27770-1637-4d4a-b1bf-9f2957131d87</td>\n      <td>2021-03-11T18:50:25.359384Z</td>\n      <td>143671316</td>\n      <td>match</td>\n    </tr>\n    <tr>\n      <th>444</th>\n      <td>be0fec68-19aa-4766-995a-2ea1565af80d</td>\n      <td>57562.61</td>\n      <td>BTC-USD</td>\n      <td>22594188893</td>\n      <td>sell</td>\n      <td>0.00032003</td>\n      <td>c184b9ee-c3bd-486b-831b-2064a26c3482</td>\n      <td>2021-03-11T18:50:26.128968Z</td>\n      <td>143671317</td>\n      <td>match</td>\n    </tr>\n    <tr>\n      <th>445</th>\n      <td>61473c46-8376-44be-8b7c-4b8c8d1a4711</td>\n      <td>57561.66</td>\n      <td>BTC-USD</td>\n      <td>22594189158</td>\n      <td>sell</td>\n      <td>0.00831182</td>\n      <td>5a679152-f042-4f98-87ce-e038f430759d</td>\n      <td>2021-03-11T18:50:26.705757Z</td>\n      <td>143671318</td>\n      <td>match</td>\n    </tr>\n    <tr>\n      <th>446</th>\n      <td>07f77054-53b3-4c49-8cab-cc71b3b15489</td>\n      <td>57562.61</td>\n      <td>BTC-USD</td>\n      <td>22594189410</td>\n      <td>sell</td>\n      <td>0.00107195</td>\n      <td>7e5ad6b6-ed3c-4e91-b89b-2f2b824bce3b</td>\n      <td>2021-03-11T18:50:27.033375Z</td>\n      <td>143671319</td>\n      <td>match</td>\n    </tr>\n  </tbody>\n</table>\n<p>447 rows × 10 columns</p>\n</div>"
     },
     "metadata": {},
     "execution_count": 136
    }
   ],
   "source": [
    "pd.DataFrame(trades).T.drop_duplicates().reset_index(drop=True)"
   ]
  },
  {
   "cell_type": "code",
   "execution_count": null,
   "metadata": {},
   "outputs": [],
   "source": []
  },
  {
   "cell_type": "code",
   "execution_count": 63,
   "metadata": {
    "tags": []
   },
   "outputs": [
    {
     "output_type": "error",
     "ename": "ValueError",
     "evalue": "The default Firebase app already exists. This means you called initialize_app() more than once without providing an app name as the second argument. In most cases you only need to call initialize_app() once. But if you do want to initialize multiple apps, pass a second argument to initialize_app() to give each app a unique name.",
     "traceback": [
      "\u001b[0;31m---------------------------------------------------------------------------\u001b[0m",
      "\u001b[0;31mValueError\u001b[0m                                Traceback (most recent call last)",
      "\u001b[0;32m<ipython-input-63-f21cb07d2508>\u001b[0m in \u001b[0;36m<module>\u001b[0;34m\u001b[0m\n\u001b[1;32m      8\u001b[0m \u001b[0;31m# Initialize the app with a service account, granting admin privileges\u001b[0m\u001b[0;34m\u001b[0m\u001b[0;34m\u001b[0m\u001b[0;34m\u001b[0m\u001b[0m\n\u001b[1;32m      9\u001b[0m firebase_admin.initialize_app(cred,{\n\u001b[0;32m---> 10\u001b[0;31m     \u001b[0;34m'databaseURL'\u001b[0m\u001b[0;34m:\u001b[0m \u001b[0;34m'https://test-random-305921-default-rtdb.firebaseio.com/'\u001b[0m\u001b[0;34m\u001b[0m\u001b[0;34m\u001b[0m\u001b[0m\n\u001b[0m\u001b[1;32m     11\u001b[0m })\n\u001b[1;32m     12\u001b[0m \u001b[0;34m\u001b[0m\u001b[0m\n",
      "\u001b[0;32m~/data-x/first-environment/lib/python3.6/site-packages/firebase_admin/__init__.py\u001b[0m in \u001b[0;36minitialize_app\u001b[0;34m(credential, options, name)\u001b[0m\n\u001b[1;32m     70\u001b[0m     \u001b[0;32mif\u001b[0m \u001b[0mname\u001b[0m \u001b[0;34m==\u001b[0m \u001b[0m_DEFAULT_APP_NAME\u001b[0m\u001b[0;34m:\u001b[0m\u001b[0;34m\u001b[0m\u001b[0;34m\u001b[0m\u001b[0m\n\u001b[1;32m     71\u001b[0m         raise ValueError((\n\u001b[0;32m---> 72\u001b[0;31m             \u001b[0;34m'The default Firebase app already exists. This means you called '\u001b[0m\u001b[0;34m\u001b[0m\u001b[0;34m\u001b[0m\u001b[0m\n\u001b[0m\u001b[1;32m     73\u001b[0m             \u001b[0;34m'initialize_app() more than once without providing an app name as '\u001b[0m\u001b[0;34m\u001b[0m\u001b[0;34m\u001b[0m\u001b[0m\n\u001b[1;32m     74\u001b[0m             \u001b[0;34m'the second argument. In most cases you only need to call '\u001b[0m\u001b[0;34m\u001b[0m\u001b[0;34m\u001b[0m\u001b[0m\n",
      "\u001b[0;31mValueError\u001b[0m: The default Firebase app already exists. This means you called initialize_app() more than once without providing an app name as the second argument. In most cases you only need to call initialize_app() once. But if you do want to initialize multiple apps, pass a second argument to initialize_app() to give each app a unique name."
     ]
    }
   ],
   "source": [
    "import firebase_admin\n",
    "from firebase_admin import credentials\n",
    "from firebase_admin import db\n",
    "\n",
    "# Fetch the service account key JSON file contents\n",
    "cred = credentials.Certificate('/Users/Armand/data-x/credentials/test-random-b4fc5422edcf.json')\n",
    "\n",
    "# Initialize the app with a service account, granting admin privileges\n",
    "firebase_admin.initialize_app(cred,{\n",
    "    'databaseURL': 'https://test-random-305921-default-rtdb.firebaseio.com/'\n",
    "})\n",
    "\n",
    "# As an admin, the app has access to read and write all data, regradless of Security Rules\n",
    "ref = db.reference('/websocket_trades')#test-random-305921-default-rtdb\n",
    "snapshot = ref.order_by_child('time').limit_to_first(10).get()\n",
    "for key in snapshot:\n",
    "    print(key)"
   ]
  },
  {
   "cell_type": "code",
   "execution_count": 65,
   "metadata": {},
   "outputs": [
    {
     "output_type": "stream",
     "name": "stdout",
     "text": [
      "-MVXT218rJziIyL77V4d\n-MVXT24WSRNAe8Kg9VBw\n-MVXT27AVnRHMQFRnepC\n-MVXT28R7IMnR5i1_wdK\n-MVXT2CxPhQAXsddWV3T\n-MVXT2YmFH7-jqTVXc0f\n-MVXT2ZAmyOLLLP4MdNT\n-MVXT2ZVb0m0UhMgmi6-\n-MVXT2dByaHej_jqPh-3\n-MVXT2eqt9_5quhxP-yZ\n"
     ]
    }
   ],
   "source": [
    "ref = db.reference('/websocket_trades')#test-random-305921-default-rtdb\n",
    "snapshot = ref.order_by_key().limit_to_last(10).get()\n",
    "for key in snapshot:\n",
    "    print(key)"
   ]
  },
  {
   "cell_type": "code",
   "execution_count": 67,
   "metadata": {},
   "outputs": [
    {
     "output_type": "error",
     "ename": "AttributeError",
     "evalue": "'Query' object has no attribute 'startAt'",
     "traceback": [
      "\u001b[0;31m---------------------------------------------------------------------------\u001b[0m",
      "\u001b[0;31mAttributeError\u001b[0m                            Traceback (most recent call last)",
      "\u001b[0;32m<ipython-input-67-620b54fa677f>\u001b[0m in \u001b[0;36m<module>\u001b[0;34m\u001b[0m\n\u001b[1;32m      1\u001b[0m \u001b[0mref\u001b[0m \u001b[0;34m=\u001b[0m \u001b[0mdb\u001b[0m\u001b[0;34m.\u001b[0m\u001b[0mreference\u001b[0m\u001b[0;34m(\u001b[0m\u001b[0;34m'/websocket_trades'\u001b[0m\u001b[0;34m)\u001b[0m\u001b[0;31m#test-random-305921-default-rtdb\u001b[0m\u001b[0;34m\u001b[0m\u001b[0;34m\u001b[0m\u001b[0m\n\u001b[0;32m----> 2\u001b[0;31m \u001b[0msnapshot\u001b[0m \u001b[0;34m=\u001b[0m \u001b[0mref\u001b[0m\u001b[0;34m.\u001b[0m\u001b[0morder_by_key\u001b[0m\u001b[0;34m(\u001b[0m\u001b[0;34m)\u001b[0m\u001b[0;34m.\u001b[0m\u001b[0mstartAt\u001b[0m\u001b[0;34m(\u001b[0m\u001b[0;34m'-MVUz6WxBAq9-lGfg57y'\u001b[0m\u001b[0;34m)\u001b[0m\u001b[0;34m.\u001b[0m\u001b[0mget\u001b[0m\u001b[0;34m(\u001b[0m\u001b[0;34m)\u001b[0m\u001b[0;34m\u001b[0m\u001b[0;34m\u001b[0m\u001b[0m\n\u001b[0m\u001b[1;32m      3\u001b[0m \u001b[0;32mfor\u001b[0m \u001b[0mkey\u001b[0m \u001b[0;32min\u001b[0m \u001b[0msnapshot\u001b[0m\u001b[0;34m:\u001b[0m\u001b[0;34m\u001b[0m\u001b[0;34m\u001b[0m\u001b[0m\n\u001b[1;32m      4\u001b[0m     \u001b[0mprint\u001b[0m\u001b[0;34m(\u001b[0m\u001b[0mkey\u001b[0m\u001b[0;34m)\u001b[0m\u001b[0;34m\u001b[0m\u001b[0;34m\u001b[0m\u001b[0m\n",
      "\u001b[0;31mAttributeError\u001b[0m: 'Query' object has no attribute 'startAt'"
     ]
    }
   ],
   "source": [
    "ref = db.reference('/websocket_trades')#test-random-305921-default-rtdb\n",
    "snapshot = ref.order_by_key().startAt('-MVUz6WxBAq9-lGfg57y').get()\n",
    "for key in snapshot:\n",
    "    print(key)"
   ]
  },
  {
   "cell_type": "code",
   "execution_count": 69,
   "metadata": {},
   "outputs": [
    {
     "output_type": "stream",
     "name": "stdout",
     "text": [
      "{'maker_order_id': '9301b2f0-5a5b-4cd6-a84a-3c4c0a56ed64', 'price': '56818.57', 'product_id': 'BTC-USD', 'sequence': 22592763716, 'side': 'buy', 'size': '0.00375214', 'taker_order_id': '60e40f3f-8374-40e5-89cd-029432de9ed3', 'time': '2021-03-11T18:06:45.246726Z', 'trade_id': 143651094, 'type': 'match'}\n{'maker_order_id': 'a4dab921-aa55-4283-a2ce-364f600daf73', 'price': '56818.58', 'product_id': 'BTC-USD', 'sequence': 22592763815, 'side': 'sell', 'size': '0.00168376', 'taker_order_id': 'd4683543-f43a-4d50-bc97-782a1fa540a7', 'time': '2021-03-11T18:06:45.555649Z', 'trade_id': 143651095, 'type': 'match'}\n{'maker_order_id': 'a4dab921-aa55-4283-a2ce-364f600daf73', 'price': '56818.58', 'product_id': 'BTC-USD', 'sequence': 22592763842, 'side': 'sell', 'size': '0.00169869', 'taker_order_id': '64c09c28-8b11-4541-bf2e-599e8b49ed6f', 'time': '2021-03-11T18:06:45.725900Z', 'trade_id': 143651096, 'type': 'match'}\n{'maker_order_id': 'a4dab921-aa55-4283-a2ce-364f600daf73', 'price': '56818.58', 'product_id': 'BTC-USD', 'sequence': 22592763853, 'side': 'sell', 'size': '0.00431239', 'taker_order_id': 'c0300454-0879-4ec5-859c-34020cad1e75', 'time': '2021-03-11T18:06:45.804826Z', 'trade_id': 143651097, 'type': 'match'}\n{'maker_order_id': 'dec9c448-1355-448e-a584-6427c9ac6b18', 'price': '56818.57', 'product_id': 'BTC-USD', 'sequence': 22592763943, 'side': 'buy', 'size': '0.00134255', 'taker_order_id': 'e3b66f84-9df4-451b-956f-0ffb0d243fd4', 'time': '2021-03-11T18:06:46.095870Z', 'trade_id': 143651098, 'type': 'match'}\n{'maker_order_id': 'a4dab921-aa55-4283-a2ce-364f600daf73', 'price': '56818.58', 'product_id': 'BTC-USD', 'sequence': 22592764265, 'side': 'sell', 'size': '0.26279925', 'taker_order_id': 'f84c7bed-ac92-4865-86a8-3bebbba66063', 'time': '2021-03-11T18:06:47.168891Z', 'trade_id': 143651099, 'type': 'match'}\n{'maker_order_id': '531dea08-67bd-4e56-94e0-5ad9cfd818d9', 'price': '56818.61', 'product_id': 'BTC-USD', 'sequence': 22592764267, 'side': 'sell', 'size': '0.22933255', 'taker_order_id': 'f84c7bed-ac92-4865-86a8-3bebbba66063', 'time': '2021-03-11T18:06:47.168891Z', 'trade_id': 143651100, 'type': 'match'}\n{'maker_order_id': '531dea08-67bd-4e56-94e0-5ad9cfd818d9', 'price': '56818.61', 'product_id': 'BTC-USD', 'sequence': 22592764423, 'side': 'sell', 'size': '0.00015785', 'taker_order_id': '1655aa2d-1a94-4c53-bc49-bb90cb87d004', 'time': '2021-03-11T18:06:47.402057Z', 'trade_id': 143651101, 'type': 'match'}\n{'maker_order_id': '2e8c813a-30ba-4c71-8861-07193b4e634b', 'price': '56818.6', 'product_id': 'BTC-USD', 'sequence': 22592764493, 'side': 'buy', 'size': '0.00277161', 'taker_order_id': '541d9f30-5afe-464e-8f58-958fcfecfeb8', 'time': '2021-03-11T18:06:47.834029Z', 'trade_id': 143651102, 'type': 'match'}\n{'maker_order_id': '2e8c813a-30ba-4c71-8861-07193b4e634b', 'price': '56818.6', 'product_id': 'BTC-USD', 'sequence': 22592764545, 'side': 'buy', 'size': '0.00530676', 'taker_order_id': 'd91ad3b5-9008-4eb7-8563-832931c4e2e7', 'time': '2021-03-11T18:06:47.947729Z', 'trade_id': 143651103, 'type': 'match'}\n"
     ]
    }
   ],
   "source": [
    "for key, value in snapshot.items():\n",
    "    print(snapshot[key])"
   ]
  },
  {
   "cell_type": "code",
   "execution_count": 22,
   "metadata": {},
   "outputs": [
    {
     "output_type": "execute_result",
     "data": {
      "text/plain": [
       "                                            maker_order_id     price  \\\n",
       "-MVUz6WxBAq9-lGfg57y  4f0bba28-2c2b-481a-b9df-6670fa18b1b7     55420   \n",
       "-MVUz6XJYURHS-2xyQ5x  82e7e49d-dd89-4f70-912d-7325fe97387c     55420   \n",
       "-MVUz6_R1iLWeiFTKGF8  7293c133-3724-4a5d-bc29-9f3184a55cb9  55409.09   \n",
       "-MVUz73-Xr5fsdHfpdYA  7293c133-3724-4a5d-bc29-9f3184a55cb9  55409.09   \n",
       "-MVUz73OYRPwDzuw9xbo  9acd2dd1-d51c-4612-be64-942aa0961793  55409.08   \n",
       "-MVUz7H7LZ8rFwMVsFPd  cef226f4-9cf7-4a3e-b985-037c0ec7d786  55426.65   \n",
       "-MVUz7fQXgFp69WTzjUR  05d92546-e88d-4543-9d15-bc7dadb34d33  55428.06   \n",
       "-MVUz8hwZkodHUcP-0rZ  05d92546-e88d-4543-9d15-bc7dadb34d33  55428.06   \n",
       "-MVUz91-H1n8YZjiX2dk  05d92546-e88d-4543-9d15-bc7dadb34d33  55428.06   \n",
       "-MVUz91Mi0doWRJC7pUZ  05d92546-e88d-4543-9d15-bc7dadb34d33  55428.06   \n",
       "\n",
       "                     product_id     sequence  side        size  \\\n",
       "-MVUz6WxBAq9-lGfg57y    BTC-USD  22572832161   buy  0.00008301   \n",
       "-MVUz6XJYURHS-2xyQ5x    BTC-USD  22572832163   buy  0.00806646   \n",
       "-MVUz6_R1iLWeiFTKGF8    BTC-USD  22572832370  sell  0.00197535   \n",
       "-MVUz73-Xr5fsdHfpdYA    BTC-USD  22572832939  sell  0.00530727   \n",
       "-MVUz73OYRPwDzuw9xbo    BTC-USD  22572832944   buy  0.00309443   \n",
       "-MVUz7H7LZ8rFwMVsFPd    BTC-USD  22572833790  sell  0.01415262   \n",
       "-MVUz7fQXgFp69WTzjUR    BTC-USD  22572834766  sell  0.00174055   \n",
       "-MVUz8hwZkodHUcP-0rZ    BTC-USD  22572836369  sell  0.00042213   \n",
       "-MVUz91-H1n8YZjiX2dk    BTC-USD  22572836708  sell  0.00174055   \n",
       "-MVUz91Mi0doWRJC7pUZ    BTC-USD  22572836712  sell  0.00033459   \n",
       "\n",
       "                                            taker_order_id  \\\n",
       "-MVUz6WxBAq9-lGfg57y  e3eb73e8-b7a7-4f41-9192-81a0ee8de1f7   \n",
       "-MVUz6XJYURHS-2xyQ5x  e3eb73e8-b7a7-4f41-9192-81a0ee8de1f7   \n",
       "-MVUz6_R1iLWeiFTKGF8  bd67b696-f672-40f9-8eeb-4fa9aeccc1d1   \n",
       "-MVUz73-Xr5fsdHfpdYA  d5ae8f71-828d-4745-8e85-452ed1ae49f8   \n",
       "-MVUz73OYRPwDzuw9xbo  1b2356a4-b3ad-441f-8a57-84185c40d526   \n",
       "-MVUz7H7LZ8rFwMVsFPd  4542d096-2dac-4486-bfd6-c79c28991e53   \n",
       "-MVUz7fQXgFp69WTzjUR  c9e76e25-607c-40f1-b5ee-72e9896f5f8a   \n",
       "-MVUz8hwZkodHUcP-0rZ  2167d48b-4f9f-47c3-a47b-bee0fb0a1ed4   \n",
       "-MVUz91-H1n8YZjiX2dk  f915d538-b07f-4264-922c-8bff2e078317   \n",
       "-MVUz91Mi0doWRJC7pUZ  373e346f-2d64-486e-891c-483558e02f74   \n",
       "\n",
       "                                             time   trade_id   type  \n",
       "-MVUz6WxBAq9-lGfg57y  2021-03-11T06:32:22.865772Z  143480020  match  \n",
       "-MVUz6XJYURHS-2xyQ5x  2021-03-11T06:32:22.865772Z  143480021  match  \n",
       "-MVUz6_R1iLWeiFTKGF8  2021-03-11T06:32:23.087001Z  143480022  match  \n",
       "-MVUz73-Xr5fsdHfpdYA  2021-03-11T06:32:25.048638Z  143480023  match  \n",
       "-MVUz73OYRPwDzuw9xbo  2021-03-11T06:32:25.064948Z  143480024  match  \n",
       "-MVUz7H7LZ8rFwMVsFPd  2021-03-11T06:32:25.947211Z  143480025  match  \n",
       "-MVUz7fQXgFp69WTzjUR  2021-03-11T06:32:27.565766Z  143480026  match  \n",
       "-MVUz8hwZkodHUcP-0rZ  2021-03-11T06:32:31.822591Z  143480027  match  \n",
       "-MVUz91-H1n8YZjiX2dk  2021-03-11T06:32:33.072896Z  143480028  match  \n",
       "-MVUz91Mi0doWRJC7pUZ  2021-03-11T06:32:33.095436Z  143480029  match  "
      ],
      "text/html": "<div>\n<style scoped>\n    .dataframe tbody tr th:only-of-type {\n        vertical-align: middle;\n    }\n\n    .dataframe tbody tr th {\n        vertical-align: top;\n    }\n\n    .dataframe thead th {\n        text-align: right;\n    }\n</style>\n<table border=\"1\" class=\"dataframe\">\n  <thead>\n    <tr style=\"text-align: right;\">\n      <th></th>\n      <th>maker_order_id</th>\n      <th>price</th>\n      <th>product_id</th>\n      <th>sequence</th>\n      <th>side</th>\n      <th>size</th>\n      <th>taker_order_id</th>\n      <th>time</th>\n      <th>trade_id</th>\n      <th>type</th>\n    </tr>\n  </thead>\n  <tbody>\n    <tr>\n      <th>-MVUz6WxBAq9-lGfg57y</th>\n      <td>4f0bba28-2c2b-481a-b9df-6670fa18b1b7</td>\n      <td>55420</td>\n      <td>BTC-USD</td>\n      <td>22572832161</td>\n      <td>buy</td>\n      <td>0.00008301</td>\n      <td>e3eb73e8-b7a7-4f41-9192-81a0ee8de1f7</td>\n      <td>2021-03-11T06:32:22.865772Z</td>\n      <td>143480020</td>\n      <td>match</td>\n    </tr>\n    <tr>\n      <th>-MVUz6XJYURHS-2xyQ5x</th>\n      <td>82e7e49d-dd89-4f70-912d-7325fe97387c</td>\n      <td>55420</td>\n      <td>BTC-USD</td>\n      <td>22572832163</td>\n      <td>buy</td>\n      <td>0.00806646</td>\n      <td>e3eb73e8-b7a7-4f41-9192-81a0ee8de1f7</td>\n      <td>2021-03-11T06:32:22.865772Z</td>\n      <td>143480021</td>\n      <td>match</td>\n    </tr>\n    <tr>\n      <th>-MVUz6_R1iLWeiFTKGF8</th>\n      <td>7293c133-3724-4a5d-bc29-9f3184a55cb9</td>\n      <td>55409.09</td>\n      <td>BTC-USD</td>\n      <td>22572832370</td>\n      <td>sell</td>\n      <td>0.00197535</td>\n      <td>bd67b696-f672-40f9-8eeb-4fa9aeccc1d1</td>\n      <td>2021-03-11T06:32:23.087001Z</td>\n      <td>143480022</td>\n      <td>match</td>\n    </tr>\n    <tr>\n      <th>-MVUz73-Xr5fsdHfpdYA</th>\n      <td>7293c133-3724-4a5d-bc29-9f3184a55cb9</td>\n      <td>55409.09</td>\n      <td>BTC-USD</td>\n      <td>22572832939</td>\n      <td>sell</td>\n      <td>0.00530727</td>\n      <td>d5ae8f71-828d-4745-8e85-452ed1ae49f8</td>\n      <td>2021-03-11T06:32:25.048638Z</td>\n      <td>143480023</td>\n      <td>match</td>\n    </tr>\n    <tr>\n      <th>-MVUz73OYRPwDzuw9xbo</th>\n      <td>9acd2dd1-d51c-4612-be64-942aa0961793</td>\n      <td>55409.08</td>\n      <td>BTC-USD</td>\n      <td>22572832944</td>\n      <td>buy</td>\n      <td>0.00309443</td>\n      <td>1b2356a4-b3ad-441f-8a57-84185c40d526</td>\n      <td>2021-03-11T06:32:25.064948Z</td>\n      <td>143480024</td>\n      <td>match</td>\n    </tr>\n    <tr>\n      <th>-MVUz7H7LZ8rFwMVsFPd</th>\n      <td>cef226f4-9cf7-4a3e-b985-037c0ec7d786</td>\n      <td>55426.65</td>\n      <td>BTC-USD</td>\n      <td>22572833790</td>\n      <td>sell</td>\n      <td>0.01415262</td>\n      <td>4542d096-2dac-4486-bfd6-c79c28991e53</td>\n      <td>2021-03-11T06:32:25.947211Z</td>\n      <td>143480025</td>\n      <td>match</td>\n    </tr>\n    <tr>\n      <th>-MVUz7fQXgFp69WTzjUR</th>\n      <td>05d92546-e88d-4543-9d15-bc7dadb34d33</td>\n      <td>55428.06</td>\n      <td>BTC-USD</td>\n      <td>22572834766</td>\n      <td>sell</td>\n      <td>0.00174055</td>\n      <td>c9e76e25-607c-40f1-b5ee-72e9896f5f8a</td>\n      <td>2021-03-11T06:32:27.565766Z</td>\n      <td>143480026</td>\n      <td>match</td>\n    </tr>\n    <tr>\n      <th>-MVUz8hwZkodHUcP-0rZ</th>\n      <td>05d92546-e88d-4543-9d15-bc7dadb34d33</td>\n      <td>55428.06</td>\n      <td>BTC-USD</td>\n      <td>22572836369</td>\n      <td>sell</td>\n      <td>0.00042213</td>\n      <td>2167d48b-4f9f-47c3-a47b-bee0fb0a1ed4</td>\n      <td>2021-03-11T06:32:31.822591Z</td>\n      <td>143480027</td>\n      <td>match</td>\n    </tr>\n    <tr>\n      <th>-MVUz91-H1n8YZjiX2dk</th>\n      <td>05d92546-e88d-4543-9d15-bc7dadb34d33</td>\n      <td>55428.06</td>\n      <td>BTC-USD</td>\n      <td>22572836708</td>\n      <td>sell</td>\n      <td>0.00174055</td>\n      <td>f915d538-b07f-4264-922c-8bff2e078317</td>\n      <td>2021-03-11T06:32:33.072896Z</td>\n      <td>143480028</td>\n      <td>match</td>\n    </tr>\n    <tr>\n      <th>-MVUz91Mi0doWRJC7pUZ</th>\n      <td>05d92546-e88d-4543-9d15-bc7dadb34d33</td>\n      <td>55428.06</td>\n      <td>BTC-USD</td>\n      <td>22572836712</td>\n      <td>sell</td>\n      <td>0.00033459</td>\n      <td>373e346f-2d64-486e-891c-483558e02f74</td>\n      <td>2021-03-11T06:32:33.095436Z</td>\n      <td>143480029</td>\n      <td>match</td>\n    </tr>\n  </tbody>\n</table>\n</div>"
     },
     "metadata": {},
     "execution_count": 22
    }
   ],
   "source": [
    "\n",
    "pd.DataFrame(snapshot).T"
   ]
  },
  {
   "cell_type": "code",
   "execution_count": 26,
   "metadata": {},
   "outputs": [
    {
     "output_type": "stream",
     "name": "stdout",
     "text": [
      "Collecting firebase_admin\n",
      "  Downloading firebase_admin-4.5.2-py3-none-any.whl (111 kB)\n",
      "\u001b[K     |████████████████████████████████| 111 kB 1.6 MB/s \n",
      "\u001b[?25hCollecting google-cloud-firestore>=1.4.0\n",
      "  Downloading google_cloud_firestore-2.0.2-py2.py3-none-any.whl (196 kB)\n",
      "\u001b[K     |████████████████████████████████| 196 kB 3.7 MB/s \n",
      "\u001b[?25hCollecting google-cloud-storage>=1.18.0\n",
      "  Downloading google_cloud_storage-1.36.2-py2.py3-none-any.whl (97 kB)\n",
      "\u001b[K     |████████████████████████████████| 97 kB 11.9 MB/s \n",
      "\u001b[?25hCollecting google-api-core[grpc]<2.0.0dev,>=1.14.0\n",
      "  Downloading google_api_core-1.26.1-py2.py3-none-any.whl (92 kB)\n",
      "\u001b[K     |████████████████████████████████| 92 kB 3.1 MB/s \n",
      "\u001b[?25hCollecting google-api-python-client>=1.7.8\n",
      "  Downloading google_api_python_client-2.0.2-py2.py3-none-any.whl (6.5 MB)\n",
      "\u001b[K     |████████████████████████████████| 6.5 MB 15.7 MB/s \n",
      "\u001b[?25hCollecting cachecontrol>=0.12.6\n",
      "  Downloading CacheControl-0.12.6-py2.py3-none-any.whl (19 kB)\n",
      "Collecting msgpack>=0.5.2\n",
      "  Downloading msgpack-1.0.2-cp36-cp36m-macosx_10_14_x86_64.whl (73 kB)\n",
      "\u001b[K     |████████████████████████████████| 73 kB 4.1 MB/s \n",
      "\u001b[?25hRequirement already satisfied: requests in /Users/Armand/data-x/first-environment/lib/python3.6/site-packages (from cachecontrol>=0.12.6->firebase_admin) (2.25.1)\n",
      "Requirement already satisfied: setuptools>=40.3.0 in /Users/Armand/data-x/first-environment/lib/python3.6/site-packages (from google-api-core[grpc]<2.0.0dev,>=1.14.0->firebase_admin) (40.6.2)\n",
      "Collecting googleapis-common-protos<2.0dev,>=1.6.0\n",
      "  Using cached googleapis_common_protos-1.53.0-py2.py3-none-any.whl (198 kB)\n",
      "Collecting packaging>=14.3\n",
      "  Downloading packaging-20.9-py2.py3-none-any.whl (40 kB)\n",
      "\u001b[K     |████████████████████████████████| 40 kB 11.3 MB/s \n",
      "\u001b[?25hCollecting google-auth<2.0dev,>=1.21.1\n",
      "  Downloading google_auth-1.27.1-py2.py3-none-any.whl (136 kB)\n",
      "\u001b[K     |████████████████████████████████| 136 kB 24.7 MB/s \n",
      "\u001b[?25hCollecting protobuf>=3.12.0\n",
      "  Downloading protobuf-3.15.5-cp36-cp36m-macosx_10_9_x86_64.whl (1.0 MB)\n",
      "\u001b[K     |████████████████████████████████| 1.0 MB 15.3 MB/s \n",
      "\u001b[?25hCollecting pytz\n",
      "  Using cached pytz-2021.1-py2.py3-none-any.whl (510 kB)\n",
      "Requirement already satisfied: six>=1.13.0 in /Users/Armand/data-x/first-environment/lib/python3.6/site-packages (from google-api-core[grpc]<2.0.0dev,>=1.14.0->firebase_admin) (1.15.0)\n",
      "Collecting grpcio<2.0dev,>=1.29.0\n",
      "  Downloading grpcio-1.36.1-cp36-cp36m-macosx_10_10_x86_64.whl (3.8 MB)\n",
      "\u001b[K     |████████████████████████████████| 3.8 MB 2.1 MB/s \n",
      "\u001b[?25hCollecting uritemplate<4dev,>=3.0.0\n",
      "  Downloading uritemplate-3.0.1-py2.py3-none-any.whl (15 kB)\n",
      "Collecting google-auth-httplib2>=0.0.3\n",
      "  Downloading google_auth_httplib2-0.1.0-py2.py3-none-any.whl (9.3 kB)\n",
      "Collecting httplib2<1dev,>=0.15.0\n",
      "  Using cached httplib2-0.19.0-py3-none-any.whl (95 kB)\n",
      "Collecting cachetools<5.0,>=2.0.0\n",
      "  Using cached cachetools-4.2.1-py3-none-any.whl (12 kB)\n",
      "Collecting rsa<5,>=3.1.4\n",
      "  Using cached rsa-4.7.2-py3-none-any.whl (34 kB)\n",
      "Collecting pyasn1-modules>=0.2.1\n",
      "  Using cached pyasn1_modules-0.2.8-py2.py3-none-any.whl (155 kB)\n",
      "Collecting proto-plus>=1.3.0\n",
      "  Downloading proto_plus-1.15.0-py3-none-any.whl (42 kB)\n",
      "\u001b[K     |████████████████████████████████| 42 kB 2.3 MB/s \n",
      "\u001b[?25hCollecting google-cloud-core<2.0dev,>=1.4.1\n",
      "  Downloading google_cloud_core-1.6.0-py2.py3-none-any.whl (28 kB)\n",
      "Collecting google-resumable-media<2.0dev,>=1.2.0\n",
      "  Downloading google_resumable_media-1.2.0-py2.py3-none-any.whl (75 kB)\n",
      "\u001b[K     |████████████████████████████████| 75 kB 8.8 MB/s \n",
      "\u001b[?25hCollecting google-crc32c<2.0dev,>=1.0\n",
      "  Downloading google_crc32c-1.1.2-cp36-cp36m-macosx_10_14_x86_64.whl (27 kB)\n",
      "Collecting cffi>=1.0.0\n",
      "  Downloading cffi-1.14.5-cp36-cp36m-macosx_10_9_x86_64.whl (176 kB)\n",
      "\u001b[K     |████████████████████████████████| 176 kB 17.3 MB/s \n",
      "\u001b[?25hCollecting pycparser\n",
      "  Using cached pycparser-2.20-py2.py3-none-any.whl (112 kB)\n",
      "Collecting pyparsing<3,>=2.4.2\n",
      "  Using cached pyparsing-2.4.7-py2.py3-none-any.whl (67 kB)\n",
      "Collecting pyasn1<0.5.0,>=0.4.6\n",
      "  Using cached pyasn1-0.4.8-py2.py3-none-any.whl (77 kB)\n",
      "Requirement already satisfied: chardet<5,>=3.0.2 in /Users/Armand/data-x/first-environment/lib/python3.6/site-packages (from requests->cachecontrol>=0.12.6->firebase_admin) (4.0.0)\n",
      "Requirement already satisfied: urllib3<1.27,>=1.21.1 in /Users/Armand/data-x/first-environment/lib/python3.6/site-packages (from requests->cachecontrol>=0.12.6->firebase_admin) (1.26.3)\n",
      "Requirement already satisfied: certifi>=2017.4.17 in /Users/Armand/data-x/first-environment/lib/python3.6/site-packages (from requests->cachecontrol>=0.12.6->firebase_admin) (2020.12.5)\n",
      "Requirement already satisfied: idna<3,>=2.5 in /Users/Armand/data-x/first-environment/lib/python3.6/site-packages (from requests->cachecontrol>=0.12.6->firebase_admin) (2.10)\n",
      "Installing collected packages: pyasn1, rsa, pyparsing, pycparser, pyasn1-modules, protobuf, cachetools, pytz, packaging, googleapis-common-protos, google-auth, cffi, httplib2, grpcio, google-crc32c, google-api-core, uritemplate, proto-plus, msgpack, google-resumable-media, google-cloud-core, google-auth-httplib2, google-cloud-storage, google-cloud-firestore, google-api-python-client, cachecontrol, firebase-admin\n",
      "Successfully installed cachecontrol-0.12.6 cachetools-4.2.1 cffi-1.14.5 firebase-admin-4.5.2 google-api-core-1.26.1 google-api-python-client-2.0.2 google-auth-1.27.1 google-auth-httplib2-0.1.0 google-cloud-core-1.6.0 google-cloud-firestore-2.0.2 google-cloud-storage-1.36.2 google-crc32c-1.1.2 google-resumable-media-1.2.0 googleapis-common-protos-1.53.0 grpcio-1.36.1 httplib2-0.19.0 msgpack-1.0.2 packaging-20.9 proto-plus-1.15.0 protobuf-3.15.5 pyasn1-0.4.8 pyasn1-modules-0.2.8 pycparser-2.20 pyparsing-2.4.7 pytz-2021.1 rsa-4.7.2 uritemplate-3.0.1\n",
      "Note: you may need to restart the kernel to use updated packages.\n"
     ]
    }
   ],
   "source": [
    "pip install firebase_admin"
   ]
  },
  {
   "cell_type": "code",
   "execution_count": 27,
   "metadata": {},
   "outputs": [
    {
     "output_type": "error",
     "ename": "HTTPError",
     "evalue": "413 Client Error: Request Entity Too Large for url: https://test-random-305921-default-rtdb.firebaseio.com/websocket_trades/.json",
     "traceback": [
      "\u001b[0;31m---------------------------------------------------------------------------\u001b[0m",
      "\u001b[0;31mHTTPError\u001b[0m                                 Traceback (most recent call last)",
      "\u001b[0;32m<ipython-input-27-745576e06382>\u001b[0m in \u001b[0;36m<module>\u001b[0;34m\u001b[0m\n\u001b[1;32m      2\u001b[0m \u001b[0;31m#test=my_firebase.get('/websocket_trades', '')\u001b[0m\u001b[0;34m\u001b[0m\u001b[0;34m\u001b[0m\u001b[0;34m\u001b[0m\u001b[0m\n\u001b[1;32m      3\u001b[0m \u001b[0;31m#print(len(test))\u001b[0m\u001b[0;34m\u001b[0m\u001b[0;34m\u001b[0m\u001b[0;34m\u001b[0m\u001b[0m\n\u001b[0;32m----> 4\u001b[0;31m \u001b[0mtrades\u001b[0m\u001b[0;34m=\u001b[0m\u001b[0mmy_firebase\u001b[0m\u001b[0;34m.\u001b[0m\u001b[0mget\u001b[0m\u001b[0;34m(\u001b[0m\u001b[0;34m'/websocket_trades'\u001b[0m\u001b[0;34m,\u001b[0m \u001b[0;34m''\u001b[0m\u001b[0;34m)\u001b[0m\u001b[0;34m\u001b[0m\u001b[0;34m\u001b[0m\u001b[0m\n\u001b[0m",
      "\u001b[0;32m~/data-x/first-environment/lib/python3.6/site-packages/firebase/decorators.py\u001b[0m in \u001b[0;36mwrapped\u001b[0;34m(*args, **kwargs)\u001b[0m\n\u001b[1;32m     17\u001b[0m             \u001b[0mconnection\u001b[0m\u001b[0;34m.\u001b[0m\u001b[0mtimeout\u001b[0m \u001b[0;34m=\u001b[0m \u001b[0mtimeout\u001b[0m\u001b[0;34m\u001b[0m\u001b[0;34m\u001b[0m\u001b[0m\n\u001b[1;32m     18\u001b[0m             \u001b[0mconnection\u001b[0m\u001b[0;34m.\u001b[0m\u001b[0mheaders\u001b[0m\u001b[0;34m.\u001b[0m\u001b[0mupdate\u001b[0m\u001b[0;34m(\u001b[0m\u001b[0;34m{\u001b[0m\u001b[0;34m'Content-type'\u001b[0m\u001b[0;34m:\u001b[0m \u001b[0;34m'application/json'\u001b[0m\u001b[0;34m}\u001b[0m\u001b[0;34m)\u001b[0m\u001b[0;34m\u001b[0m\u001b[0;34m\u001b[0m\u001b[0m\n\u001b[0;32m---> 19\u001b[0;31m             \u001b[0;32mreturn\u001b[0m \u001b[0mf\u001b[0m\u001b[0;34m(\u001b[0m\u001b[0;34m*\u001b[0m\u001b[0margs\u001b[0m\u001b[0;34m,\u001b[0m \u001b[0;34m**\u001b[0m\u001b[0mkwargs\u001b[0m\u001b[0;34m)\u001b[0m\u001b[0;34m\u001b[0m\u001b[0;34m\u001b[0m\u001b[0m\n\u001b[0m\u001b[1;32m     20\u001b[0m         \u001b[0;32mreturn\u001b[0m \u001b[0mwraps\u001b[0m\u001b[0;34m(\u001b[0m\u001b[0mf\u001b[0m\u001b[0;34m)\u001b[0m\u001b[0;34m(\u001b[0m\u001b[0mwrapped\u001b[0m\u001b[0;34m)\u001b[0m\u001b[0;34m\u001b[0m\u001b[0;34m\u001b[0m\u001b[0m\n\u001b[1;32m     21\u001b[0m     \u001b[0;32mreturn\u001b[0m \u001b[0mwrapper\u001b[0m\u001b[0;34m\u001b[0m\u001b[0;34m\u001b[0m\u001b[0m\n",
      "\u001b[0;32m~/data-x/first-environment/lib/python3.6/site-packages/firebase/firebase.py\u001b[0m in \u001b[0;36mget\u001b[0;34m(self, url, name, connection, params, headers)\u001b[0m\n\u001b[1;32m    272\u001b[0m         \u001b[0mendpoint\u001b[0m \u001b[0;34m=\u001b[0m \u001b[0mself\u001b[0m\u001b[0;34m.\u001b[0m\u001b[0m_build_endpoint_url\u001b[0m\u001b[0;34m(\u001b[0m\u001b[0murl\u001b[0m\u001b[0;34m,\u001b[0m \u001b[0mname\u001b[0m\u001b[0;34m)\u001b[0m\u001b[0;34m\u001b[0m\u001b[0;34m\u001b[0m\u001b[0m\n\u001b[1;32m    273\u001b[0m         \u001b[0mself\u001b[0m\u001b[0;34m.\u001b[0m\u001b[0m_authenticate\u001b[0m\u001b[0;34m(\u001b[0m\u001b[0mparams\u001b[0m\u001b[0;34m,\u001b[0m \u001b[0mheaders\u001b[0m\u001b[0;34m)\u001b[0m\u001b[0;34m\u001b[0m\u001b[0;34m\u001b[0m\u001b[0m\n\u001b[0;32m--> 274\u001b[0;31m         \u001b[0;32mreturn\u001b[0m \u001b[0mmake_get_request\u001b[0m\u001b[0;34m(\u001b[0m\u001b[0mendpoint\u001b[0m\u001b[0;34m,\u001b[0m \u001b[0mparams\u001b[0m\u001b[0;34m,\u001b[0m \u001b[0mheaders\u001b[0m\u001b[0;34m,\u001b[0m \u001b[0mconnection\u001b[0m\u001b[0;34m=\u001b[0m\u001b[0mconnection\u001b[0m\u001b[0;34m)\u001b[0m\u001b[0;34m\u001b[0m\u001b[0;34m\u001b[0m\u001b[0m\n\u001b[0m\u001b[1;32m    275\u001b[0m \u001b[0;34m\u001b[0m\u001b[0m\n\u001b[1;32m    276\u001b[0m     \u001b[0;32mdef\u001b[0m \u001b[0mget_async\u001b[0m\u001b[0;34m(\u001b[0m\u001b[0mself\u001b[0m\u001b[0;34m,\u001b[0m \u001b[0murl\u001b[0m\u001b[0;34m,\u001b[0m \u001b[0mname\u001b[0m\u001b[0;34m,\u001b[0m \u001b[0mcallback\u001b[0m\u001b[0;34m=\u001b[0m\u001b[0;32mNone\u001b[0m\u001b[0;34m,\u001b[0m \u001b[0mparams\u001b[0m\u001b[0;34m=\u001b[0m\u001b[0;32mNone\u001b[0m\u001b[0;34m,\u001b[0m \u001b[0mheaders\u001b[0m\u001b[0;34m=\u001b[0m\u001b[0;32mNone\u001b[0m\u001b[0;34m)\u001b[0m\u001b[0;34m:\u001b[0m\u001b[0;34m\u001b[0m\u001b[0;34m\u001b[0m\u001b[0m\n",
      "\u001b[0;32m~/data-x/first-environment/lib/python3.6/site-packages/firebase/decorators.py\u001b[0m in \u001b[0;36mwrapped\u001b[0;34m(*args, **kwargs)\u001b[0m\n\u001b[1;32m     17\u001b[0m             \u001b[0mconnection\u001b[0m\u001b[0;34m.\u001b[0m\u001b[0mtimeout\u001b[0m \u001b[0;34m=\u001b[0m \u001b[0mtimeout\u001b[0m\u001b[0;34m\u001b[0m\u001b[0;34m\u001b[0m\u001b[0m\n\u001b[1;32m     18\u001b[0m             \u001b[0mconnection\u001b[0m\u001b[0;34m.\u001b[0m\u001b[0mheaders\u001b[0m\u001b[0;34m.\u001b[0m\u001b[0mupdate\u001b[0m\u001b[0;34m(\u001b[0m\u001b[0;34m{\u001b[0m\u001b[0;34m'Content-type'\u001b[0m\u001b[0;34m:\u001b[0m \u001b[0;34m'application/json'\u001b[0m\u001b[0;34m}\u001b[0m\u001b[0;34m)\u001b[0m\u001b[0;34m\u001b[0m\u001b[0;34m\u001b[0m\u001b[0m\n\u001b[0;32m---> 19\u001b[0;31m             \u001b[0;32mreturn\u001b[0m \u001b[0mf\u001b[0m\u001b[0;34m(\u001b[0m\u001b[0;34m*\u001b[0m\u001b[0margs\u001b[0m\u001b[0;34m,\u001b[0m \u001b[0;34m**\u001b[0m\u001b[0mkwargs\u001b[0m\u001b[0;34m)\u001b[0m\u001b[0;34m\u001b[0m\u001b[0;34m\u001b[0m\u001b[0m\n\u001b[0m\u001b[1;32m     20\u001b[0m         \u001b[0;32mreturn\u001b[0m \u001b[0mwraps\u001b[0m\u001b[0;34m(\u001b[0m\u001b[0mf\u001b[0m\u001b[0;34m)\u001b[0m\u001b[0;34m(\u001b[0m\u001b[0mwrapped\u001b[0m\u001b[0;34m)\u001b[0m\u001b[0;34m\u001b[0m\u001b[0;34m\u001b[0m\u001b[0m\n\u001b[1;32m     21\u001b[0m     \u001b[0;32mreturn\u001b[0m \u001b[0mwrapper\u001b[0m\u001b[0;34m\u001b[0m\u001b[0;34m\u001b[0m\u001b[0m\n",
      "\u001b[0;32m~/data-x/first-environment/lib/python3.6/site-packages/firebase/firebase.py\u001b[0m in \u001b[0;36mmake_get_request\u001b[0;34m(url, params, headers, connection)\u001b[0m\n\u001b[1;32m     40\u001b[0m         \u001b[0;32mreturn\u001b[0m \u001b[0mresponse\u001b[0m\u001b[0;34m.\u001b[0m\u001b[0mjson\u001b[0m\u001b[0;34m(\u001b[0m\u001b[0;34m)\u001b[0m \u001b[0;32mif\u001b[0m \u001b[0mresponse\u001b[0m\u001b[0;34m.\u001b[0m\u001b[0mcontent\u001b[0m \u001b[0;32melse\u001b[0m \u001b[0;32mNone\u001b[0m\u001b[0;34m\u001b[0m\u001b[0;34m\u001b[0m\u001b[0m\n\u001b[1;32m     41\u001b[0m     \u001b[0;32melse\u001b[0m\u001b[0;34m:\u001b[0m\u001b[0;34m\u001b[0m\u001b[0;34m\u001b[0m\u001b[0m\n\u001b[0;32m---> 42\u001b[0;31m         \u001b[0mresponse\u001b[0m\u001b[0;34m.\u001b[0m\u001b[0mraise_for_status\u001b[0m\u001b[0;34m(\u001b[0m\u001b[0;34m)\u001b[0m\u001b[0;34m\u001b[0m\u001b[0;34m\u001b[0m\u001b[0m\n\u001b[0m\u001b[1;32m     43\u001b[0m \u001b[0;34m\u001b[0m\u001b[0m\n\u001b[1;32m     44\u001b[0m \u001b[0;34m\u001b[0m\u001b[0m\n",
      "\u001b[0;32m~/data-x/first-environment/lib/python3.6/site-packages/requests/models.py\u001b[0m in \u001b[0;36mraise_for_status\u001b[0;34m(self)\u001b[0m\n\u001b[1;32m    941\u001b[0m \u001b[0;34m\u001b[0m\u001b[0m\n\u001b[1;32m    942\u001b[0m         \u001b[0;32mif\u001b[0m \u001b[0mhttp_error_msg\u001b[0m\u001b[0;34m:\u001b[0m\u001b[0;34m\u001b[0m\u001b[0;34m\u001b[0m\u001b[0m\n\u001b[0;32m--> 943\u001b[0;31m             \u001b[0;32mraise\u001b[0m \u001b[0mHTTPError\u001b[0m\u001b[0;34m(\u001b[0m\u001b[0mhttp_error_msg\u001b[0m\u001b[0;34m,\u001b[0m \u001b[0mresponse\u001b[0m\u001b[0;34m=\u001b[0m\u001b[0mself\u001b[0m\u001b[0;34m)\u001b[0m\u001b[0;34m\u001b[0m\u001b[0;34m\u001b[0m\u001b[0m\n\u001b[0m\u001b[1;32m    944\u001b[0m \u001b[0;34m\u001b[0m\u001b[0m\n\u001b[1;32m    945\u001b[0m     \u001b[0;32mdef\u001b[0m \u001b[0mclose\u001b[0m\u001b[0;34m(\u001b[0m\u001b[0mself\u001b[0m\u001b[0;34m)\u001b[0m\u001b[0;34m:\u001b[0m\u001b[0;34m\u001b[0m\u001b[0;34m\u001b[0m\u001b[0m\n",
      "\u001b[0;31mHTTPError\u001b[0m: 413 Client Error: Request Entity Too Large for url: https://test-random-305921-default-rtdb.firebaseio.com/websocket_trades/.json"
     ]
    }
   ],
   "source": [
    "my_firebase = firebase.FirebaseApplication('https://test-random-305921-default-rtdb.firebaseio.com/', None)\n",
    "#test=my_firebase.get('/websocket_trades', '')\n",
    "#print(len(test))\n",
    "trades=my_firebase.get('/websocket_trades', '')"
   ]
  },
  {
   "cell_type": "code",
   "execution_count": null,
   "metadata": {},
   "outputs": [],
   "source": [
    "1874872"
   ]
  }
 ]
}